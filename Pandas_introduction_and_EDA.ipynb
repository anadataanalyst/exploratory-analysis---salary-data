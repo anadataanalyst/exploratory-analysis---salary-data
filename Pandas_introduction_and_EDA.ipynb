{
  "cells": [
    {
      "cell_type": "markdown",
      "metadata": {
        "id": "pACR_XeoOk54"
      },
      "source": [
        "#Pandas introduction and exploratory data analysis"
      ]
    },
    {
      "cell_type": "markdown",
      "metadata": {
        "id": "wuS1ANmcOqA-"
      },
      "source": [
        "---\n",
        "In this document I will perform an exploratory data analysis using pandas, numpy, seaborn and matplot. The objective is to put to work my knowledge of these libraries while exploring the database I chose."
      ]
    },
    {
      "cell_type": "markdown",
      "source": [
        "I will search for evidence of differences in salaries depending on sex. For that, the variables considered will be also race, years of experience, age and level of education."
      ],
      "metadata": {
        "id": "YAtV3Aq0RImE"
      }
    },
    {
      "cell_type": "code",
      "execution_count": 2,
      "metadata": {
        "id": "3YgtTWrQfCRZ"
      },
      "outputs": [],
      "source": [
        "# I import the libraries I will be using\n",
        "import numpy as np\n",
        "import pandas as pd\n",
        "\n",
        "import matplotlib as mlt \n",
        "%matplotlib inline\n",
        "import matplotlib.pyplot as plt\n",
        "import seaborn as sns\n",
        "import plotly.express as px\n",
        "from scipy import stats\n",
        "\n",
        "from google.colab import files # Librería propia de google para cargar archivos de forma local"
      ]
    },
    {
      "cell_type": "code",
      "execution_count": null,
      "metadata": {
        "colab": {
          "base_uri": "https://localhost:8080/"
        },
        "id": "rIQOfb44O339",
        "outputId": "17dd01ca-e4a5-4b21-f048-9c2f217f8ac9"
      },
      "outputs": [
        {
          "output_type": "stream",
          "name": "stdout",
          "text": [
            "Looking in indexes: https://pypi.org/simple, https://us-python.pkg.dev/colab-wheels/public/simple/\n",
            "Collecting opendatasets\n",
            "  Downloading opendatasets-0.1.22-py3-none-any.whl (15 kB)\n",
            "Requirement already satisfied: click in /usr/local/lib/python3.9/dist-packages (from opendatasets) (8.1.3)\n",
            "Requirement already satisfied: kaggle in /usr/local/lib/python3.9/dist-packages (from opendatasets) (1.5.13)\n",
            "Requirement already satisfied: tqdm in /usr/local/lib/python3.9/dist-packages (from opendatasets) (4.65.0)\n",
            "Requirement already satisfied: urllib3 in /usr/local/lib/python3.9/dist-packages (from kaggle->opendatasets) (1.26.15)\n",
            "Requirement already satisfied: python-dateutil in /usr/local/lib/python3.9/dist-packages (from kaggle->opendatasets) (2.8.2)\n",
            "Requirement already satisfied: certifi in /usr/local/lib/python3.9/dist-packages (from kaggle->opendatasets) (2022.12.7)\n",
            "Requirement already satisfied: six>=1.10 in /usr/local/lib/python3.9/dist-packages (from kaggle->opendatasets) (1.16.0)\n",
            "Requirement already satisfied: python-slugify in /usr/local/lib/python3.9/dist-packages (from kaggle->opendatasets) (8.0.1)\n",
            "Requirement already satisfied: requests in /usr/local/lib/python3.9/dist-packages (from kaggle->opendatasets) (2.27.1)\n",
            "Requirement already satisfied: text-unidecode>=1.3 in /usr/local/lib/python3.9/dist-packages (from python-slugify->kaggle->opendatasets) (1.3)\n",
            "Requirement already satisfied: charset-normalizer~=2.0.0 in /usr/local/lib/python3.9/dist-packages (from requests->kaggle->opendatasets) (2.0.12)\n",
            "Requirement already satisfied: idna<4,>=2.5 in /usr/local/lib/python3.9/dist-packages (from requests->kaggle->opendatasets) (3.4)\n",
            "Installing collected packages: opendatasets\n",
            "Successfully installed opendatasets-0.1.22\n"
          ]
        }
      ],
      "source": [
        "!pip install opendatasets"
      ]
    },
    {
      "cell_type": "code",
      "execution_count": null,
      "metadata": {
        "id": "eQZcuCdTO68H"
      },
      "outputs": [],
      "source": [
        "import opendatasets as od"
      ]
    },
    {
      "cell_type": "code",
      "execution_count": null,
      "metadata": {
        "id": "776Gbwep7Zbx"
      },
      "outputs": [],
      "source": [
        "od.download('https://www.kaggle.com/datasets/rkiattisak/salaly-prediction-for-beginer')"
      ]
    },
    {
      "cell_type": "code",
      "execution_count": 3,
      "metadata": {
        "colab": {
          "base_uri": "https://localhost:8080/",
          "height": 73
        },
        "id": "_iOc04VDPGFe",
        "outputId": "f74dab20-cc93-4ad2-b7c1-9c225b13da11"
      },
      "outputs": [
        {
          "output_type": "display_data",
          "data": {
            "text/plain": [
              "<IPython.core.display.HTML object>"
            ],
            "text/html": [
              "\n",
              "     <input type=\"file\" id=\"files-1568b55c-7289-4f69-aeb3-e5454ffee991\" name=\"files[]\" multiple disabled\n",
              "        style=\"border:none\" />\n",
              "     <output id=\"result-1568b55c-7289-4f69-aeb3-e5454ffee991\">\n",
              "      Upload widget is only available when the cell has been executed in the\n",
              "      current browser session. Please rerun this cell to enable.\n",
              "      </output>\n",
              "      <script>// Copyright 2017 Google LLC\n",
              "//\n",
              "// Licensed under the Apache License, Version 2.0 (the \"License\");\n",
              "// you may not use this file except in compliance with the License.\n",
              "// You may obtain a copy of the License at\n",
              "//\n",
              "//      http://www.apache.org/licenses/LICENSE-2.0\n",
              "//\n",
              "// Unless required by applicable law or agreed to in writing, software\n",
              "// distributed under the License is distributed on an \"AS IS\" BASIS,\n",
              "// WITHOUT WARRANTIES OR CONDITIONS OF ANY KIND, either express or implied.\n",
              "// See the License for the specific language governing permissions and\n",
              "// limitations under the License.\n",
              "\n",
              "/**\n",
              " * @fileoverview Helpers for google.colab Python module.\n",
              " */\n",
              "(function(scope) {\n",
              "function span(text, styleAttributes = {}) {\n",
              "  const element = document.createElement('span');\n",
              "  element.textContent = text;\n",
              "  for (const key of Object.keys(styleAttributes)) {\n",
              "    element.style[key] = styleAttributes[key];\n",
              "  }\n",
              "  return element;\n",
              "}\n",
              "\n",
              "// Max number of bytes which will be uploaded at a time.\n",
              "const MAX_PAYLOAD_SIZE = 100 * 1024;\n",
              "\n",
              "function _uploadFiles(inputId, outputId) {\n",
              "  const steps = uploadFilesStep(inputId, outputId);\n",
              "  const outputElement = document.getElementById(outputId);\n",
              "  // Cache steps on the outputElement to make it available for the next call\n",
              "  // to uploadFilesContinue from Python.\n",
              "  outputElement.steps = steps;\n",
              "\n",
              "  return _uploadFilesContinue(outputId);\n",
              "}\n",
              "\n",
              "// This is roughly an async generator (not supported in the browser yet),\n",
              "// where there are multiple asynchronous steps and the Python side is going\n",
              "// to poll for completion of each step.\n",
              "// This uses a Promise to block the python side on completion of each step,\n",
              "// then passes the result of the previous step as the input to the next step.\n",
              "function _uploadFilesContinue(outputId) {\n",
              "  const outputElement = document.getElementById(outputId);\n",
              "  const steps = outputElement.steps;\n",
              "\n",
              "  const next = steps.next(outputElement.lastPromiseValue);\n",
              "  return Promise.resolve(next.value.promise).then((value) => {\n",
              "    // Cache the last promise value to make it available to the next\n",
              "    // step of the generator.\n",
              "    outputElement.lastPromiseValue = value;\n",
              "    return next.value.response;\n",
              "  });\n",
              "}\n",
              "\n",
              "/**\n",
              " * Generator function which is called between each async step of the upload\n",
              " * process.\n",
              " * @param {string} inputId Element ID of the input file picker element.\n",
              " * @param {string} outputId Element ID of the output display.\n",
              " * @return {!Iterable<!Object>} Iterable of next steps.\n",
              " */\n",
              "function* uploadFilesStep(inputId, outputId) {\n",
              "  const inputElement = document.getElementById(inputId);\n",
              "  inputElement.disabled = false;\n",
              "\n",
              "  const outputElement = document.getElementById(outputId);\n",
              "  outputElement.innerHTML = '';\n",
              "\n",
              "  const pickedPromise = new Promise((resolve) => {\n",
              "    inputElement.addEventListener('change', (e) => {\n",
              "      resolve(e.target.files);\n",
              "    });\n",
              "  });\n",
              "\n",
              "  const cancel = document.createElement('button');\n",
              "  inputElement.parentElement.appendChild(cancel);\n",
              "  cancel.textContent = 'Cancel upload';\n",
              "  const cancelPromise = new Promise((resolve) => {\n",
              "    cancel.onclick = () => {\n",
              "      resolve(null);\n",
              "    };\n",
              "  });\n",
              "\n",
              "  // Wait for the user to pick the files.\n",
              "  const files = yield {\n",
              "    promise: Promise.race([pickedPromise, cancelPromise]),\n",
              "    response: {\n",
              "      action: 'starting',\n",
              "    }\n",
              "  };\n",
              "\n",
              "  cancel.remove();\n",
              "\n",
              "  // Disable the input element since further picks are not allowed.\n",
              "  inputElement.disabled = true;\n",
              "\n",
              "  if (!files) {\n",
              "    return {\n",
              "      response: {\n",
              "        action: 'complete',\n",
              "      }\n",
              "    };\n",
              "  }\n",
              "\n",
              "  for (const file of files) {\n",
              "    const li = document.createElement('li');\n",
              "    li.append(span(file.name, {fontWeight: 'bold'}));\n",
              "    li.append(span(\n",
              "        `(${file.type || 'n/a'}) - ${file.size} bytes, ` +\n",
              "        `last modified: ${\n",
              "            file.lastModifiedDate ? file.lastModifiedDate.toLocaleDateString() :\n",
              "                                    'n/a'} - `));\n",
              "    const percent = span('0% done');\n",
              "    li.appendChild(percent);\n",
              "\n",
              "    outputElement.appendChild(li);\n",
              "\n",
              "    const fileDataPromise = new Promise((resolve) => {\n",
              "      const reader = new FileReader();\n",
              "      reader.onload = (e) => {\n",
              "        resolve(e.target.result);\n",
              "      };\n",
              "      reader.readAsArrayBuffer(file);\n",
              "    });\n",
              "    // Wait for the data to be ready.\n",
              "    let fileData = yield {\n",
              "      promise: fileDataPromise,\n",
              "      response: {\n",
              "        action: 'continue',\n",
              "      }\n",
              "    };\n",
              "\n",
              "    // Use a chunked sending to avoid message size limits. See b/62115660.\n",
              "    let position = 0;\n",
              "    do {\n",
              "      const length = Math.min(fileData.byteLength - position, MAX_PAYLOAD_SIZE);\n",
              "      const chunk = new Uint8Array(fileData, position, length);\n",
              "      position += length;\n",
              "\n",
              "      const base64 = btoa(String.fromCharCode.apply(null, chunk));\n",
              "      yield {\n",
              "        response: {\n",
              "          action: 'append',\n",
              "          file: file.name,\n",
              "          data: base64,\n",
              "        },\n",
              "      };\n",
              "\n",
              "      let percentDone = fileData.byteLength === 0 ?\n",
              "          100 :\n",
              "          Math.round((position / fileData.byteLength) * 100);\n",
              "      percent.textContent = `${percentDone}% done`;\n",
              "\n",
              "    } while (position < fileData.byteLength);\n",
              "  }\n",
              "\n",
              "  // All done.\n",
              "  yield {\n",
              "    response: {\n",
              "      action: 'complete',\n",
              "    }\n",
              "  };\n",
              "}\n",
              "\n",
              "scope.google = scope.google || {};\n",
              "scope.google.colab = scope.google.colab || {};\n",
              "scope.google.colab._files = {\n",
              "  _uploadFiles,\n",
              "  _uploadFilesContinue,\n",
              "};\n",
              "})(self);\n",
              "</script> "
            ]
          },
          "metadata": {}
        },
        {
          "output_type": "stream",
          "name": "stdout",
          "text": [
            "Saving Salary Data.csv to Salary Data.csv\n"
          ]
        }
      ],
      "source": [
        "uploaded = files.upload()"
      ]
    },
    {
      "cell_type": "markdown",
      "metadata": {
        "id": "YUFqaQkp3Tc5"
      },
      "source": [
        "##About the dataset"
      ]
    },
    {
      "cell_type": "markdown",
      "metadata": {
        "id": "xLfKNuPe3V7d"
      },
      "source": [
        "The database contains information about the salaries of employees at a company. Each row represents a different employee, and the columns include information such as age, gender, education level, job title, years of experience, and salary."
      ]
    },
    {
      "cell_type": "markdown",
      "metadata": {
        "id": "_3bKQyQQ3qyT"
      },
      "source": [
        "Source: https://www.kaggle.com/datasets/rkiattisak/salaly-prediction-for-beginer"
      ]
    },
    {
      "cell_type": "markdown",
      "metadata": {
        "id": "a7sSUHrb30NX"
      },
      "source": [
        "**Variables**"
      ]
    },
    {
      "cell_type": "markdown",
      "metadata": {
        "id": "OKG7P-pM38S-"
      },
      "source": [
        "*   *Age*: This column represents the age of each employee in years. The values in this column are numeric.\n",
        "\n",
        "*   *Gender*: This column contains the gender of each employee, which can be either male or female. The values in this column are categorical.\n",
        "\n",
        "*   *Education Level*: This column contains the educational level of each employee, which can be high school, bachelor's degree, master's degree, or PhD. The values in this column are categorical.\n",
        "\n",
        "*   *Job Title*: This column contains the job title of each employee. The job titles can vary depending on the company and may include positions such as manager, analyst, engineer, or administrator. The values in this column are categorical.\n",
        "\n",
        "*   *Years of Experience*: This column represents the number of years of work experience of each employee. The values in this column are numeric.\n",
        "\n",
        "*   *Salary*: This column represents the annual salary of each employee in US dollars. The values in this column are numeric and can vary depending on factors such as job title, years of experience, and education level."
      ]
    },
    {
      "cell_type": "code",
      "execution_count": 4,
      "metadata": {
        "colab": {
          "base_uri": "https://localhost:8080/",
          "height": 363
        },
        "id": "YEuv1MxEPpsE",
        "outputId": "e31a98e5-1cc1-4319-8520-eb1be0a025a5"
      },
      "outputs": [
        {
          "output_type": "execute_result",
          "data": {
            "text/plain": [
              "    Age  Gender Education Level              Job Title  Years of Experience  \\\n",
              "0  32.0    Male      Bachelor's      Software Engineer                  5.0   \n",
              "1  28.0  Female        Master's           Data Analyst                  3.0   \n",
              "2  45.0    Male             PhD         Senior Manager                 15.0   \n",
              "3  36.0  Female      Bachelor's        Sales Associate                  7.0   \n",
              "4  52.0    Male        Master's               Director                 20.0   \n",
              "5  29.0    Male      Bachelor's      Marketing Analyst                  2.0   \n",
              "6  42.0  Female        Master's        Product Manager                 12.0   \n",
              "7  31.0    Male      Bachelor's          Sales Manager                  4.0   \n",
              "8  26.0  Female      Bachelor's  Marketing Coordinator                  1.0   \n",
              "9  38.0    Male             PhD       Senior Scientist                 10.0   \n",
              "\n",
              "     Salary  \n",
              "0   90000.0  \n",
              "1   65000.0  \n",
              "2  150000.0  \n",
              "3   60000.0  \n",
              "4  200000.0  \n",
              "5   55000.0  \n",
              "6  120000.0  \n",
              "7   80000.0  \n",
              "8   45000.0  \n",
              "9  110000.0  "
            ],
            "text/html": [
              "\n",
              "  <div id=\"df-12107561-6fad-49a0-9292-a53722c91d89\">\n",
              "    <div class=\"colab-df-container\">\n",
              "      <div>\n",
              "<style scoped>\n",
              "    .dataframe tbody tr th:only-of-type {\n",
              "        vertical-align: middle;\n",
              "    }\n",
              "\n",
              "    .dataframe tbody tr th {\n",
              "        vertical-align: top;\n",
              "    }\n",
              "\n",
              "    .dataframe thead th {\n",
              "        text-align: right;\n",
              "    }\n",
              "</style>\n",
              "<table border=\"1\" class=\"dataframe\">\n",
              "  <thead>\n",
              "    <tr style=\"text-align: right;\">\n",
              "      <th></th>\n",
              "      <th>Age</th>\n",
              "      <th>Gender</th>\n",
              "      <th>Education Level</th>\n",
              "      <th>Job Title</th>\n",
              "      <th>Years of Experience</th>\n",
              "      <th>Salary</th>\n",
              "    </tr>\n",
              "  </thead>\n",
              "  <tbody>\n",
              "    <tr>\n",
              "      <th>0</th>\n",
              "      <td>32.0</td>\n",
              "      <td>Male</td>\n",
              "      <td>Bachelor's</td>\n",
              "      <td>Software Engineer</td>\n",
              "      <td>5.0</td>\n",
              "      <td>90000.0</td>\n",
              "    </tr>\n",
              "    <tr>\n",
              "      <th>1</th>\n",
              "      <td>28.0</td>\n",
              "      <td>Female</td>\n",
              "      <td>Master's</td>\n",
              "      <td>Data Analyst</td>\n",
              "      <td>3.0</td>\n",
              "      <td>65000.0</td>\n",
              "    </tr>\n",
              "    <tr>\n",
              "      <th>2</th>\n",
              "      <td>45.0</td>\n",
              "      <td>Male</td>\n",
              "      <td>PhD</td>\n",
              "      <td>Senior Manager</td>\n",
              "      <td>15.0</td>\n",
              "      <td>150000.0</td>\n",
              "    </tr>\n",
              "    <tr>\n",
              "      <th>3</th>\n",
              "      <td>36.0</td>\n",
              "      <td>Female</td>\n",
              "      <td>Bachelor's</td>\n",
              "      <td>Sales Associate</td>\n",
              "      <td>7.0</td>\n",
              "      <td>60000.0</td>\n",
              "    </tr>\n",
              "    <tr>\n",
              "      <th>4</th>\n",
              "      <td>52.0</td>\n",
              "      <td>Male</td>\n",
              "      <td>Master's</td>\n",
              "      <td>Director</td>\n",
              "      <td>20.0</td>\n",
              "      <td>200000.0</td>\n",
              "    </tr>\n",
              "    <tr>\n",
              "      <th>5</th>\n",
              "      <td>29.0</td>\n",
              "      <td>Male</td>\n",
              "      <td>Bachelor's</td>\n",
              "      <td>Marketing Analyst</td>\n",
              "      <td>2.0</td>\n",
              "      <td>55000.0</td>\n",
              "    </tr>\n",
              "    <tr>\n",
              "      <th>6</th>\n",
              "      <td>42.0</td>\n",
              "      <td>Female</td>\n",
              "      <td>Master's</td>\n",
              "      <td>Product Manager</td>\n",
              "      <td>12.0</td>\n",
              "      <td>120000.0</td>\n",
              "    </tr>\n",
              "    <tr>\n",
              "      <th>7</th>\n",
              "      <td>31.0</td>\n",
              "      <td>Male</td>\n",
              "      <td>Bachelor's</td>\n",
              "      <td>Sales Manager</td>\n",
              "      <td>4.0</td>\n",
              "      <td>80000.0</td>\n",
              "    </tr>\n",
              "    <tr>\n",
              "      <th>8</th>\n",
              "      <td>26.0</td>\n",
              "      <td>Female</td>\n",
              "      <td>Bachelor's</td>\n",
              "      <td>Marketing Coordinator</td>\n",
              "      <td>1.0</td>\n",
              "      <td>45000.0</td>\n",
              "    </tr>\n",
              "    <tr>\n",
              "      <th>9</th>\n",
              "      <td>38.0</td>\n",
              "      <td>Male</td>\n",
              "      <td>PhD</td>\n",
              "      <td>Senior Scientist</td>\n",
              "      <td>10.0</td>\n",
              "      <td>110000.0</td>\n",
              "    </tr>\n",
              "  </tbody>\n",
              "</table>\n",
              "</div>\n",
              "      <button class=\"colab-df-convert\" onclick=\"convertToInteractive('df-12107561-6fad-49a0-9292-a53722c91d89')\"\n",
              "              title=\"Convert this dataframe to an interactive table.\"\n",
              "              style=\"display:none;\">\n",
              "        \n",
              "  <svg xmlns=\"http://www.w3.org/2000/svg\" height=\"24px\"viewBox=\"0 0 24 24\"\n",
              "       width=\"24px\">\n",
              "    <path d=\"M0 0h24v24H0V0z\" fill=\"none\"/>\n",
              "    <path d=\"M18.56 5.44l.94 2.06.94-2.06 2.06-.94-2.06-.94-.94-2.06-.94 2.06-2.06.94zm-11 1L8.5 8.5l.94-2.06 2.06-.94-2.06-.94L8.5 2.5l-.94 2.06-2.06.94zm10 10l.94 2.06.94-2.06 2.06-.94-2.06-.94-.94-2.06-.94 2.06-2.06.94z\"/><path d=\"M17.41 7.96l-1.37-1.37c-.4-.4-.92-.59-1.43-.59-.52 0-1.04.2-1.43.59L10.3 9.45l-7.72 7.72c-.78.78-.78 2.05 0 2.83L4 21.41c.39.39.9.59 1.41.59.51 0 1.02-.2 1.41-.59l7.78-7.78 2.81-2.81c.8-.78.8-2.07 0-2.86zM5.41 20L4 18.59l7.72-7.72 1.47 1.35L5.41 20z\"/>\n",
              "  </svg>\n",
              "      </button>\n",
              "      \n",
              "  <style>\n",
              "    .colab-df-container {\n",
              "      display:flex;\n",
              "      flex-wrap:wrap;\n",
              "      gap: 12px;\n",
              "    }\n",
              "\n",
              "    .colab-df-convert {\n",
              "      background-color: #E8F0FE;\n",
              "      border: none;\n",
              "      border-radius: 50%;\n",
              "      cursor: pointer;\n",
              "      display: none;\n",
              "      fill: #1967D2;\n",
              "      height: 32px;\n",
              "      padding: 0 0 0 0;\n",
              "      width: 32px;\n",
              "    }\n",
              "\n",
              "    .colab-df-convert:hover {\n",
              "      background-color: #E2EBFA;\n",
              "      box-shadow: 0px 1px 2px rgba(60, 64, 67, 0.3), 0px 1px 3px 1px rgba(60, 64, 67, 0.15);\n",
              "      fill: #174EA6;\n",
              "    }\n",
              "\n",
              "    [theme=dark] .colab-df-convert {\n",
              "      background-color: #3B4455;\n",
              "      fill: #D2E3FC;\n",
              "    }\n",
              "\n",
              "    [theme=dark] .colab-df-convert:hover {\n",
              "      background-color: #434B5C;\n",
              "      box-shadow: 0px 1px 3px 1px rgba(0, 0, 0, 0.15);\n",
              "      filter: drop-shadow(0px 1px 2px rgba(0, 0, 0, 0.3));\n",
              "      fill: #FFFFFF;\n",
              "    }\n",
              "  </style>\n",
              "\n",
              "      <script>\n",
              "        const buttonEl =\n",
              "          document.querySelector('#df-12107561-6fad-49a0-9292-a53722c91d89 button.colab-df-convert');\n",
              "        buttonEl.style.display =\n",
              "          google.colab.kernel.accessAllowed ? 'block' : 'none';\n",
              "\n",
              "        async function convertToInteractive(key) {\n",
              "          const element = document.querySelector('#df-12107561-6fad-49a0-9292-a53722c91d89');\n",
              "          const dataTable =\n",
              "            await google.colab.kernel.invokeFunction('convertToInteractive',\n",
              "                                                     [key], {});\n",
              "          if (!dataTable) return;\n",
              "\n",
              "          const docLinkHtml = 'Like what you see? Visit the ' +\n",
              "            '<a target=\"_blank\" href=https://colab.research.google.com/notebooks/data_table.ipynb>data table notebook</a>'\n",
              "            + ' to learn more about interactive tables.';\n",
              "          element.innerHTML = '';\n",
              "          dataTable['output_type'] = 'display_data';\n",
              "          await google.colab.output.renderOutput(dataTable, element);\n",
              "          const docLink = document.createElement('div');\n",
              "          docLink.innerHTML = docLinkHtml;\n",
              "          element.appendChild(docLink);\n",
              "        }\n",
              "      </script>\n",
              "    </div>\n",
              "  </div>\n",
              "  "
            ]
          },
          "metadata": {},
          "execution_count": 4
        }
      ],
      "source": [
        "#I will import the dataset \n",
        "df=pd.read_csv('Salary Data.csv')\n",
        "df.head(10)"
      ]
    },
    {
      "cell_type": "code",
      "execution_count": 5,
      "metadata": {
        "colab": {
          "base_uri": "https://localhost:8080/"
        },
        "id": "9Go6GWwUPlRv",
        "outputId": "40030b87-eec0-4a78-ed7d-f8bae1eb87e3"
      },
      "outputs": [
        {
          "output_type": "stream",
          "name": "stdout",
          "text": [
            "<class 'pandas.core.frame.DataFrame'>\n",
            "RangeIndex: 375 entries, 0 to 374\n",
            "Data columns (total 6 columns):\n",
            " #   Column               Non-Null Count  Dtype  \n",
            "---  ------               --------------  -----  \n",
            " 0   Age                  373 non-null    float64\n",
            " 1   Gender               373 non-null    object \n",
            " 2   Education Level      373 non-null    object \n",
            " 3   Job Title            373 non-null    object \n",
            " 4   Years of Experience  373 non-null    float64\n",
            " 5   Salary               373 non-null    float64\n",
            "dtypes: float64(3), object(3)\n",
            "memory usage: 17.7+ KB\n"
          ]
        }
      ],
      "source": [
        "# Some exploratory commands\n",
        "df.info()"
      ]
    },
    {
      "cell_type": "markdown",
      "metadata": {
        "id": "xzUbiax-QBvo"
      },
      "source": [
        "The database contains 375 entries and 6 variables. As mentioned above, it is a cross sectional dataset. I need to transform the variables `Gender`, `Job Title` and `Education Level` in order to be able to perform operations with them. "
      ]
    },
    {
      "cell_type": "markdown",
      "metadata": {
        "id": "D9NFgUhsNldu"
      },
      "source": [
        "##Previous data treatment"
      ]
    },
    {
      "cell_type": "code",
      "execution_count": 6,
      "metadata": {
        "colab": {
          "base_uri": "https://localhost:8080/"
        },
        "id": "4BjcGZEAYLKa",
        "outputId": "4118826e-c758-48bf-f193-797579dbe062"
      },
      "outputs": [
        {
          "output_type": "stream",
          "name": "stdout",
          "text": [
            "Absolute frequency for Gender:\n",
            "Male      194\n",
            "Female    179\n",
            "Name: Gender, dtype: int64\n",
            "\n",
            "\n",
            "Absolute frequency for Education Level:\n",
            "Bachelor's    224\n",
            "Master's       98\n",
            "PhD            51\n",
            "Name: Education Level, dtype: int64\n",
            "\n",
            "\n"
          ]
        }
      ],
      "source": [
        "# First, I need to know all possible values of each variable \n",
        "for col in ['Gender', 'Education Level']:\n",
        "    freq = df[col].value_counts()\n",
        "    print(f'Absolute frequency for {col}:')\n",
        "    print(freq)\n",
        "    print('\\n')"
      ]
    },
    {
      "cell_type": "code",
      "execution_count": 7,
      "metadata": {
        "colab": {
          "base_uri": "https://localhost:8080/"
        },
        "id": "lxbVwewkYvEA",
        "outputId": "09aef9f7-36d0-403a-a875-e59f48d19831"
      },
      "outputs": [
        {
          "output_type": "stream",
          "name": "stdout",
          "text": [
            "['Software Engineer' 'Data Analyst' 'Senior Manager' 'Sales Associate'\n",
            " 'Director' 'Marketing Analyst' 'Product Manager' 'Sales Manager'\n",
            " 'Marketing Coordinator' 'Senior Scientist' 'Software Developer'\n",
            " 'HR Manager' 'Financial Analyst' 'Project Manager' 'Customer Service Rep'\n",
            " 'Operations Manager' 'Marketing Manager' 'Senior Engineer'\n",
            " 'Data Entry Clerk' 'Sales Director' 'Business Analyst' 'VP of Operations'\n",
            " 'IT Support' 'Recruiter' 'Financial Manager' 'Social Media Specialist'\n",
            " 'Software Manager' 'Junior Developer' 'Senior Consultant'\n",
            " 'Product Designer' 'CEO' 'Accountant' 'Data Scientist'\n",
            " 'Marketing Specialist' 'Technical Writer' 'HR Generalist'\n",
            " 'Project Engineer' 'Customer Success Rep' 'Sales Executive' 'UX Designer'\n",
            " 'Operations Director' 'Network Engineer' 'Administrative Assistant'\n",
            " 'Strategy Consultant' 'Copywriter' 'Account Manager'\n",
            " 'Director of Marketing' 'Help Desk Analyst' 'Customer Service Manager'\n",
            " 'Business Intelligence Analyst' 'Event Coordinator' 'VP of Finance'\n",
            " 'Graphic Designer' 'UX Researcher' 'Social Media Manager'\n",
            " 'Director of Operations' 'Senior Data Scientist' 'Junior Accountant'\n",
            " 'Digital Marketing Manager' 'IT Manager'\n",
            " 'Customer Service Representative' 'Business Development Manager'\n",
            " 'Senior Financial Analyst' 'Web Developer' 'Research Director'\n",
            " 'Technical Support Specialist' 'Creative Director'\n",
            " 'Senior Software Engineer' 'Human Resources Director'\n",
            " 'Content Marketing Manager' 'Technical Recruiter' 'Sales Representative'\n",
            " 'Chief Technology Officer' 'Junior Designer' 'Financial Advisor'\n",
            " 'Junior Account Manager' 'Senior Project Manager' 'Principal Scientist'\n",
            " 'Supply Chain Manager' 'Senior Marketing Manager' 'Training Specialist'\n",
            " 'Research Scientist' 'Junior Software Developer'\n",
            " 'Public Relations Manager' 'Operations Analyst'\n",
            " 'Product Marketing Manager' 'Senior HR Manager' 'Junior Web Developer'\n",
            " 'Senior Project Coordinator' 'Chief Data Officer'\n",
            " 'Digital Content Producer' 'IT Support Specialist'\n",
            " 'Senior Marketing Analyst' 'Customer Success Manager'\n",
            " 'Senior Graphic Designer' 'Software Project Manager'\n",
            " 'Supply Chain Analyst' 'Senior Business Analyst'\n",
            " 'Junior Marketing Analyst' 'Office Manager' 'Principal Engineer'\n",
            " 'Junior HR Generalist' 'Senior Product Manager'\n",
            " 'Junior Operations Analyst' 'Senior HR Generalist'\n",
            " 'Sales Operations Manager' 'Senior Software Developer'\n",
            " 'Junior Web Designer' 'Senior Training Specialist'\n",
            " 'Senior Research Scientist' 'Junior Sales Representative'\n",
            " 'Junior Marketing Manager' 'Junior Data Analyst'\n",
            " 'Senior Product Marketing Manager' 'Junior Business Analyst'\n",
            " 'Senior Sales Manager' 'Junior Marketing Specialist'\n",
            " 'Junior Project Manager' 'Senior Accountant' 'Director of Sales'\n",
            " 'Junior Recruiter' 'Senior Business Development Manager'\n",
            " 'Senior Product Designer' 'Junior Customer Support Specialist'\n",
            " 'Senior IT Support Specialist' 'Junior Financial Analyst'\n",
            " 'Senior Operations Manager' 'Director of Human Resources'\n",
            " 'Junior Software Engineer' 'Senior Sales Representative'\n",
            " 'Director of Product Management' 'Junior Copywriter'\n",
            " 'Senior Marketing Coordinator' 'Senior Human Resources Manager'\n",
            " 'Junior Business Development Associate' 'Senior Account Manager'\n",
            " 'Senior Researcher' 'Junior HR Coordinator' 'Director of Finance'\n",
            " 'Junior Marketing Coordinator' nan 'Junior Data Scientist'\n",
            " 'Senior Operations Analyst' 'Senior Human Resources Coordinator'\n",
            " 'Senior UX Designer' 'Junior Product Manager'\n",
            " 'Senior Marketing Specialist' 'Senior IT Project Manager'\n",
            " 'Senior Quality Assurance Analyst' 'Director of Sales and Marketing'\n",
            " 'Senior Account Executive' 'Director of Business Development'\n",
            " 'Junior Social Media Manager' 'Senior Human Resources Specialist'\n",
            " 'Senior Data Analyst' 'Director of Human Capital'\n",
            " 'Junior Advertising Coordinator' 'Junior UX Designer'\n",
            " 'Senior Marketing Director' 'Senior IT Consultant'\n",
            " 'Senior Financial Advisor' 'Junior Business Operations Analyst'\n",
            " 'Junior Social Media Specialist' 'Senior Product Development Manager'\n",
            " 'Junior Operations Manager' 'Senior Software Architect'\n",
            " 'Junior Research Scientist' 'Senior Financial Manager'\n",
            " 'Senior HR Specialist' 'Senior Data Engineer'\n",
            " 'Junior Operations Coordinator' 'Director of HR'\n",
            " 'Senior Operations Coordinator' 'Junior Financial Advisor'\n",
            " 'Director of Engineering']\n"
          ]
        },
        {
          "output_type": "execute_result",
          "data": {
            "text/plain": [
              "175"
            ]
          },
          "metadata": {},
          "execution_count": 7
        }
      ],
      "source": [
        "job_titles = df['Job Title'].unique()\n",
        "print(job_titles)\n",
        "len(job_titles)"
      ]
    },
    {
      "cell_type": "markdown",
      "metadata": {
        "id": "w73CnjYKankP"
      },
      "source": [
        "To transform these variables, I can define dictionaries for `Gender` and  `Education Level`. For the variable `Job Title`, the treatment should be different due to the fact that it cointains many possible values (175!). In order to be able to handle this, I will classificate this variable into lesser categories. This will probably increase the measurement error of the variable, but it will allow me to perform operations on the variable. Of course, other categorization could be possible.\n",
        "\n",
        "\n"
      ]
    },
    {
      "cell_type": "code",
      "execution_count": 8,
      "metadata": {
        "colab": {
          "base_uri": "https://localhost:8080/",
          "height": 206
        },
        "id": "UuW5MwS2P_kz",
        "outputId": "0b1b1f3d-c3d6-4283-9782-c457d914690f"
      },
      "outputs": [
        {
          "output_type": "execute_result",
          "data": {
            "text/plain": [
              "    Age  Gender Education Level          Job Title  Years of Experience  \\\n",
              "0  32.0    Male      Bachelor's  Software Engineer                  5.0   \n",
              "1  28.0  Female        Master's       Data Analyst                  3.0   \n",
              "2  45.0    Male             PhD     Senior Manager                 15.0   \n",
              "3  36.0  Female      Bachelor's    Sales Associate                  7.0   \n",
              "4  52.0    Male        Master's           Director                 20.0   \n",
              "\n",
              "     Salary gender_str  \n",
              "0   90000.0       Male  \n",
              "1   65000.0     Female  \n",
              "2  150000.0       Male  \n",
              "3   60000.0     Female  \n",
              "4  200000.0       Male  "
            ],
            "text/html": [
              "\n",
              "  <div id=\"df-cbb7030a-353b-4c93-96c1-7103f483b310\">\n",
              "    <div class=\"colab-df-container\">\n",
              "      <div>\n",
              "<style scoped>\n",
              "    .dataframe tbody tr th:only-of-type {\n",
              "        vertical-align: middle;\n",
              "    }\n",
              "\n",
              "    .dataframe tbody tr th {\n",
              "        vertical-align: top;\n",
              "    }\n",
              "\n",
              "    .dataframe thead th {\n",
              "        text-align: right;\n",
              "    }\n",
              "</style>\n",
              "<table border=\"1\" class=\"dataframe\">\n",
              "  <thead>\n",
              "    <tr style=\"text-align: right;\">\n",
              "      <th></th>\n",
              "      <th>Age</th>\n",
              "      <th>Gender</th>\n",
              "      <th>Education Level</th>\n",
              "      <th>Job Title</th>\n",
              "      <th>Years of Experience</th>\n",
              "      <th>Salary</th>\n",
              "      <th>gender_str</th>\n",
              "    </tr>\n",
              "  </thead>\n",
              "  <tbody>\n",
              "    <tr>\n",
              "      <th>0</th>\n",
              "      <td>32.0</td>\n",
              "      <td>Male</td>\n",
              "      <td>Bachelor's</td>\n",
              "      <td>Software Engineer</td>\n",
              "      <td>5.0</td>\n",
              "      <td>90000.0</td>\n",
              "      <td>Male</td>\n",
              "    </tr>\n",
              "    <tr>\n",
              "      <th>1</th>\n",
              "      <td>28.0</td>\n",
              "      <td>Female</td>\n",
              "      <td>Master's</td>\n",
              "      <td>Data Analyst</td>\n",
              "      <td>3.0</td>\n",
              "      <td>65000.0</td>\n",
              "      <td>Female</td>\n",
              "    </tr>\n",
              "    <tr>\n",
              "      <th>2</th>\n",
              "      <td>45.0</td>\n",
              "      <td>Male</td>\n",
              "      <td>PhD</td>\n",
              "      <td>Senior Manager</td>\n",
              "      <td>15.0</td>\n",
              "      <td>150000.0</td>\n",
              "      <td>Male</td>\n",
              "    </tr>\n",
              "    <tr>\n",
              "      <th>3</th>\n",
              "      <td>36.0</td>\n",
              "      <td>Female</td>\n",
              "      <td>Bachelor's</td>\n",
              "      <td>Sales Associate</td>\n",
              "      <td>7.0</td>\n",
              "      <td>60000.0</td>\n",
              "      <td>Female</td>\n",
              "    </tr>\n",
              "    <tr>\n",
              "      <th>4</th>\n",
              "      <td>52.0</td>\n",
              "      <td>Male</td>\n",
              "      <td>Master's</td>\n",
              "      <td>Director</td>\n",
              "      <td>20.0</td>\n",
              "      <td>200000.0</td>\n",
              "      <td>Male</td>\n",
              "    </tr>\n",
              "  </tbody>\n",
              "</table>\n",
              "</div>\n",
              "      <button class=\"colab-df-convert\" onclick=\"convertToInteractive('df-cbb7030a-353b-4c93-96c1-7103f483b310')\"\n",
              "              title=\"Convert this dataframe to an interactive table.\"\n",
              "              style=\"display:none;\">\n",
              "        \n",
              "  <svg xmlns=\"http://www.w3.org/2000/svg\" height=\"24px\"viewBox=\"0 0 24 24\"\n",
              "       width=\"24px\">\n",
              "    <path d=\"M0 0h24v24H0V0z\" fill=\"none\"/>\n",
              "    <path d=\"M18.56 5.44l.94 2.06.94-2.06 2.06-.94-2.06-.94-.94-2.06-.94 2.06-2.06.94zm-11 1L8.5 8.5l.94-2.06 2.06-.94-2.06-.94L8.5 2.5l-.94 2.06-2.06.94zm10 10l.94 2.06.94-2.06 2.06-.94-2.06-.94-.94-2.06-.94 2.06-2.06.94z\"/><path d=\"M17.41 7.96l-1.37-1.37c-.4-.4-.92-.59-1.43-.59-.52 0-1.04.2-1.43.59L10.3 9.45l-7.72 7.72c-.78.78-.78 2.05 0 2.83L4 21.41c.39.39.9.59 1.41.59.51 0 1.02-.2 1.41-.59l7.78-7.78 2.81-2.81c.8-.78.8-2.07 0-2.86zM5.41 20L4 18.59l7.72-7.72 1.47 1.35L5.41 20z\"/>\n",
              "  </svg>\n",
              "      </button>\n",
              "      \n",
              "  <style>\n",
              "    .colab-df-container {\n",
              "      display:flex;\n",
              "      flex-wrap:wrap;\n",
              "      gap: 12px;\n",
              "    }\n",
              "\n",
              "    .colab-df-convert {\n",
              "      background-color: #E8F0FE;\n",
              "      border: none;\n",
              "      border-radius: 50%;\n",
              "      cursor: pointer;\n",
              "      display: none;\n",
              "      fill: #1967D2;\n",
              "      height: 32px;\n",
              "      padding: 0 0 0 0;\n",
              "      width: 32px;\n",
              "    }\n",
              "\n",
              "    .colab-df-convert:hover {\n",
              "      background-color: #E2EBFA;\n",
              "      box-shadow: 0px 1px 2px rgba(60, 64, 67, 0.3), 0px 1px 3px 1px rgba(60, 64, 67, 0.15);\n",
              "      fill: #174EA6;\n",
              "    }\n",
              "\n",
              "    [theme=dark] .colab-df-convert {\n",
              "      background-color: #3B4455;\n",
              "      fill: #D2E3FC;\n",
              "    }\n",
              "\n",
              "    [theme=dark] .colab-df-convert:hover {\n",
              "      background-color: #434B5C;\n",
              "      box-shadow: 0px 1px 3px 1px rgba(0, 0, 0, 0.15);\n",
              "      filter: drop-shadow(0px 1px 2px rgba(0, 0, 0, 0.3));\n",
              "      fill: #FFFFFF;\n",
              "    }\n",
              "  </style>\n",
              "\n",
              "      <script>\n",
              "        const buttonEl =\n",
              "          document.querySelector('#df-cbb7030a-353b-4c93-96c1-7103f483b310 button.colab-df-convert');\n",
              "        buttonEl.style.display =\n",
              "          google.colab.kernel.accessAllowed ? 'block' : 'none';\n",
              "\n",
              "        async function convertToInteractive(key) {\n",
              "          const element = document.querySelector('#df-cbb7030a-353b-4c93-96c1-7103f483b310');\n",
              "          const dataTable =\n",
              "            await google.colab.kernel.invokeFunction('convertToInteractive',\n",
              "                                                     [key], {});\n",
              "          if (!dataTable) return;\n",
              "\n",
              "          const docLinkHtml = 'Like what you see? Visit the ' +\n",
              "            '<a target=\"_blank\" href=https://colab.research.google.com/notebooks/data_table.ipynb>data table notebook</a>'\n",
              "            + ' to learn more about interactive tables.';\n",
              "          element.innerHTML = '';\n",
              "          dataTable['output_type'] = 'display_data';\n",
              "          await google.colab.output.renderOutput(dataTable, element);\n",
              "          const docLink = document.createElement('div');\n",
              "          docLink.innerHTML = docLinkHtml;\n",
              "          element.appendChild(docLink);\n",
              "        }\n",
              "      </script>\n",
              "    </div>\n",
              "  </div>\n",
              "  "
            ]
          },
          "metadata": {},
          "execution_count": 8
        }
      ],
      "source": [
        "# Gender\n",
        "gender_dict = {'Male': '1', 'Female': '2'}\n",
        "df['gender_str'] = df['Gender'].map(gender_dict)\n",
        "\n",
        "# The inverted dictionary\n",
        "gender_dict_inv={v: k for k,v in gender_dict.items()}\n",
        "df['gender_str']=df['gender_str'].replace(gender_dict_inv)\n",
        "\n",
        "# Final check\n",
        "df.head()"
      ]
    },
    {
      "cell_type": "code",
      "execution_count": 9,
      "metadata": {
        "colab": {
          "base_uri": "https://localhost:8080/",
          "height": 206
        },
        "id": "xpkobQSYVbVR",
        "outputId": "0c4cc3db-59c9-4df9-a5cc-5c935937daf8"
      },
      "outputs": [
        {
          "output_type": "execute_result",
          "data": {
            "text/plain": [
              "    Age  Gender Education Level          Job Title  Years of Experience  \\\n",
              "0  32.0    Male      Bachelor's  Software Engineer                  5.0   \n",
              "1  28.0  Female        Master's       Data Analyst                  3.0   \n",
              "2  45.0    Male             PhD     Senior Manager                 15.0   \n",
              "3  36.0  Female      Bachelor's    Sales Associate                  7.0   \n",
              "4  52.0    Male        Master's           Director                 20.0   \n",
              "\n",
              "     Salary gender_str education_str  \n",
              "0   90000.0       Male    Bachelor's  \n",
              "1   65000.0     Female      Master's  \n",
              "2  150000.0       Male           PhD  \n",
              "3   60000.0     Female    Bachelor's  \n",
              "4  200000.0       Male      Master's  "
            ],
            "text/html": [
              "\n",
              "  <div id=\"df-4ee53422-465b-4192-895a-5655c23c1cf8\">\n",
              "    <div class=\"colab-df-container\">\n",
              "      <div>\n",
              "<style scoped>\n",
              "    .dataframe tbody tr th:only-of-type {\n",
              "        vertical-align: middle;\n",
              "    }\n",
              "\n",
              "    .dataframe tbody tr th {\n",
              "        vertical-align: top;\n",
              "    }\n",
              "\n",
              "    .dataframe thead th {\n",
              "        text-align: right;\n",
              "    }\n",
              "</style>\n",
              "<table border=\"1\" class=\"dataframe\">\n",
              "  <thead>\n",
              "    <tr style=\"text-align: right;\">\n",
              "      <th></th>\n",
              "      <th>Age</th>\n",
              "      <th>Gender</th>\n",
              "      <th>Education Level</th>\n",
              "      <th>Job Title</th>\n",
              "      <th>Years of Experience</th>\n",
              "      <th>Salary</th>\n",
              "      <th>gender_str</th>\n",
              "      <th>education_str</th>\n",
              "    </tr>\n",
              "  </thead>\n",
              "  <tbody>\n",
              "    <tr>\n",
              "      <th>0</th>\n",
              "      <td>32.0</td>\n",
              "      <td>Male</td>\n",
              "      <td>Bachelor's</td>\n",
              "      <td>Software Engineer</td>\n",
              "      <td>5.0</td>\n",
              "      <td>90000.0</td>\n",
              "      <td>Male</td>\n",
              "      <td>Bachelor's</td>\n",
              "    </tr>\n",
              "    <tr>\n",
              "      <th>1</th>\n",
              "      <td>28.0</td>\n",
              "      <td>Female</td>\n",
              "      <td>Master's</td>\n",
              "      <td>Data Analyst</td>\n",
              "      <td>3.0</td>\n",
              "      <td>65000.0</td>\n",
              "      <td>Female</td>\n",
              "      <td>Master's</td>\n",
              "    </tr>\n",
              "    <tr>\n",
              "      <th>2</th>\n",
              "      <td>45.0</td>\n",
              "      <td>Male</td>\n",
              "      <td>PhD</td>\n",
              "      <td>Senior Manager</td>\n",
              "      <td>15.0</td>\n",
              "      <td>150000.0</td>\n",
              "      <td>Male</td>\n",
              "      <td>PhD</td>\n",
              "    </tr>\n",
              "    <tr>\n",
              "      <th>3</th>\n",
              "      <td>36.0</td>\n",
              "      <td>Female</td>\n",
              "      <td>Bachelor's</td>\n",
              "      <td>Sales Associate</td>\n",
              "      <td>7.0</td>\n",
              "      <td>60000.0</td>\n",
              "      <td>Female</td>\n",
              "      <td>Bachelor's</td>\n",
              "    </tr>\n",
              "    <tr>\n",
              "      <th>4</th>\n",
              "      <td>52.0</td>\n",
              "      <td>Male</td>\n",
              "      <td>Master's</td>\n",
              "      <td>Director</td>\n",
              "      <td>20.0</td>\n",
              "      <td>200000.0</td>\n",
              "      <td>Male</td>\n",
              "      <td>Master's</td>\n",
              "    </tr>\n",
              "  </tbody>\n",
              "</table>\n",
              "</div>\n",
              "      <button class=\"colab-df-convert\" onclick=\"convertToInteractive('df-4ee53422-465b-4192-895a-5655c23c1cf8')\"\n",
              "              title=\"Convert this dataframe to an interactive table.\"\n",
              "              style=\"display:none;\">\n",
              "        \n",
              "  <svg xmlns=\"http://www.w3.org/2000/svg\" height=\"24px\"viewBox=\"0 0 24 24\"\n",
              "       width=\"24px\">\n",
              "    <path d=\"M0 0h24v24H0V0z\" fill=\"none\"/>\n",
              "    <path d=\"M18.56 5.44l.94 2.06.94-2.06 2.06-.94-2.06-.94-.94-2.06-.94 2.06-2.06.94zm-11 1L8.5 8.5l.94-2.06 2.06-.94-2.06-.94L8.5 2.5l-.94 2.06-2.06.94zm10 10l.94 2.06.94-2.06 2.06-.94-2.06-.94-.94-2.06-.94 2.06-2.06.94z\"/><path d=\"M17.41 7.96l-1.37-1.37c-.4-.4-.92-.59-1.43-.59-.52 0-1.04.2-1.43.59L10.3 9.45l-7.72 7.72c-.78.78-.78 2.05 0 2.83L4 21.41c.39.39.9.59 1.41.59.51 0 1.02-.2 1.41-.59l7.78-7.78 2.81-2.81c.8-.78.8-2.07 0-2.86zM5.41 20L4 18.59l7.72-7.72 1.47 1.35L5.41 20z\"/>\n",
              "  </svg>\n",
              "      </button>\n",
              "      \n",
              "  <style>\n",
              "    .colab-df-container {\n",
              "      display:flex;\n",
              "      flex-wrap:wrap;\n",
              "      gap: 12px;\n",
              "    }\n",
              "\n",
              "    .colab-df-convert {\n",
              "      background-color: #E8F0FE;\n",
              "      border: none;\n",
              "      border-radius: 50%;\n",
              "      cursor: pointer;\n",
              "      display: none;\n",
              "      fill: #1967D2;\n",
              "      height: 32px;\n",
              "      padding: 0 0 0 0;\n",
              "      width: 32px;\n",
              "    }\n",
              "\n",
              "    .colab-df-convert:hover {\n",
              "      background-color: #E2EBFA;\n",
              "      box-shadow: 0px 1px 2px rgba(60, 64, 67, 0.3), 0px 1px 3px 1px rgba(60, 64, 67, 0.15);\n",
              "      fill: #174EA6;\n",
              "    }\n",
              "\n",
              "    [theme=dark] .colab-df-convert {\n",
              "      background-color: #3B4455;\n",
              "      fill: #D2E3FC;\n",
              "    }\n",
              "\n",
              "    [theme=dark] .colab-df-convert:hover {\n",
              "      background-color: #434B5C;\n",
              "      box-shadow: 0px 1px 3px 1px rgba(0, 0, 0, 0.15);\n",
              "      filter: drop-shadow(0px 1px 2px rgba(0, 0, 0, 0.3));\n",
              "      fill: #FFFFFF;\n",
              "    }\n",
              "  </style>\n",
              "\n",
              "      <script>\n",
              "        const buttonEl =\n",
              "          document.querySelector('#df-4ee53422-465b-4192-895a-5655c23c1cf8 button.colab-df-convert');\n",
              "        buttonEl.style.display =\n",
              "          google.colab.kernel.accessAllowed ? 'block' : 'none';\n",
              "\n",
              "        async function convertToInteractive(key) {\n",
              "          const element = document.querySelector('#df-4ee53422-465b-4192-895a-5655c23c1cf8');\n",
              "          const dataTable =\n",
              "            await google.colab.kernel.invokeFunction('convertToInteractive',\n",
              "                                                     [key], {});\n",
              "          if (!dataTable) return;\n",
              "\n",
              "          const docLinkHtml = 'Like what you see? Visit the ' +\n",
              "            '<a target=\"_blank\" href=https://colab.research.google.com/notebooks/data_table.ipynb>data table notebook</a>'\n",
              "            + ' to learn more about interactive tables.';\n",
              "          element.innerHTML = '';\n",
              "          dataTable['output_type'] = 'display_data';\n",
              "          await google.colab.output.renderOutput(dataTable, element);\n",
              "          const docLink = document.createElement('div');\n",
              "          docLink.innerHTML = docLinkHtml;\n",
              "          element.appendChild(docLink);\n",
              "        }\n",
              "      </script>\n",
              "    </div>\n",
              "  </div>\n",
              "  "
            ]
          },
          "metadata": {},
          "execution_count": 9
        }
      ],
      "source": [
        "# Education Level\n",
        "education_dict={\"Bachelor's\":'1',\"Master's\":'2','PhD':'3'}\n",
        "df['education_str']=df['Education Level'].map(education_dict)\n",
        "\n",
        "# Inverted dictionary\n",
        "education_dict_inv={v: k for k,v in education_dict.items()}\n",
        "df['education_str']=df['education_str'].replace(education_dict_inv)\n",
        "\n",
        "# Final checks\n",
        "df.head()"
      ]
    },
    {
      "cell_type": "markdown",
      "metadata": {
        "id": "41SJbEFXd1xL"
      },
      "source": [
        "Now, I need to work with the `Job Title` variable. For the moment, I wil define a dictionary to give values if there is a certain word in the occupation name as follows:"
      ]
    },
    {
      "cell_type": "markdown",
      "metadata": {
        "id": "ZvKaKzzu7Pd3"
      },
      "source": [
        "![image.png](data:image/png;base64,iVBORw0KGgoAAAANSUhEUgAAANAAAAD5CAYAAABWB7uKAAAAAXNSR0IArs4c6QAAAARnQU1BAACxjwv8YQUAAAAJcEhZcwAADsMAAA7DAcdvqGQAABjHSURBVHhe7Z1tqF1XWsdPRZFRZ1AZX6YTY8it4jCMMiIRr2nU4DT9INjBKzapH4JgIVXmw0xoEMoQhoCkdPww2BYiSD7lVoyMgh/aCFVzY8Uiig5DRZIQaxvfBh06MxYZQc9v3/0/ee7OPi93r/Oy9jr/HyzOft/nrLX/az1rnfU8+4H/GzIwxnTiG+pPY0wHLCBjErCAjEnAAjImAQvImAQsIGMSsICMScACMiYBC8iYBCwgYxKwgIxJwAIyJgELyJgELCBjErCAjEmgsz/Qxz71F/WSMWXwJ5/9yXppdtwCGZOABWRMAmstoF//+OEqTeJzn/jhesmY+8m2D/QHn/nxwfu+9RvrtcHg7S+9Ozj9m39Tr7Wjc974p68MPvG5v6+3jufyb/zo4IPvf0+91o6uhdB+/ugHBi/84e3B53f+pd57j8/8yocGP/Hh76yWxx1j8qaoPtAvfPqvqocX/vKL/zlVPMA5++G97/mmqiJQeudr/1tt/+TzX6jWEYJAwJP49O++Mfq+Zn1YaxNumuBoRdSSsYyoYsvykcPvq1oes754ECGB86ctnnWnlwKir4O9qkRL0CQekzoQwPnxXiSW6W/R72G5DR2nNG3AwvSP3gkIYYD6LfRNfuvXPlJtEx/6/vcOzl9+o9pPv4T1FFMLM45+mPjC7XcGf3Rj15RjO/dpg++l/XwyCPHxhz9Q7zUl0CsB8fBR63/xzjv1lsHgr//hy9VnrN0RDQ85/M4f36k+D37P5NG2eaPvoxZKI3Qf/YFvrz5NGaxNH0gjbMuGlkqtJYnROlMOvRDQv//X/1SfjIAhhA8futfn+bEf2q3Rf/vz94ac4387v/pzh6rPP/3b/6g+JxH/d5rGtGHtP/+7L1WfmG0CM9L9oLLIejIpnXf6L9TiUSDNP1n530YmG3+Ovvlv745MJpj2x6buE4l/3Db363rxe3B8FC7fGRHF/hn9ILdA+TJuMGgSvRCQ/9lfPvQ3n3rs8H2VVxsqJ6yD/f6ZnRNdBNQLE87iyRtGKaeZtKWSnYCo+eJ/JnH42CwPKi2sjGmtzzLgWch1+D87Ad18+2vVJ53vL3/16+4zrDn8GR0HYnLDHqnmPtT/gdgHag6mxH0M3jA5F1NOx+ynTxQHZHQeLU8UD9dmn66vgZt5PYvF9oHMcsF8izPRQeLRTPW2mRUI4B//+avVfsTFOsKahsx1ziNJSIhTM9z5PoyK0t9CRKA/0VeJBWRmAvFQ4+vvgt//s7erz5/56HdVn8CDrRaJT9an+VsB10U0tAC0RLO2KNxj1mMXhQVkFopai0lowIJjJaRcBw2aWEBmJjClaE008/0Xf/qD1Wec4cHDr/2YZazHeYvj4FhMRPo9EpJaLgaSciZLAZGZudVAfJ84vN4VflvqNVYBfQ9ExMwK8oGZHvRz4n909FO0n/7RrDMvNPDAeaSvvPv1kSkoU5FBDfpT5J/6SPMoj1SyG4Ujg3IcvqZm5eGY5Z/5afAg0AFOvc4i0UjcPH5vX0CQ+yUrATHZkomiy5wOgmDltr0sJMY4hy835ikgKoxJgwmrHggQvRcQP2CZEy4pWOztZQsIVnnvWcA0wgzL5eFeBr0WkMJCNSeOqiBFFJjOEdqn2hO4npZB37uZWWoN2v7Qi/fR99Nx3BNnPdWwscZuu5bQNXNthcifdRIPdBFQNoMI8hjVVB7gIUM8PLQUJp1N+QJFwbGPB5d1BMcDzoMNv/yxg9V+jgPOA63TMWY/DzEZyKgR62zn4UeMiJLrR3AZB+7JPs5BJPpfRJ1btpMkJCEfp5/6kfdXn7nBdzbTyW4ULtbGPJyIRi0S/0SrFkdIPLDap1pfDnZCD3oU5jh4aBAL/SJNF5kGQtV3YPRIzPrn4Hd/xzfXS6aPZP8/EPOrlgWtBg8801E0haQriArRIHIJidbMlEU2AuJBa6JaXGYX0PkGTC2ZWCCTadb5UW0tEuYX34PWrGly7Re+Dy1Z25+DEZlypp9kM4jAA6f+jkwiaA6Bxk63+kGibRAB+K6xg6iOfrw21/3ULz00Wud76Bp3/vW/B4e+91uqZeB8xCaRsf6D3/dte2YJsy1+B7bF8MT67jkPZa8b8RmZleyGsfVwl45a0llifpvl0EVAWfWBaEHi7N5SoYWkpfvs792st5i+kpWAML8wddSfKRVMVVpam279J7tROP6ZZyi61BErBhZynwdnZierPpAxq6T3fSBj+oYFZEwCSSZclybPLAaXRxpd888tkDEJWEDGJNALAT377LODBx54YJReeumles9scHzXc818uH37dpX/pZG9gPTA01UjbW9vD958881q2yzcuHFjcP369dH5jz/+eL3HLIunnnpqsLGxUa+VRfYC4uHf2tqq1waVAJ5++ul6bTpXrlwZnD17tl7brQlp0czyOHbs2ODWrVv1WllkLyAyn9qrq+mFYCJXr14d3Lmz+95UsxyKbvWHZk0nfvaTN+qlxXPx4kWG2qu0s7NTb91laNKN9pE4Vpw4cWLPPs6N6zE1r8OxQ+FWy1wHtE4a1qjVNuCeuvaZM2dG23Qs1140yyyPLpBf5EWudM2/XghI6AHWQ6qHNsIx8YFlPT7s7Isi41pxnevF43UvRKTrcryWo6gE+yQ6aH6HRWABpdE1/3o1jH3z5s3BUDSDF198sTLN6N8MH+Z67y4XLlwYPPPMM/XadF544YXBuXPn6rVBdT3MPOAep06dqpZffvnlyhSh/xSP5zsNBVJ9L3H58uXBK6+8Mhr5Gz48g9dff73ea0qiVwKCo0ePDoa1e712PwcOHKiXZgfRaGBhc3NzJBCExP3EQw89VH02RdvGsBWiuh0lj/6VSfYCevTRR/cMBDAsTa1/+PDhqnWIrQGcPn168OSTT9Zru9y9e7de2qU5iMConq7z1ltvDYZmWyWogwcPVtuAda7LsdMGIY4fP76nFfTIX8Fgx3VhWTa3bGcl+hMR9YOU1DeB2D9RnyQer/4N0K9hG/cjNe/DsTpP133iiSdG25Q4F7iftjWvtQhy7gM1y0h5lBNd88+TSQvB5ZGGJ5MaswIsIGMSsICMScACMiYBC8iYBByVx5iaLqNwHsYuBJdHGh7GNmYFWEDGJFCUgJhvphnQbYl5dGb5kO+xHEqiKAEx0VNdulu3bu2ZDc0M7ocffrianGqWCy4mKgcm6mpWewkUacJttASwwJ8HFwP8dGaZGc0xTXdws39wxSfvBfEpqNxKodg+UNOFAfDJoQa8dOlSvWU8HNN2DbM/2vyg2iq4vrJ2gwiKEKPWBZOu2UciDBPHYPJpe7TjbQZ2BydFTLpSWDsBRRAKzm/Y5ph3r732WrUdN2/6TOpHPfjgg5WYZMfj0Gf2D5UWzogleecWKaBJNjZx5jAh8GhFKAw8YKefPHmyPuJ+OBbhAB3gkmz4ZfLII49UeV4Sa9UCYYYRkCS6fGOOISpaoEnIhLt27VpRNvyyoOIpseUuVkBE7IkwqoYZxsOvyKa0PGqJ2sIFx0EEYi3Q8nC8W6D9gXioeAT5rv5m7xmaJp3I0QdfcQ3GJfZH4vFDYVWfip0QYyA0ffp1LNtzIdeYCMqrZhpWQvUReeCYCGuOyyMNTyY1ZgVYQMYkYAEZk4AFZEwCFpAxCTgmgjE1XUbhPIxdCC6PNDyMbcwKsICMSSB7AcU4B7gftBF9dWbxNjXLJZbPuDLsK9kLSHEO8CRlJnUb+PEwSZTjNFHU5INiIjAJV6/nLIXemHCpr7s3qwGxKCYCM9lxVOSzFHojIN59ih8PL/CNYB5sbW3VayY3olgoKzvUrQjeXYpQiKoTTQC2t4EPiuzueDw2OOvqW8X4BmzXOTH00rjtYtw+ri37f91bTvJB/lixPPpObwQEMgH0Gvpx8ODK7uaN2nrFPA84Nrg6suxHkBQuULjY6WznWBU0x+ut27SCEgyi4LidnZ1qH/eUQNnPtfU91v0t3Tg4kg/0ZYsaSBj+qE4s04EL5yu9PJhPnLS0DHJ4ayKHOR0HnBsd4XCgazrGsY3z5PQVz+FT99d9Y9I+zmV9WeTqUNdk2fkyK13zr1ctEFCT00qo1RiHzClaoCZHjx6tl/ailoNX1NPSCYJhKGKPPsVQMFXNquSIPZPBTZ48K4XeCQh4uIlRwMBCG/RvMLUY0iaMUpNog8dOLqbFsFWpBBaFQMeX6yCuc+fOjfz7OQ4xx/5NUebJHCA/4n9z9INKigvXuS1dlskgc0oJsymacTF2AQmzLW7jOD7ZpmUS14nHyTTTupa5lz7baJpxHKdzlPRdF0muJlxb/uRI1/zLXkA5ILs9JoSaE+tUHouga/710oRbNvSBhnm1J80SX9uUjwU0Bex3BGRMGxbQFBiI0OhcTB5tM2ABzQBzuZomnDFgARmTgGMiGFPjmAhrjMsjDcdEMGYFWEDGJFCcgJpDztPeZ9rmF2QWB/kc5yL2neIE1Jw1MO3/Gv7naZuxbeYPk27xkbJLd6bg4hBf3wiz/OF58ODBesksClqdpjt+CRQlINwLcDewOZYfuDUoHoJNuIzBPwczgX5N0zdH8Qmm9XkwNXRc9GXhHG03s0MelhZMRBQnIOxr+j70a4h/oIedWg9nrml9I0SGR6qOe/XVV6ttnH/8+PFq2/b29h5hmfHIc7ikfk+kOAEJBWTc2NioHnYJC3D3pqUS8Q3dBL9gn1oaWjPcuDkfFwa24QnrAI6zgfcpZjX5RlkAn6V47hYrIBHdh2XC4ZKtwmyD1kstEEliodViHXdyu27PRpyIq0qL5VJMuqIERN+laVphjm1ublbLPPgUIq1JbIEiREClxowgFkw49ZvsymBGDGuDTuTqQtwWQ0HE7cQpiJ8kYiRAM86CwI1b2+J1c6APLt3DSmtPfuZE1/zzZNJCcHmk4cmkxqwAC8iYBCwgYxKwgIxJwAIyJgHHRDCmpssonIexC8HlkYaHsY1ZARaQMQlkL6Dow9OW2twKmLNmd4N8oCximcX3KfWd7AWElyndNF6qhR8Oy0rMmtZU+QgzgO1ukBex3Ep6X2xvTLg2hyxEolnVi3bjptaUc5jZHyXHnOhVHyg6vgmERcuE49sife0JiDHulfpmMtevXx+Zb6X5URUxiHDkyJHqU6+zR0jRzqbQ1JdS34htKtTYssR4CNrHOQj05MmT1TZdO8ZIIEUBs8w9dJ915tSpUyPzTflSCkUIKMLDHr1NeXiJjYAzHQWI2ScRqVCJlQCIBZFoO9fBnZtzzpw5U72AmO3Y8DwEchMnsU/31XfgvjjosX+diW9Fp39KvpRCbwQ0yTxTy0NLxMMeAyXq4dWbtYHYBgo4otYB8RAPIZ6L5+m4wQjOP3v2bL22+5Aw0IF49B0QXUkd5nkRK7i+U0QLRKvBw9s20DAOtSZKsZbsyn7ub8qgVwJqvthX/RrYT5AKwv82g43Qr8FWZ1g8tnbRXo+DCLQuzz33XL22ew1apa2trXqLaYN+YzN6bK8Z1r6dWJYPPrEH+JrjEjEQIkPzYLTv/Pnze44liXhcvMb29nbr8TEeAsfAuNgJXC9u59xFk2tMhJhvJOVdbjgmwprj8kjDk0mNWQEWkDEJWEDGJGABGZOABWRMAo6JYExNl1E4D2MXgssjDQ9jG7MCLCBjEshOQLw9TrOkmV/WhnxsSJNmaTfR3Ll5+KPwPaPPkZkN8s3+QAsEFwJmSjO7GveCNnBNwF2A7tt+ZkAz45przwO+p10VZkeVF2VX0guHszXhcIBrc7yi1l/FbN6Sas1lg3j0gufSXD6yFRC1O45XTTOJF/wuG8zEkrwolw2VIXErSiRLAcnvhpaGYB6RtsAeMg9Izeg8rGt/U4yxv6W+VIxzoG34D4G2A9ckCd1X14z3wktV58qdfF1QHlEhKg/202/NnWxbIMA5LUbb4aFs9jvYJ/OApBcAs53C4nyc59gXz6Vgscd1HqYFZtrx48erdcJlSThck9ZQx3JcjKPAfYBPrklty8uNge+Bk57O1avydU7pEFOCSgX4/eSN8rUEshSQwlfxUDOYcPXq1Wpd3Llzp0rAMRQMUFCKE8d2LRPIIoI5hgCa9jjbFagRwXB+W21JJxiPVNDABCLje3BNRQmCu3fv7okBwMOjAZB1IeYzldi4fO0jWbdAgP1MrU2Gj+v/qBWg9o8P6zh4+HmAOadZkBQu+5SaIhvHuFoVgcUHhu+4ThBUseTfnL2AqM15ADGbxgX+QGQcE1udWUAgPPiy02ntYpwDTEbtm3bdKMSm6LgPwkawtJLjIv2UiFoc9Qn5JC9mrZiyZ1i4nViED/4wo7FrRmmY0dV2YgworkDcT2o7h89mPAS2x/gKxDOIsQtYb15f20DXbabnn39+tKzvG9eJAcDyosk1JgI0yyhHuuZfVgIqlWZgDRIP1TxxeaTRNf+yN+H6jkyXYV6PEoMO0VQ0/cUCWjAMZ29ubtZru/Bf1qFDh+o102csoAXDCBRD5gwgKPG2gnUaSCgZC2jBMNoUzTdSSZMp1x0LyJgEHBPBmBrHRFhjXB5pOCaCMSvAAjImgd4IiLlwcShYSVPl54HusW4+O4sk+kLFVAq9ERBDv0xKBD7puvFJ4sGfB9yDCaVmvlBWMckVpAR6bcLxHwu+NfOcLj+PWcLM4NYUnnWn+Ycx+cKbAEuh930g/E1yg2hCcgo0e2EWxjzeR5sLvRcQLxiOUXraYiDEOAekphOdtsf+FOeyTeahrqHYB6D7KHEOKXq2uj+1l+LmAA5t0k6sYvo8LgB85egeIJ8d7SPh5yPYH/165BMkWNZ7O+P1gWPjuRyna+tYPoHtOpbzdc1l0Qd3BvJE+ZUba+XOQLCR4XevkuaV0XcZFk61HGMg0BqcPXu2Xtt1sWaggJaBFmRjY2MUbIRrDEVQLU+DOA0cqz4T9/Qct8lgvs2jj5kTvTfhulBaIfaFEl04eimg/QiAViI6r9Hq0CrRiqkzG/s1zf5RXCdGHWGy6CtxPtfheiIOp3sQYS/kE3lWGr0REJ1zzC2gc97876e5XwMCMqvU0W+GmCUcFUn7gQEATDwERpw47eMcBMnxLONZGn19ZCoyMuhBhL0QH67Elt+TSQvB5ZGGJ5MaswIsIGMSsICMScACMiYBC8iYBBwTwZiaLqNwHsYuBJdHGh7GNmYFWEDGJNB7AclvRyl16gxz37hOc06c6Y7yVKmkvO21gJigyBR5unEk5qbp1Y9dYb4W1ypx3taqYI4iriYqI78jNROYoBj965n8aZ+cvKC1wf9KFRJlNM9ISqum1wLitSHMhvaM53xBOLiACATFDPdS6LWAqM22t7dHrgP0hyKYeLK7o/sD2xFdtM2jXd4UpI4hNWtP7klie/QrMvfAfFP+Yb4V9WqXoV3aidx88IlJwM9pxiwQxCvAJ1/xFDiOd5hqHwnYFs9jPcY34HzdQ/ckrdrXP+eYCOSf4iGQV8rrnOiaf8UICFRABAOJgUeUVHDsi4VI4cZ1CYvraDmiewAiigJbFbkKiHxqCoY8Vf7lQtf86/0wdgR7e1hY9dquO/fwN45SHGA4duxYvbR/hg9AvWSmwessm3gULhPo18SYBPRjiFNA34gBBpZj32ZczIIDBw7US3vhOhD7VuofaZ+ZzJEjR6pyiKiMioBmqAu5mAz8hJgiTTMOEy9uw7TAlND6Y489NlomCUwObVP/B+KxpFWaJbmacICJG/Np1f3FNrrmnyeTFoLLIw1PJjVmBVhAxiRgARmTgAVkTAIWkDEJOCaCMTVdRuE8jF0ILo80PIxtzAqwgIxJoCgBNd+FSopz4drQOXFOnZkvMW5FaT5TRQhIjnN4OtKlU9re3q5mTk/yWOXVjCdOnKjXzLyhbHgRtMoEmu926jNFCOj06dODixcv3ufpyLtPd3Z2Ko/VcbOyzWIhbkV0McGlpDk7u8/0XkCYB7du3RrrJsy0eVoYveaRGvHatWvVslk+Ci4yzbTuC70XEH4900wwCk0FRhASBIfJ14xvQMs0aTsp9pUcD2E68ssqlaIGEWYB8SA47HHedSowNfBSZTuCkBOd+k+y4REgIBhsexItWny1vrkHFgDmNZUPFREVEP1StUR9p/cC4oW+MWxSG7Q+0wqMgIz0mSCGXbp06VJVg6oFAh4CDT4wUFHKw7AoMK+pfOj/XLlyxS7dOcFDP2mkjYcdgekN2uOYtJ+BCLVAJLtzd4OyoDIqKfhlESYcJhQjbc3RNQoMk6vZSkTTTdy9e7de2gu15YULF+q13WvKvDOzQwWn/mdRDGvUTuTogx9jFyi1oX0cPzTDRuvES4gxExSuKl6X40HrSqsO05RzTISYb7nimAhrjssjDU8mNWYFWEDGJGABGZOABWRMAnbpNqamyyBCZwEZY2zCGZOEBWRMAhaQMQlYQMYkYAEZk4AFZEwCFpAxCVhAxiRgARmTgAVkTAIWkDEJWEDGJGABGdOZweD/AbrY+O3PYobPAAAAAElFTkSuQmCC)"
      ]
    },
    {
      "cell_type": "code",
      "execution_count": 10,
      "metadata": {
        "colab": {
          "base_uri": "https://localhost:8080/",
          "height": 206
        },
        "id": "AT9rNJjxjZwl",
        "outputId": "90869fcb-417f-4b7b-9eed-f9596812d3b1"
      },
      "outputs": [
        {
          "output_type": "execute_result",
          "data": {
            "text/plain": [
              "    Age  Gender Education Level          Job Title  Years of Experience  \\\n",
              "0  32.0    Male      Bachelor's  Software Engineer                  5.0   \n",
              "1  28.0  Female        Master's       Data Analyst                  3.0   \n",
              "2  45.0    Male             PhD     Senior Manager                 15.0   \n",
              "3  36.0  Female      Bachelor's    Sales Associate                  7.0   \n",
              "4  52.0    Male        Master's           Director                 20.0   \n",
              "\n",
              "     Salary gender_str education_str job_str  \n",
              "0   90000.0       Male    Bachelor's       1  \n",
              "1   65000.0     Female      Master's       2  \n",
              "2  150000.0       Male           PhD       8  \n",
              "3   60000.0     Female    Bachelor's       4  \n",
              "4  200000.0       Male      Master's       5  "
            ],
            "text/html": [
              "\n",
              "  <div id=\"df-b7811abd-2c7b-4633-b58d-6c5ebc1ab34d\">\n",
              "    <div class=\"colab-df-container\">\n",
              "      <div>\n",
              "<style scoped>\n",
              "    .dataframe tbody tr th:only-of-type {\n",
              "        vertical-align: middle;\n",
              "    }\n",
              "\n",
              "    .dataframe tbody tr th {\n",
              "        vertical-align: top;\n",
              "    }\n",
              "\n",
              "    .dataframe thead th {\n",
              "        text-align: right;\n",
              "    }\n",
              "</style>\n",
              "<table border=\"1\" class=\"dataframe\">\n",
              "  <thead>\n",
              "    <tr style=\"text-align: right;\">\n",
              "      <th></th>\n",
              "      <th>Age</th>\n",
              "      <th>Gender</th>\n",
              "      <th>Education Level</th>\n",
              "      <th>Job Title</th>\n",
              "      <th>Years of Experience</th>\n",
              "      <th>Salary</th>\n",
              "      <th>gender_str</th>\n",
              "      <th>education_str</th>\n",
              "      <th>job_str</th>\n",
              "    </tr>\n",
              "  </thead>\n",
              "  <tbody>\n",
              "    <tr>\n",
              "      <th>0</th>\n",
              "      <td>32.0</td>\n",
              "      <td>Male</td>\n",
              "      <td>Bachelor's</td>\n",
              "      <td>Software Engineer</td>\n",
              "      <td>5.0</td>\n",
              "      <td>90000.0</td>\n",
              "      <td>Male</td>\n",
              "      <td>Bachelor's</td>\n",
              "      <td>1</td>\n",
              "    </tr>\n",
              "    <tr>\n",
              "      <th>1</th>\n",
              "      <td>28.0</td>\n",
              "      <td>Female</td>\n",
              "      <td>Master's</td>\n",
              "      <td>Data Analyst</td>\n",
              "      <td>3.0</td>\n",
              "      <td>65000.0</td>\n",
              "      <td>Female</td>\n",
              "      <td>Master's</td>\n",
              "      <td>2</td>\n",
              "    </tr>\n",
              "    <tr>\n",
              "      <th>2</th>\n",
              "      <td>45.0</td>\n",
              "      <td>Male</td>\n",
              "      <td>PhD</td>\n",
              "      <td>Senior Manager</td>\n",
              "      <td>15.0</td>\n",
              "      <td>150000.0</td>\n",
              "      <td>Male</td>\n",
              "      <td>PhD</td>\n",
              "      <td>8</td>\n",
              "    </tr>\n",
              "    <tr>\n",
              "      <th>3</th>\n",
              "      <td>36.0</td>\n",
              "      <td>Female</td>\n",
              "      <td>Bachelor's</td>\n",
              "      <td>Sales Associate</td>\n",
              "      <td>7.0</td>\n",
              "      <td>60000.0</td>\n",
              "      <td>Female</td>\n",
              "      <td>Bachelor's</td>\n",
              "      <td>4</td>\n",
              "    </tr>\n",
              "    <tr>\n",
              "      <th>4</th>\n",
              "      <td>52.0</td>\n",
              "      <td>Male</td>\n",
              "      <td>Master's</td>\n",
              "      <td>Director</td>\n",
              "      <td>20.0</td>\n",
              "      <td>200000.0</td>\n",
              "      <td>Male</td>\n",
              "      <td>Master's</td>\n",
              "      <td>5</td>\n",
              "    </tr>\n",
              "  </tbody>\n",
              "</table>\n",
              "</div>\n",
              "      <button class=\"colab-df-convert\" onclick=\"convertToInteractive('df-b7811abd-2c7b-4633-b58d-6c5ebc1ab34d')\"\n",
              "              title=\"Convert this dataframe to an interactive table.\"\n",
              "              style=\"display:none;\">\n",
              "        \n",
              "  <svg xmlns=\"http://www.w3.org/2000/svg\" height=\"24px\"viewBox=\"0 0 24 24\"\n",
              "       width=\"24px\">\n",
              "    <path d=\"M0 0h24v24H0V0z\" fill=\"none\"/>\n",
              "    <path d=\"M18.56 5.44l.94 2.06.94-2.06 2.06-.94-2.06-.94-.94-2.06-.94 2.06-2.06.94zm-11 1L8.5 8.5l.94-2.06 2.06-.94-2.06-.94L8.5 2.5l-.94 2.06-2.06.94zm10 10l.94 2.06.94-2.06 2.06-.94-2.06-.94-.94-2.06-.94 2.06-2.06.94z\"/><path d=\"M17.41 7.96l-1.37-1.37c-.4-.4-.92-.59-1.43-.59-.52 0-1.04.2-1.43.59L10.3 9.45l-7.72 7.72c-.78.78-.78 2.05 0 2.83L4 21.41c.39.39.9.59 1.41.59.51 0 1.02-.2 1.41-.59l7.78-7.78 2.81-2.81c.8-.78.8-2.07 0-2.86zM5.41 20L4 18.59l7.72-7.72 1.47 1.35L5.41 20z\"/>\n",
              "  </svg>\n",
              "      </button>\n",
              "      \n",
              "  <style>\n",
              "    .colab-df-container {\n",
              "      display:flex;\n",
              "      flex-wrap:wrap;\n",
              "      gap: 12px;\n",
              "    }\n",
              "\n",
              "    .colab-df-convert {\n",
              "      background-color: #E8F0FE;\n",
              "      border: none;\n",
              "      border-radius: 50%;\n",
              "      cursor: pointer;\n",
              "      display: none;\n",
              "      fill: #1967D2;\n",
              "      height: 32px;\n",
              "      padding: 0 0 0 0;\n",
              "      width: 32px;\n",
              "    }\n",
              "\n",
              "    .colab-df-convert:hover {\n",
              "      background-color: #E2EBFA;\n",
              "      box-shadow: 0px 1px 2px rgba(60, 64, 67, 0.3), 0px 1px 3px 1px rgba(60, 64, 67, 0.15);\n",
              "      fill: #174EA6;\n",
              "    }\n",
              "\n",
              "    [theme=dark] .colab-df-convert {\n",
              "      background-color: #3B4455;\n",
              "      fill: #D2E3FC;\n",
              "    }\n",
              "\n",
              "    [theme=dark] .colab-df-convert:hover {\n",
              "      background-color: #434B5C;\n",
              "      box-shadow: 0px 1px 3px 1px rgba(0, 0, 0, 0.15);\n",
              "      filter: drop-shadow(0px 1px 2px rgba(0, 0, 0, 0.3));\n",
              "      fill: #FFFFFF;\n",
              "    }\n",
              "  </style>\n",
              "\n",
              "      <script>\n",
              "        const buttonEl =\n",
              "          document.querySelector('#df-b7811abd-2c7b-4633-b58d-6c5ebc1ab34d button.colab-df-convert');\n",
              "        buttonEl.style.display =\n",
              "          google.colab.kernel.accessAllowed ? 'block' : 'none';\n",
              "\n",
              "        async function convertToInteractive(key) {\n",
              "          const element = document.querySelector('#df-b7811abd-2c7b-4633-b58d-6c5ebc1ab34d');\n",
              "          const dataTable =\n",
              "            await google.colab.kernel.invokeFunction('convertToInteractive',\n",
              "                                                     [key], {});\n",
              "          if (!dataTable) return;\n",
              "\n",
              "          const docLinkHtml = 'Like what you see? Visit the ' +\n",
              "            '<a target=\"_blank\" href=https://colab.research.google.com/notebooks/data_table.ipynb>data table notebook</a>'\n",
              "            + ' to learn more about interactive tables.';\n",
              "          element.innerHTML = '';\n",
              "          dataTable['output_type'] = 'display_data';\n",
              "          await google.colab.output.renderOutput(dataTable, element);\n",
              "          const docLink = document.createElement('div');\n",
              "          docLink.innerHTML = docLinkHtml;\n",
              "          element.appendChild(docLink);\n",
              "        }\n",
              "      </script>\n",
              "    </div>\n",
              "  </div>\n",
              "  "
            ]
          },
          "metadata": {},
          "execution_count": 10
        }
      ],
      "source": [
        "job_dict = {'Software': '1', 'Data': '2', 'Manager': '3', 'Sales': '4', 'Director': '5', 'Marketing': '6', 'Product': '7', 'Senior': '8', 'Other': '9'}\n",
        "\n",
        "def map_job_title(title):\n",
        "    if isinstance(title, str):\n",
        "        for word in title.split():\n",
        "            if word in job_dict:\n",
        "                return job_dict[word]\n",
        "        return '9'\n",
        "    else:\n",
        "        return '9'\n",
        "\n",
        "df['Job Title'] = df['Job Title'].fillna('')\n",
        "df['job_str'] = df['Job Title'].apply(map_job_title)\n",
        "df.head()\n"
      ]
    },
    {
      "cell_type": "code",
      "execution_count": 11,
      "metadata": {
        "colab": {
          "base_uri": "https://localhost:8080/"
        },
        "id": "aVYzV0KbjgVI",
        "outputId": "fb274274-65c7-434e-a5b3-7fe22123393b"
      },
      "outputs": [
        {
          "output_type": "stream",
          "name": "stdout",
          "text": [
            "         Absolute frequency  Relative frequency (%)  cumulative frequency\n",
            "job_str                                                                  \n",
            "1                         7                    1.87                  1.87\n",
            "2                         7                    1.87                  3.74\n",
            "3                        28                    7.47                 11.21\n",
            "4                        13                    3.47                 14.68\n",
            "5                        40                   10.67                 25.35\n",
            "6                        26                    6.93                 32.28\n",
            "7                         8                    2.13                 34.41\n",
            "8                       152                   40.53                 74.94\n",
            "9                        94                   25.07                100.01\n"
          ]
        }
      ],
      "source": [
        "# I control the value assignement\n",
        "job_counts = df['job_str'].value_counts()\n",
        "job_freq = round(df['job_str'].value_counts(normalize=True)*100, 2)\n",
        "\n",
        "# I create a dataframe with absolute and relative frequencies\n",
        "job_stats = pd.DataFrame({'Absolute frequency': job_counts, 'Relative frequency (%)': job_freq})\n",
        "job_stats.index.name = 'job_str'\n",
        "\n",
        "# I order the df\n",
        "job_stats_sorted = job_stats.sort_index()\n",
        "job_stats_sorted['cumulative frequency'] = job_stats_sorted['Relative frequency (%)'].cumsum()\n",
        "\n",
        "# Final check\n",
        "print(job_stats_sorted)"
      ]
    },
    {
      "cell_type": "markdown",
      "metadata": {
        "id": "KKe8Xq-uz4bR"
      },
      "source": [
        "There is a 25% of occupations that does not contain any of the words specified. They could be looked directly to detect repetitions. I won't be doing that in this case. "
      ]
    },
    {
      "cell_type": "markdown",
      "metadata": {
        "id": "jTiq2qnz0hhJ"
      },
      "source": [
        "I will now give the values of the variable corresponding to each word."
      ]
    },
    {
      "cell_type": "code",
      "execution_count": 12,
      "metadata": {
        "colab": {
          "base_uri": "https://localhost:8080/",
          "height": 206
        },
        "id": "z30p95aqkxOS",
        "outputId": "602bf6ba-d854-481b-d43d-0868f964fea7"
      },
      "outputs": [
        {
          "output_type": "execute_result",
          "data": {
            "text/plain": [
              "    Age  Gender Education Level          Job Title  Years of Experience  \\\n",
              "0  32.0    Male      Bachelor's  Software Engineer                  5.0   \n",
              "1  28.0  Female        Master's       Data Analyst                  3.0   \n",
              "2  45.0    Male             PhD     Senior Manager                 15.0   \n",
              "3  36.0  Female      Bachelor's    Sales Associate                  7.0   \n",
              "4  52.0    Male        Master's           Director                 20.0   \n",
              "\n",
              "     Salary gender_str education_str   job_str  \n",
              "0   90000.0       Male    Bachelor's  Software  \n",
              "1   65000.0     Female      Master's      Data  \n",
              "2  150000.0       Male           PhD    Senior  \n",
              "3   60000.0     Female    Bachelor's     Sales  \n",
              "4  200000.0       Male      Master's  Director  "
            ],
            "text/html": [
              "\n",
              "  <div id=\"df-16e7d998-8648-4909-b37c-18d3761e5c5d\">\n",
              "    <div class=\"colab-df-container\">\n",
              "      <div>\n",
              "<style scoped>\n",
              "    .dataframe tbody tr th:only-of-type {\n",
              "        vertical-align: middle;\n",
              "    }\n",
              "\n",
              "    .dataframe tbody tr th {\n",
              "        vertical-align: top;\n",
              "    }\n",
              "\n",
              "    .dataframe thead th {\n",
              "        text-align: right;\n",
              "    }\n",
              "</style>\n",
              "<table border=\"1\" class=\"dataframe\">\n",
              "  <thead>\n",
              "    <tr style=\"text-align: right;\">\n",
              "      <th></th>\n",
              "      <th>Age</th>\n",
              "      <th>Gender</th>\n",
              "      <th>Education Level</th>\n",
              "      <th>Job Title</th>\n",
              "      <th>Years of Experience</th>\n",
              "      <th>Salary</th>\n",
              "      <th>gender_str</th>\n",
              "      <th>education_str</th>\n",
              "      <th>job_str</th>\n",
              "    </tr>\n",
              "  </thead>\n",
              "  <tbody>\n",
              "    <tr>\n",
              "      <th>0</th>\n",
              "      <td>32.0</td>\n",
              "      <td>Male</td>\n",
              "      <td>Bachelor's</td>\n",
              "      <td>Software Engineer</td>\n",
              "      <td>5.0</td>\n",
              "      <td>90000.0</td>\n",
              "      <td>Male</td>\n",
              "      <td>Bachelor's</td>\n",
              "      <td>Software</td>\n",
              "    </tr>\n",
              "    <tr>\n",
              "      <th>1</th>\n",
              "      <td>28.0</td>\n",
              "      <td>Female</td>\n",
              "      <td>Master's</td>\n",
              "      <td>Data Analyst</td>\n",
              "      <td>3.0</td>\n",
              "      <td>65000.0</td>\n",
              "      <td>Female</td>\n",
              "      <td>Master's</td>\n",
              "      <td>Data</td>\n",
              "    </tr>\n",
              "    <tr>\n",
              "      <th>2</th>\n",
              "      <td>45.0</td>\n",
              "      <td>Male</td>\n",
              "      <td>PhD</td>\n",
              "      <td>Senior Manager</td>\n",
              "      <td>15.0</td>\n",
              "      <td>150000.0</td>\n",
              "      <td>Male</td>\n",
              "      <td>PhD</td>\n",
              "      <td>Senior</td>\n",
              "    </tr>\n",
              "    <tr>\n",
              "      <th>3</th>\n",
              "      <td>36.0</td>\n",
              "      <td>Female</td>\n",
              "      <td>Bachelor's</td>\n",
              "      <td>Sales Associate</td>\n",
              "      <td>7.0</td>\n",
              "      <td>60000.0</td>\n",
              "      <td>Female</td>\n",
              "      <td>Bachelor's</td>\n",
              "      <td>Sales</td>\n",
              "    </tr>\n",
              "    <tr>\n",
              "      <th>4</th>\n",
              "      <td>52.0</td>\n",
              "      <td>Male</td>\n",
              "      <td>Master's</td>\n",
              "      <td>Director</td>\n",
              "      <td>20.0</td>\n",
              "      <td>200000.0</td>\n",
              "      <td>Male</td>\n",
              "      <td>Master's</td>\n",
              "      <td>Director</td>\n",
              "    </tr>\n",
              "  </tbody>\n",
              "</table>\n",
              "</div>\n",
              "      <button class=\"colab-df-convert\" onclick=\"convertToInteractive('df-16e7d998-8648-4909-b37c-18d3761e5c5d')\"\n",
              "              title=\"Convert this dataframe to an interactive table.\"\n",
              "              style=\"display:none;\">\n",
              "        \n",
              "  <svg xmlns=\"http://www.w3.org/2000/svg\" height=\"24px\"viewBox=\"0 0 24 24\"\n",
              "       width=\"24px\">\n",
              "    <path d=\"M0 0h24v24H0V0z\" fill=\"none\"/>\n",
              "    <path d=\"M18.56 5.44l.94 2.06.94-2.06 2.06-.94-2.06-.94-.94-2.06-.94 2.06-2.06.94zm-11 1L8.5 8.5l.94-2.06 2.06-.94-2.06-.94L8.5 2.5l-.94 2.06-2.06.94zm10 10l.94 2.06.94-2.06 2.06-.94-2.06-.94-.94-2.06-.94 2.06-2.06.94z\"/><path d=\"M17.41 7.96l-1.37-1.37c-.4-.4-.92-.59-1.43-.59-.52 0-1.04.2-1.43.59L10.3 9.45l-7.72 7.72c-.78.78-.78 2.05 0 2.83L4 21.41c.39.39.9.59 1.41.59.51 0 1.02-.2 1.41-.59l7.78-7.78 2.81-2.81c.8-.78.8-2.07 0-2.86zM5.41 20L4 18.59l7.72-7.72 1.47 1.35L5.41 20z\"/>\n",
              "  </svg>\n",
              "      </button>\n",
              "      \n",
              "  <style>\n",
              "    .colab-df-container {\n",
              "      display:flex;\n",
              "      flex-wrap:wrap;\n",
              "      gap: 12px;\n",
              "    }\n",
              "\n",
              "    .colab-df-convert {\n",
              "      background-color: #E8F0FE;\n",
              "      border: none;\n",
              "      border-radius: 50%;\n",
              "      cursor: pointer;\n",
              "      display: none;\n",
              "      fill: #1967D2;\n",
              "      height: 32px;\n",
              "      padding: 0 0 0 0;\n",
              "      width: 32px;\n",
              "    }\n",
              "\n",
              "    .colab-df-convert:hover {\n",
              "      background-color: #E2EBFA;\n",
              "      box-shadow: 0px 1px 2px rgba(60, 64, 67, 0.3), 0px 1px 3px 1px rgba(60, 64, 67, 0.15);\n",
              "      fill: #174EA6;\n",
              "    }\n",
              "\n",
              "    [theme=dark] .colab-df-convert {\n",
              "      background-color: #3B4455;\n",
              "      fill: #D2E3FC;\n",
              "    }\n",
              "\n",
              "    [theme=dark] .colab-df-convert:hover {\n",
              "      background-color: #434B5C;\n",
              "      box-shadow: 0px 1px 3px 1px rgba(0, 0, 0, 0.15);\n",
              "      filter: drop-shadow(0px 1px 2px rgba(0, 0, 0, 0.3));\n",
              "      fill: #FFFFFF;\n",
              "    }\n",
              "  </style>\n",
              "\n",
              "      <script>\n",
              "        const buttonEl =\n",
              "          document.querySelector('#df-16e7d998-8648-4909-b37c-18d3761e5c5d button.colab-df-convert');\n",
              "        buttonEl.style.display =\n",
              "          google.colab.kernel.accessAllowed ? 'block' : 'none';\n",
              "\n",
              "        async function convertToInteractive(key) {\n",
              "          const element = document.querySelector('#df-16e7d998-8648-4909-b37c-18d3761e5c5d');\n",
              "          const dataTable =\n",
              "            await google.colab.kernel.invokeFunction('convertToInteractive',\n",
              "                                                     [key], {});\n",
              "          if (!dataTable) return;\n",
              "\n",
              "          const docLinkHtml = 'Like what you see? Visit the ' +\n",
              "            '<a target=\"_blank\" href=https://colab.research.google.com/notebooks/data_table.ipynb>data table notebook</a>'\n",
              "            + ' to learn more about interactive tables.';\n",
              "          element.innerHTML = '';\n",
              "          dataTable['output_type'] = 'display_data';\n",
              "          await google.colab.output.renderOutput(dataTable, element);\n",
              "          const docLink = document.createElement('div');\n",
              "          docLink.innerHTML = docLinkHtml;\n",
              "          element.appendChild(docLink);\n",
              "        }\n",
              "      </script>\n",
              "    </div>\n",
              "  </div>\n",
              "  "
            ]
          },
          "metadata": {},
          "execution_count": 12
        }
      ],
      "source": [
        "# I create a dictionary to mal job_str values to the values of Job Title (inverse operation)\n",
        "job_map = {'1': 'Software', '2': 'Data', '3': 'Manager', '4': 'Sales', '5': 'Director', '6': 'Marketing', '7': 'Product', '8': 'Senior', '9': 'Other'}\n",
        "\n",
        "# Then I use it to replace the values\n",
        "df['job_str'] = df['job_str'].replace(job_map)\n",
        "\n",
        "# Check\n",
        "df.head()"
      ]
    },
    {
      "cell_type": "code",
      "execution_count": 13,
      "metadata": {
        "id": "5d5x49TWCIRY"
      },
      "outputs": [],
      "source": [
        "df=df.rename(columns={'Years of Experience':'experience','Salary':'wage'})"
      ]
    },
    {
      "cell_type": "code",
      "execution_count": 14,
      "metadata": {
        "id": "x5FiT3UOIGis"
      },
      "outputs": [],
      "source": [
        "# I select only the columns I will need\n",
        "data=df[['Age','gender_str','experience','wage','education_str','job_str']].copy()"
      ]
    },
    {
      "cell_type": "code",
      "execution_count": 15,
      "metadata": {
        "colab": {
          "base_uri": "https://localhost:8080/"
        },
        "id": "42g1fV2IHmQk",
        "outputId": "503fdd36-8819-4ae1-ab24-a3bab339268b"
      },
      "outputs": [
        {
          "output_type": "stream",
          "name": "stdout",
          "text": [
            "Index(['Age', 'gender_str', 'experience', 'wage', 'education_str', 'job_str'], dtype='object')\n"
          ]
        }
      ],
      "source": [
        "print(data.columns)"
      ]
    },
    {
      "cell_type": "code",
      "source": [
        "# Lastly, I check for missing values\n",
        "missing_rows = data[data.isna().any(axis=1)]\n",
        "print(missing_rows)"
      ],
      "metadata": {
        "colab": {
          "base_uri": "https://localhost:8080/"
        },
        "id": "8ANBevnqH-mQ",
        "outputId": "aa9933ab-d8a1-4a42-b590-1b80c1f26654"
      },
      "execution_count": 16,
      "outputs": [
        {
          "output_type": "stream",
          "name": "stdout",
          "text": [
            "     Age gender_str  experience  wage education_str job_str\n",
            "172  NaN        NaN         NaN   NaN           NaN   Other\n",
            "260  NaN        NaN         NaN   NaN           NaN   Other\n"
          ]
        }
      ]
    },
    {
      "cell_type": "code",
      "source": [
        "columns_with_missing = data.columns[data.isna().sum() > 0]\n",
        "print(columns_with_missing)"
      ],
      "metadata": {
        "colab": {
          "base_uri": "https://localhost:8080/"
        },
        "id": "7PgkOqu4ICit",
        "outputId": "7882403c-6aa6-4e54-f2c0-9090793ee805"
      },
      "execution_count": 17,
      "outputs": [
        {
          "output_type": "stream",
          "name": "stdout",
          "text": [
            "Index(['Age', 'gender_str', 'experience', 'wage', 'education_str'], dtype='object')\n"
          ]
        }
      ]
    },
    {
      "cell_type": "markdown",
      "source": [
        "As there are only 2 registers with missings, I eliminaete these observations from the dataset. "
      ],
      "metadata": {
        "id": "DYCnKdFdJgQ0"
      }
    },
    {
      "cell_type": "code",
      "source": [
        "data=data.dropna()\n",
        "missing_rows = data[data.isna().any(axis=1)]\n",
        "print(missing_rows)"
      ],
      "metadata": {
        "colab": {
          "base_uri": "https://localhost:8080/"
        },
        "id": "GD54VqVeJfX5",
        "outputId": "699ba78d-f884-4857-b86d-4ad29e14b24f"
      },
      "execution_count": 18,
      "outputs": [
        {
          "output_type": "stream",
          "name": "stdout",
          "text": [
            "Empty DataFrame\n",
            "Columns: [Age, gender_str, experience, wage, education_str, job_str]\n",
            "Index: []\n"
          ]
        }
      ]
    },
    {
      "cell_type": "markdown",
      "metadata": {
        "id": "vvyo0Oyh9WkB"
      },
      "source": [
        "##Exploratory analysis"
      ]
    },
    {
      "cell_type": "markdown",
      "source": [
        "---\n",
        "In this part, I will carry the proper EDA considering cuantitative variables on the one side, and cualitative on the other. I will firts analyse data individualy, and then I will carry a multivariate analysis. "
      ],
      "metadata": {
        "id": "yDfxe2ZzQtqT"
      }
    },
    {
      "cell_type": "markdown",
      "metadata": {
        "id": "ZtVSYLGDJu5H"
      },
      "source": [
        "### Univariate analysis"
      ]
    },
    {
      "cell_type": "markdown",
      "source": [
        "#### Numeric variables "
      ],
      "metadata": {
        "id": "zEkwAQBWInQZ"
      }
    },
    {
      "cell_type": "code",
      "source": [
        "# Age\n",
        "print('Descriptive statistics for age')\n",
        "data['Age'].describe().round(2)"
      ],
      "metadata": {
        "colab": {
          "base_uri": "https://localhost:8080/"
        },
        "id": "nbPF29qlHvT5",
        "outputId": "d36c9e10-9ded-4fc3-b816-294278c2509f"
      },
      "execution_count": 19,
      "outputs": [
        {
          "output_type": "stream",
          "name": "stdout",
          "text": [
            "Descriptive statistics for age\n"
          ]
        },
        {
          "output_type": "execute_result",
          "data": {
            "text/plain": [
              "count    373.00\n",
              "mean      37.43\n",
              "std        7.07\n",
              "min       23.00\n",
              "25%       31.00\n",
              "50%       36.00\n",
              "75%       44.00\n",
              "max       53.00\n",
              "Name: Age, dtype: float64"
            ]
          },
          "metadata": {},
          "execution_count": 19
        }
      ]
    },
    {
      "cell_type": "code",
      "execution_count": 20,
      "metadata": {
        "colab": {
          "base_uri": "https://localhost:8080/",
          "height": 492
        },
        "id": "_nOSuIeOZYJd",
        "outputId": "3b6ea8cf-a34e-40f9-d888-c61643878c7e"
      },
      "outputs": [
        {
          "output_type": "display_data",
          "data": {
            "text/plain": [
              "<Figure size 700x500 with 1 Axes>"
            ],
            "image/png": "[encoded data removed]"
          },
          "metadata": {}
        }
      ],
      "source": [
        "data['Age'].hist(bins=20,figsize=(7,5),grid=False,color='greenyellow',edgecolor='white')\n",
        "plt.title('Histogram for ages',loc='center',fontsize=18)\n",
        "plt.xlabel('Ages')\n",
        "plt.ylabel('Frequency')\n",
        "\n",
        "plt.show()"
      ]
    },
    {
      "cell_type": "code",
      "execution_count": 21,
      "metadata": {
        "colab": {
          "base_uri": "https://localhost:8080/",
          "height": 472
        },
        "id": "kmkY-S_hZEnc",
        "outputId": "e110c1fc-6e52-467f-b963-a6b251f701d2"
      },
      "outputs": [
        {
          "output_type": "display_data",
          "data": {
            "text/plain": [
              "<Figure size 640x480 with 1 Axes>"
            ],
            "image/png": "[encoded data removed]"
          },
          "metadata": {}
        }
      ],
      "source": [
        "# Crear bins de 10 años\n",
        "bins = range(20, 61, 10)\n",
        "\n",
        "# Agrupar datos en los bins\n",
        "age_groups = pd.cut(data['Age'], bins=bins)\n",
        "\n",
        "# Generar histograma con los datos agrupados\n",
        "age_groups.value_counts().sort_index().plot(kind='bar', color='lightgreen', edgecolor='white')\n",
        "\n",
        "# Personalizar gráfico\n",
        "plt.xticks(rotation=0)\n",
        "plt.xlabel('Age Groups')\n",
        "plt.ylabel('Frequency')\n",
        "plt.title('Histogram of Ages (Grouped by 10 years)')\n",
        "plt.show()"
      ]
    },
    {
      "cell_type": "markdown",
      "metadata": {
        "id": "TXro72XOmGiV"
      },
      "source": [
        "**Ages**: This employee cohort has an adult age, with a mean of 37 years old, a minimum of 23 and 53 years for the eldest worker. The more frecuent age group is (30-40]."
      ]
    },
    {
      "cell_type": "code",
      "execution_count": 22,
      "metadata": {
        "colab": {
          "base_uri": "https://localhost:8080/"
        },
        "id": "Gt6QmP69N66L",
        "outputId": "2f55f22e-e2cf-456d-b3fb-d7a0783c31f0"
      },
      "outputs": [
        {
          "output_type": "stream",
          "name": "stdout",
          "text": [
            "Descriptive statistics for experience\n"
          ]
        },
        {
          "output_type": "execute_result",
          "data": {
            "text/plain": [
              "count    373.00\n",
              "mean      10.03\n",
              "std        6.56\n",
              "min        0.00\n",
              "25%        4.00\n",
              "50%        9.00\n",
              "75%       15.00\n",
              "max       25.00\n",
              "Name: experience, dtype: float64"
            ]
          },
          "metadata": {},
          "execution_count": 22
        }
      ],
      "source": [
        "# Experience\n",
        "print('Descriptive statistics for experience')\n",
        "data['experience'].describe().round(2)"
      ]
    },
    {
      "cell_type": "code",
      "execution_count": 23,
      "metadata": {
        "colab": {
          "base_uri": "https://localhost:8080/",
          "height": 492
        },
        "id": "NCiaQTnpb3PQ",
        "outputId": "03c1a286-f647-4ce3-b321-33be1a11bca8"
      },
      "outputs": [
        {
          "output_type": "display_data",
          "data": {
            "text/plain": [
              "<Figure size 700x500 with 1 Axes>"
            ],
            "image/png": "[encoded data removed]"
          },
          "metadata": {}
        }
      ],
      "source": [
        "data['experience'].hist(bins=20,figsize=(7,5),grid=False,color='lightsalmon',edgecolor='white')\n",
        "plt.title('Histogram for years of experience',loc='center',fontsize=18)\n",
        "plt.xlabel('Years')\n",
        "plt.ylabel('Frequency')\n",
        "plt.show()"
      ]
    },
    {
      "cell_type": "code",
      "execution_count": 24,
      "metadata": {
        "colab": {
          "base_uri": "https://localhost:8080/",
          "height": 472
        },
        "id": "4SormhEhcG6W",
        "outputId": "7fec6237-eccf-4068-d997-e7dda7a39986"
      },
      "outputs": [
        {
          "output_type": "display_data",
          "data": {
            "text/plain": [
              "<Figure size 640x480 with 1 Axes>"
            ],
            "image/png": "[encoded data removed]"
          },
          "metadata": {}
        }
      ],
      "source": [
        "# Crear bins de 10 años\n",
        "bins = range(0, 16, 5)\n",
        "\n",
        "# Agrupar datos en los bins\n",
        "experience_groups = pd.cut(data['experience'], bins=bins)\n",
        "\n",
        "# Generar histograma con los datos agrupados\n",
        "experience_groups.value_counts().sort_index().plot(kind='bar', color='salmon', edgecolor='white')\n",
        "\n",
        "# Personalizar gráfico\n",
        "plt.xticks(rotation=0)\n",
        "plt.xlabel('Experience Groups')\n",
        "plt.ylabel('Frequency')\n",
        "plt.title('Histogram of experience (Grouped by 10 years)')\n",
        "plt.show()"
      ]
    },
    {
      "cell_type": "markdown",
      "metadata": {
        "id": "krTD9sigm5xt"
      },
      "source": [
        "**Years of experience**: As to the years of experience, most of the workers have more than 5 years. Close to a third of the employee population has an atiquity of 0-5 years in the labor market."
      ]
    },
    {
      "cell_type": "code",
      "execution_count": 25,
      "metadata": {
        "colab": {
          "base_uri": "https://localhost:8080/"
        },
        "id": "OOt-QTSrdmOv",
        "outputId": "0d1942bd-92dc-499e-dbf7-c5b2123b4825"
      },
      "outputs": [
        {
          "output_type": "stream",
          "name": "stdout",
          "text": [
            "descriptive statitics for wages\n"
          ]
        },
        {
          "output_type": "execute_result",
          "data": {
            "text/plain": [
              "count       373.000000\n",
              "mean     100577.345845\n",
              "std       48240.013482\n",
              "min         350.000000\n",
              "25%       55000.000000\n",
              "50%       95000.000000\n",
              "75%      140000.000000\n",
              "max      250000.000000\n",
              "Name: wage, dtype: float64"
            ]
          },
          "metadata": {},
          "execution_count": 25
        }
      ],
      "source": [
        "# Wages \n",
        "print('descriptive statitics for wages')\n",
        "data['wage'].describe()"
      ]
    },
    {
      "cell_type": "code",
      "execution_count": 26,
      "metadata": {
        "colab": {
          "base_uri": "https://localhost:8080/",
          "height": 472
        },
        "id": "19F74hkLPKKu",
        "outputId": "c0876aa9-6f23-46ff-88a7-7a2ccd8182ee"
      },
      "outputs": [
        {
          "output_type": "display_data",
          "data": {
            "text/plain": [
              "<Figure size 640x480 with 1 Axes>"
            ],
            "image/png": "[encoded data removed]"
          },
          "metadata": {}
        }
      ],
      "source": [
        "sns.histplot(data['wage'],kde=True,stat=\"density\",edgecolor='white')\n",
        "plt.xlabel('Wage')\n",
        "plt.title('Histogram for wages in the firm')\n",
        "plt.show()"
      ]
    },
    {
      "cell_type": "code",
      "source": [
        "data['wage'].hist(bins=20,figsize=(7,5),grid=False,color='lightgreen',edgecolor='white',log=True)\n",
        "plt.title('Histogram for wages in the firm (log)',loc='center',fontsize=18)\n",
        "plt.xlabel('Wage')\n",
        "plt.ylabel('Frequency')\n",
        "plt.show()"
      ],
      "metadata": {
        "colab": {
          "base_uri": "https://localhost:8080/",
          "height": 492
        },
        "id": "FpIoBae2JL7u",
        "outputId": "2c696061-64a4-4330-9565-875b68daae52"
      },
      "execution_count": 27,
      "outputs": [
        {
          "output_type": "display_data",
          "data": {
            "text/plain": [
              "<Figure size 700x500 with 1 Axes>"
            ],
            "image/png": "[encoded data removed]"
          },
          "metadata": {}
        }
      ]
    },
    {
      "cell_type": "markdown",
      "source": [
        "**Wages**: as expected, the distribution for this variable has an assymetry to the left. That is to say, frecuencies are concentrated atound lower values of the variable.  However this concetration is not so marked, and the distribution could be characterized as platocurtic. These findings are corroborated by the assymetry and kurtosis coefficients:"
      ],
      "metadata": {
        "id": "1KE6iv4zOILm"
      }
    },
    {
      "cell_type": "code",
      "source": [
        "from scipy.stats import skew, kurtosis\n",
        "print(\"Assymetry: \", round(skew(data['wage']),3))\n",
        "print(\"Kurtosis: \", round(kurtosis(data['wage']),2))"
      ],
      "metadata": {
        "colab": {
          "base_uri": "https://localhost:8080/"
        },
        "id": "d0Py38hYHUrd",
        "outputId": "62f2df3c-ad59-4df6-d414-a418041fa976"
      },
      "execution_count": 28,
      "outputs": [
        {
          "output_type": "stream",
          "name": "stdout",
          "text": [
            "Assymetry:  0.399\n",
            "Kurtosis:  -0.75\n"
          ]
        }
      ]
    },
    {
      "cell_type": "markdown",
      "metadata": {
        "id": "SclnqWmGm8Mc"
      },
      "source": [
        "A positive assymetry coefficient indicates presence of assymetry to the left, while a negative kurtosis signals a platocurtic distribution (values are less concentrated than in a normal)."
      ]
    },
    {
      "cell_type": "markdown",
      "source": [
        "#### Cualitative variables"
      ],
      "metadata": {
        "id": "XvXJ20ykT_18"
      }
    },
    {
      "cell_type": "code",
      "source": [
        "# Gender \n",
        "freq_abs=data['gender_str'].value_counts().rename('Frecuency')\n",
        "freq_rel=data['gender_str'].value_counts(normalize=True).round(2).rename('Relative frequency')\n",
        "tabla=pd.concat([freq_abs,freq_rel],axis=1)\n",
        "print('Frecuency table for','gender')\n",
        "tabla\n"
      ],
      "metadata": {
        "colab": {
          "base_uri": "https://localhost:8080/",
          "height": 129
        },
        "id": "TrMWx4G2Z6-f",
        "outputId": "f47ba03e-05fb-4eec-b350-dda975a3d66f"
      },
      "execution_count": 29,
      "outputs": [
        {
          "output_type": "stream",
          "name": "stdout",
          "text": [
            "Frecuency table for gender\n"
          ]
        },
        {
          "output_type": "execute_result",
          "data": {
            "text/plain": [
              "        Frecuency  Relative frequency\n",
              "Male          194                0.52\n",
              "Female        179                0.48"
            ],
            "text/html": [
              "\n",
              "  <div id=\"df-589bb9ca-58a6-465b-8423-2fa65deaeae1\">\n",
              "    <div class=\"colab-df-container\">\n",
              "      <div>\n",
              "<style scoped>\n",
              "    .dataframe tbody tr th:only-of-type {\n",
              "        vertical-align: middle;\n",
              "    }\n",
              "\n",
              "    .dataframe tbody tr th {\n",
              "        vertical-align: top;\n",
              "    }\n",
              "\n",
              "    .dataframe thead th {\n",
              "        text-align: right;\n",
              "    }\n",
              "</style>\n",
              "<table border=\"1\" class=\"dataframe\">\n",
              "  <thead>\n",
              "    <tr style=\"text-align: right;\">\n",
              "      <th></th>\n",
              "      <th>Frecuency</th>\n",
              "      <th>Relative frequency</th>\n",
              "    </tr>\n",
              "  </thead>\n",
              "  <tbody>\n",
              "    <tr>\n",
              "      <th>Male</th>\n",
              "      <td>194</td>\n",
              "      <td>0.52</td>\n",
              "    </tr>\n",
              "    <tr>\n",
              "      <th>Female</th>\n",
              "      <td>179</td>\n",
              "      <td>0.48</td>\n",
              "    </tr>\n",
              "  </tbody>\n",
              "</table>\n",
              "</div>\n",
              "      <button class=\"colab-df-convert\" onclick=\"convertToInteractive('df-589bb9ca-58a6-465b-8423-2fa65deaeae1')\"\n",
              "              title=\"Convert this dataframe to an interactive table.\"\n",
              "              style=\"display:none;\">\n",
              "        \n",
              "  <svg xmlns=\"http://www.w3.org/2000/svg\" height=\"24px\"viewBox=\"0 0 24 24\"\n",
              "       width=\"24px\">\n",
              "    <path d=\"M0 0h24v24H0V0z\" fill=\"none\"/>\n",
              "    <path d=\"M18.56 5.44l.94 2.06.94-2.06 2.06-.94-2.06-.94-.94-2.06-.94 2.06-2.06.94zm-11 1L8.5 8.5l.94-2.06 2.06-.94-2.06-.94L8.5 2.5l-.94 2.06-2.06.94zm10 10l.94 2.06.94-2.06 2.06-.94-2.06-.94-.94-2.06-.94 2.06-2.06.94z\"/><path d=\"M17.41 7.96l-1.37-1.37c-.4-.4-.92-.59-1.43-.59-.52 0-1.04.2-1.43.59L10.3 9.45l-7.72 7.72c-.78.78-.78 2.05 0 2.83L4 21.41c.39.39.9.59 1.41.59.51 0 1.02-.2 1.41-.59l7.78-7.78 2.81-2.81c.8-.78.8-2.07 0-2.86zM5.41 20L4 18.59l7.72-7.72 1.47 1.35L5.41 20z\"/>\n",
              "  </svg>\n",
              "      </button>\n",
              "      \n",
              "  <style>\n",
              "    .colab-df-container {\n",
              "      display:flex;\n",
              "      flex-wrap:wrap;\n",
              "      gap: 12px;\n",
              "    }\n",
              "\n",
              "    .colab-df-convert {\n",
              "      background-color: #E8F0FE;\n",
              "      border: none;\n",
              "      border-radius: 50%;\n",
              "      cursor: pointer;\n",
              "      display: none;\n",
              "      fill: #1967D2;\n",
              "      height: 32px;\n",
              "      padding: 0 0 0 0;\n",
              "      width: 32px;\n",
              "    }\n",
              "\n",
              "    .colab-df-convert:hover {\n",
              "      background-color: #E2EBFA;\n",
              "      box-shadow: 0px 1px 2px rgba(60, 64, 67, 0.3), 0px 1px 3px 1px rgba(60, 64, 67, 0.15);\n",
              "      fill: #174EA6;\n",
              "    }\n",
              "\n",
              "    [theme=dark] .colab-df-convert {\n",
              "      background-color: #3B4455;\n",
              "      fill: #D2E3FC;\n",
              "    }\n",
              "\n",
              "    [theme=dark] .colab-df-convert:hover {\n",
              "      background-color: #434B5C;\n",
              "      box-shadow: 0px 1px 3px 1px rgba(0, 0, 0, 0.15);\n",
              "      filter: drop-shadow(0px 1px 2px rgba(0, 0, 0, 0.3));\n",
              "      fill: #FFFFFF;\n",
              "    }\n",
              "  </style>\n",
              "\n",
              "      <script>\n",
              "        const buttonEl =\n",
              "          document.querySelector('#df-589bb9ca-58a6-465b-8423-2fa65deaeae1 button.colab-df-convert');\n",
              "        buttonEl.style.display =\n",
              "          google.colab.kernel.accessAllowed ? 'block' : 'none';\n",
              "\n",
              "        async function convertToInteractive(key) {\n",
              "          const element = document.querySelector('#df-589bb9ca-58a6-465b-8423-2fa65deaeae1');\n",
              "          const dataTable =\n",
              "            await google.colab.kernel.invokeFunction('convertToInteractive',\n",
              "                                                     [key], {});\n",
              "          if (!dataTable) return;\n",
              "\n",
              "          const docLinkHtml = 'Like what you see? Visit the ' +\n",
              "            '<a target=\"_blank\" href=https://colab.research.google.com/notebooks/data_table.ipynb>data table notebook</a>'\n",
              "            + ' to learn more about interactive tables.';\n",
              "          element.innerHTML = '';\n",
              "          dataTable['output_type'] = 'display_data';\n",
              "          await google.colab.output.renderOutput(dataTable, element);\n",
              "          const docLink = document.createElement('div');\n",
              "          docLink.innerHTML = docLinkHtml;\n",
              "          element.appendChild(docLink);\n",
              "        }\n",
              "      </script>\n",
              "    </div>\n",
              "  </div>\n",
              "  "
            ]
          },
          "metadata": {},
          "execution_count": 29
        }
      ]
    },
    {
      "cell_type": "code",
      "source": [
        "explode = (0.1, 0)\n",
        "plt.pie(freq_rel.values, labels=freq_rel.index, autopct='%1.1f%%', explode=explode, startangle=90, textprops={'fontsize': 12}, wedgeprops={'edgecolor': 'white'})\n",
        "plt.legend(bbox_to_anchor=(1.05, 1), loc='upper left', frameon=True)\n",
        "plt.title('Gender Distribution', fontsize=14)\n",
        "plt.show()"
      ],
      "metadata": {
        "colab": {
          "base_uri": "https://localhost:8080/",
          "height": 429
        },
        "id": "JDM3pEvNZbuD",
        "outputId": "cb69579d-f1d2-4aad-902a-736cfcd17e21"
      },
      "execution_count": 30,
      "outputs": [
        {
          "output_type": "display_data",
          "data": {
            "text/plain": [
              "<Figure size 640x480 with 1 Axes>"
            ],
            "image/png": "[encoded data removed]"
          },
          "metadata": {}
        }
      ]
    },
    {
      "cell_type": "markdown",
      "source": [
        "**Gender:** It is a balaced dataset, with an equal participation between women and men. "
      ],
      "metadata": {
        "id": "tAB8lDqSeWas"
      }
    },
    {
      "cell_type": "code",
      "source": [
        "# Education level\n",
        "freq_abs=data['education_str'].value_counts().rename('Frecuency')\n",
        "freq_rel=data['education_str'].value_counts(normalize=True).round(2).rename('Relative frequency')\n",
        "tabla=pd.concat([freq_abs,freq_rel],axis=1)\n",
        "print('Frecuency table for','education level')\n",
        "tabla"
      ],
      "metadata": {
        "colab": {
          "base_uri": "https://localhost:8080/",
          "height": 161
        },
        "id": "Me5Bkor0XoPo",
        "outputId": "1d0794f3-2ccb-4a08-f8e8-d37cf323947d"
      },
      "execution_count": 31,
      "outputs": [
        {
          "output_type": "stream",
          "name": "stdout",
          "text": [
            "Frecuency table for education level\n"
          ]
        },
        {
          "output_type": "execute_result",
          "data": {
            "text/plain": [
              "            Frecuency  Relative frequency\n",
              "Bachelor's        224                0.60\n",
              "Master's           98                0.26\n",
              "PhD                51                0.14"
            ],
            "text/html": [
              "\n",
              "  <div id=\"df-836ddd98-b99c-4079-b4ae-f840b7ca67ac\">\n",
              "    <div class=\"colab-df-container\">\n",
              "      <div>\n",
              "<style scoped>\n",
              "    .dataframe tbody tr th:only-of-type {\n",
              "        vertical-align: middle;\n",
              "    }\n",
              "\n",
              "    .dataframe tbody tr th {\n",
              "        vertical-align: top;\n",
              "    }\n",
              "\n",
              "    .dataframe thead th {\n",
              "        text-align: right;\n",
              "    }\n",
              "</style>\n",
              "<table border=\"1\" class=\"dataframe\">\n",
              "  <thead>\n",
              "    <tr style=\"text-align: right;\">\n",
              "      <th></th>\n",
              "      <th>Frecuency</th>\n",
              "      <th>Relative frequency</th>\n",
              "    </tr>\n",
              "  </thead>\n",
              "  <tbody>\n",
              "    <tr>\n",
              "      <th>Bachelor's</th>\n",
              "      <td>224</td>\n",
              "      <td>0.60</td>\n",
              "    </tr>\n",
              "    <tr>\n",
              "      <th>Master's</th>\n",
              "      <td>98</td>\n",
              "      <td>0.26</td>\n",
              "    </tr>\n",
              "    <tr>\n",
              "      <th>PhD</th>\n",
              "      <td>51</td>\n",
              "      <td>0.14</td>\n",
              "    </tr>\n",
              "  </tbody>\n",
              "</table>\n",
              "</div>\n",
              "      <button class=\"colab-df-convert\" onclick=\"convertToInteractive('df-836ddd98-b99c-4079-b4ae-f840b7ca67ac')\"\n",
              "              title=\"Convert this dataframe to an interactive table.\"\n",
              "              style=\"display:none;\">\n",
              "        \n",
              "  <svg xmlns=\"http://www.w3.org/2000/svg\" height=\"24px\"viewBox=\"0 0 24 24\"\n",
              "       width=\"24px\">\n",
              "    <path d=\"M0 0h24v24H0V0z\" fill=\"none\"/>\n",
              "    <path d=\"M18.56 5.44l.94 2.06.94-2.06 2.06-.94-2.06-.94-.94-2.06-.94 2.06-2.06.94zm-11 1L8.5 8.5l.94-2.06 2.06-.94-2.06-.94L8.5 2.5l-.94 2.06-2.06.94zm10 10l.94 2.06.94-2.06 2.06-.94-2.06-.94-.94-2.06-.94 2.06-2.06.94z\"/><path d=\"M17.41 7.96l-1.37-1.37c-.4-.4-.92-.59-1.43-.59-.52 0-1.04.2-1.43.59L10.3 9.45l-7.72 7.72c-.78.78-.78 2.05 0 2.83L4 21.41c.39.39.9.59 1.41.59.51 0 1.02-.2 1.41-.59l7.78-7.78 2.81-2.81c.8-.78.8-2.07 0-2.86zM5.41 20L4 18.59l7.72-7.72 1.47 1.35L5.41 20z\"/>\n",
              "  </svg>\n",
              "      </button>\n",
              "      \n",
              "  <style>\n",
              "    .colab-df-container {\n",
              "      display:flex;\n",
              "      flex-wrap:wrap;\n",
              "      gap: 12px;\n",
              "    }\n",
              "\n",
              "    .colab-df-convert {\n",
              "      background-color: #E8F0FE;\n",
              "      border: none;\n",
              "      border-radius: 50%;\n",
              "      cursor: pointer;\n",
              "      display: none;\n",
              "      fill: #1967D2;\n",
              "      height: 32px;\n",
              "      padding: 0 0 0 0;\n",
              "      width: 32px;\n",
              "    }\n",
              "\n",
              "    .colab-df-convert:hover {\n",
              "      background-color: #E2EBFA;\n",
              "      box-shadow: 0px 1px 2px rgba(60, 64, 67, 0.3), 0px 1px 3px 1px rgba(60, 64, 67, 0.15);\n",
              "      fill: #174EA6;\n",
              "    }\n",
              "\n",
              "    [theme=dark] .colab-df-convert {\n",
              "      background-color: #3B4455;\n",
              "      fill: #D2E3FC;\n",
              "    }\n",
              "\n",
              "    [theme=dark] .colab-df-convert:hover {\n",
              "      background-color: #434B5C;\n",
              "      box-shadow: 0px 1px 3px 1px rgba(0, 0, 0, 0.15);\n",
              "      filter: drop-shadow(0px 1px 2px rgba(0, 0, 0, 0.3));\n",
              "      fill: #FFFFFF;\n",
              "    }\n",
              "  </style>\n",
              "\n",
              "      <script>\n",
              "        const buttonEl =\n",
              "          document.querySelector('#df-836ddd98-b99c-4079-b4ae-f840b7ca67ac button.colab-df-convert');\n",
              "        buttonEl.style.display =\n",
              "          google.colab.kernel.accessAllowed ? 'block' : 'none';\n",
              "\n",
              "        async function convertToInteractive(key) {\n",
              "          const element = document.querySelector('#df-836ddd98-b99c-4079-b4ae-f840b7ca67ac');\n",
              "          const dataTable =\n",
              "            await google.colab.kernel.invokeFunction('convertToInteractive',\n",
              "                                                     [key], {});\n",
              "          if (!dataTable) return;\n",
              "\n",
              "          const docLinkHtml = 'Like what you see? Visit the ' +\n",
              "            '<a target=\"_blank\" href=https://colab.research.google.com/notebooks/data_table.ipynb>data table notebook</a>'\n",
              "            + ' to learn more about interactive tables.';\n",
              "          element.innerHTML = '';\n",
              "          dataTable['output_type'] = 'display_data';\n",
              "          await google.colab.output.renderOutput(dataTable, element);\n",
              "          const docLink = document.createElement('div');\n",
              "          docLink.innerHTML = docLinkHtml;\n",
              "          element.appendChild(docLink);\n",
              "        }\n",
              "      </script>\n",
              "    </div>\n",
              "  </div>\n",
              "  "
            ]
          },
          "metadata": {},
          "execution_count": 31
        }
      ]
    },
    {
      "cell_type": "code",
      "source": [
        "explode = (0.1,0.1, 0)\n",
        "plt.pie(freq_rel.values, labels=freq_rel.index, autopct='%1.1f%%', explode=explode, startangle=90, textprops={'fontsize': 12}, wedgeprops={'edgecolor': 'white'})\n",
        "plt.legend(bbox_to_anchor=(1.05, 1), loc='upper left', frameon=True)\n",
        "plt.title('Education level distribution', fontsize=14)\n",
        "plt.show()"
      ],
      "metadata": {
        "colab": {
          "base_uri": "https://localhost:8080/",
          "height": 429
        },
        "id": "wBHcuM1biGNR",
        "outputId": "5b056d0d-7c3a-4f29-b7ef-6f840bc35eff"
      },
      "execution_count": 32,
      "outputs": [
        {
          "output_type": "display_data",
          "data": {
            "text/plain": [
              "<Figure size 640x480 with 1 Axes>"
            ],
            "image/png": "[encoded data removed]"
          },
          "metadata": {}
        }
      ]
    },
    {
      "cell_type": "markdown",
      "source": [
        "As to the **education level**, the most typical value es Bacelor with nearly two thirds of the population, followed by Master and PhD. "
      ],
      "metadata": {
        "id": "0nWBlSbJicbx"
      }
    },
    {
      "cell_type": "markdown",
      "metadata": {
        "id": "B0V5wBT5Jz6K"
      },
      "source": [
        "### Multivariate analysis"
      ]
    },
    {
      "cell_type": "markdown",
      "source": [
        "In this section, I will carry an exploratory analysis to check whether there are differences in wages depending on gender. I will perform statistical tests to check statistically different hypothesis that could arise from the data."
      ],
      "metadata": {
        "id": "nlMLAaWVxk7n"
      }
    },
    {
      "cell_type": "markdown",
      "source": [
        "#### Wage versus gender"
      ],
      "metadata": {
        "id": "EQxensHqyY1G"
      }
    },
    {
      "cell_type": "code",
      "source": [
        "# I create new fatasets with filtered observations by gender\n",
        "data_m = data[data['gender_str'] == 'Male']\n",
        "data_f = data[data['gender_str'] == 'Female']\n",
        "\n",
        "# Descriptive statistics by gender\n",
        "print(\" Descriptive statistics for men:\\n\",'\\n', data_m['wage'].describe().round(2))\n",
        "print('\\n')\n",
        "print(\" Descriptive statistics for women:\\n\",'\\n', data_f['wage'].describe().round(2))"
      ],
      "metadata": {
        "colab": {
          "base_uri": "https://localhost:8080/"
        },
        "id": "nxUp8ZHcjiOV",
        "outputId": "41a33776-d746-4db1-dc9f-f22f0dc4e28f"
      },
      "execution_count": 33,
      "outputs": [
        {
          "output_type": "stream",
          "name": "stdout",
          "text": [
            " Descriptive statistics for men:\n",
            " \n",
            " count       194.00\n",
            "mean     103867.78\n",
            "std       50182.46\n",
            "min         350.00\n",
            "25%       60000.00\n",
            "50%       97500.00\n",
            "75%      140000.00\n",
            "max      250000.00\n",
            "Name: wage, dtype: float64\n",
            "\n",
            "\n",
            " Descriptive statistics for women:\n",
            " \n",
            " count       179.00\n",
            "mean      97011.17\n",
            "std       45916.14\n",
            "min       35000.00\n",
            "25%       50000.00\n",
            "50%       90000.00\n",
            "75%      140000.00\n",
            "max      190000.00\n",
            "Name: wage, dtype: float64\n"
          ]
        }
      ]
    },
    {
      "cell_type": "markdown",
      "source": [
        "There seems to be a diference in mean of around 6000 usd per annum. To check the statistical significance of this difference I will run a hypothesis test. "
      ],
      "metadata": {
        "id": "Gq8__Ddi3Z1p"
      }
    },
    {
      "cell_type": "code",
      "execution_count": 34,
      "metadata": {
        "colab": {
          "base_uri": "https://localhost:8080/",
          "height": 453
        },
        "id": "uSb52tUUq1eV",
        "outputId": "5cca80c6-1442-4a97-f5fd-0b8029bab74e"
      },
      "outputs": [
        {
          "output_type": "display_data",
          "data": {
            "text/plain": [
              "<Figure size 640x480 with 1 Axes>"
            ],
            "image/png": "[encoded data removed]"
          },
          "metadata": {}
        }
      ],
      "source": [
        "# Boxplots de variables numéricas agrupadas por género\n",
        "sns.boxplot(x='gender_str', y='wage', data=data)\n",
        "plt.xlabel('')\n",
        "plt.ylabel('Wage')\n",
        "plt.title('Boxplot for wages by gender',fontsize=14)\n",
        "plt.show()\n"
      ]
    },
    {
      "cell_type": "markdown",
      "source": [
        "The distribution of female wages is a little bit more concentrated, and its range is lesser too. "
      ],
      "metadata": {
        "id": "9mwGo-nprkyl"
      }
    },
    {
      "cell_type": "code",
      "source": [
        "# I create a histogram for each gender\n",
        "plt.hist(data[data['gender_str']=='Male']['wage'], alpha=0.5, color='lightblue', edgecolor='black', label='Males')\n",
        "plt.hist(data[data['gender_str']=='Female']['wage'], alpha=0.5, color='orange', edgecolor='black', label='Females')\n",
        "\n",
        "# Add a vertical line for the mean of the distributions \n",
        "plt.plot([df[df['gender_str']=='Male']['wage'].mean(), df[df['gender_str']=='Male']['wage'].mean()], [0, plt.ylim()[1]], '--', color='blue', linewidth=1)\n",
        "plt.plot([df[df['gender_str']=='Female']['wage'].mean(), df[df['gender_str']=='Female']['wage'].mean()], [0, plt.ylim()[1]], '--', color='pink', linewidth=1)\n",
        "\n",
        "plt.xlabel('Wages')\n",
        "plt.ylabel('Frequency',fontsize=10)\n",
        "plt.title('Wage distribution for females and males')\n",
        "plt.legend(labels=['Males', 'Females', 'mean males', 'mean females'],fontsize=9)\n",
        "plt.grid(True)\n",
        "plt.show()"
      ],
      "metadata": {
        "colab": {
          "base_uri": "https://localhost:8080/",
          "height": 472
        },
        "id": "J17ewOrF6rtT",
        "outputId": "c79aa42e-98bf-4f11-9541-bd814278c200"
      },
      "execution_count": 35,
      "outputs": [
        {
          "output_type": "display_data",
          "data": {
            "text/plain": [
              "<Figure size 640x480 with 1 Axes>"
            ],
            "image/png": "[encoded data removed]"
          },
          "metadata": {}
        }
      ]
    },
    {
      "cell_type": "markdown",
      "source": [
        "The two competing hypothesis are  \n"
      ],
      "metadata": {
        "id": "qja3ihC2eizz"
      }
    },
    {
      "cell_type": "markdown",
      "source": [
        "![image.png](data:image/png;base64,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)"
      ],
      "metadata": {
        "id": "hNxQQCS_h9OP"
      }
    },
    {
      "cell_type": "markdown",
      "source": [
        "where"
      ],
      "metadata": {
        "id": "T0yocM18iLqp"
      }
    },
    {
      "cell_type": "markdown",
      "source": [
        "![image.png](data:image/png;base64,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)"
      ],
      "metadata": {
        "id": "LenwZjPkiMsF"
      }
    },
    {
      "cell_type": "markdown",
      "source": [
        "The significance level is 5%. The statistic chosen is T due to the fact of unknown variances. There is a difference in the standard deviation formula used to calculate the observed value for T depending on assumptions about the variances for females and males. "
      ],
      "metadata": {
        "id": "YuiK3BVWiZvt"
      }
    },
    {
      "cell_type": "markdown",
      "source": [
        "Under the equal variances assumption, the correct statistic is: "
      ],
      "metadata": {
        "id": "seDDZNbrmXFp"
      }
    },
    {
      "cell_type": "markdown",
      "source": [
        "![image.png](data:image/png;base64,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)"
      ],
      "metadata": {
        "id": "7m7uHn2ekeKB"
      }
    },
    {
      "cell_type": "markdown",
      "source": [
        "where"
      ],
      "metadata": {
        "id": "HbZuSRpKl0ur"
      }
    },
    {
      "cell_type": "markdown",
      "source": [
        "![image.png](data:image/png;base64,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)"
      ],
      "metadata": {
        "id": "ePC-eyN2l3co"
      }
    },
    {
      "cell_type": "markdown",
      "source": [
        "and\n",
        "*   n1: total males \n",
        "*   n2: total females"
      ],
      "metadata": {
        "id": "_I6FKSsXl-FD"
      }
    },
    {
      "cell_type": "markdown",
      "source": [
        "*   S1: sampling standard deviation for males\n",
        "*   S2: sampling standard deviation for females"
      ],
      "metadata": {
        "id": "fCzS06cCoF7E"
      }
    },
    {
      "cell_type": "markdown",
      "source": [
        "If the variances are unnequal, the correct formula is"
      ],
      "metadata": {
        "id": "dnMkTqHbmYwT"
      }
    },
    {
      "cell_type": "markdown",
      "source": [
        "![image.png](data:image/png;base64,iVBORw0KGgoAAAANSUhEUgAAAQkAAAB9CAYAAACxrJYHAAAAAXNSR0IArs4c6QAAAARnQU1BAACxjwv8YQUAAAAJcEhZcwAADsMAAA7DAcdvqGQAAA+iSURBVHhe7Z3Nq1XVG8e3v3mG5qxJeAsSDAdeNdIEG3hNpYmFvYAEhXYLGmSYbw0iiq7kJMKug4ZhRdBELQ0KtITMRFFJKKNBNLpp5R9wf+ezzn503+0+++xz9uva5/uBxTpnnXPuXXuvtb77Wc96mzfbIRBCiB78L4yFECIRiYQQIhWJhBAiFYmEECIViYQQIhWJhBAiFYmEECIViYQQIhWJhBAiFYmEECIViYQQIhWJhBAiFYmEECIViYQQIhWJhBAiFYmEECIViYQQIpWR2plq3rx54aveNPF2+Jpv0Q60fZ0QIpXWdTc+/fTTYMWKFcH3338fpgiDe/P000838t78/fffwYEDB4L7778/TBFJ1FKGWBJtYGZmZnZiYmJ2fHx89tq1a2FqF96TzuVaMKampuakHzt2LPykGWzdunVO/k6fPu3SiaPpe/fuden94HdjY2Ozk5OTYUr9XLhw4VaeKEeRTtVl2BqRQAQIvSoZQmENikoZxQRkeno6TGkWVIik/CEMpA/auPhuU4SCclmwYEGjRMsHqizDVogE1gAVLW5BxDExiIJgkMbfaComBmZFgFUSrKdhMEukbsvJrD8xOFWVofciQWPJ+iQ6cuTInJvKb6mgTX+KmRUU7VKQ5zTLKQv8HqGpC6vklIsYjirK0HuRwASnokWfsr2gQfFdEwX6+8M+iasmWhm4ZoQxj0CA3bt496sqzN8yKFw79yOKPQCa2mW0a42WmYk/nw1LFWXo/ejGd9995+I1a9a4OI177rkn6BSI8xC//PLLQaeQgk8++ST8tNm8+OKLLr/79u0L9uzZ466b68nDww8/7OITJ064uGpOnjwZdEQ6fJeN33//Pbhx40awfv36MKXLpUuXXGzX1DTOnTsXdIRtTpldvXrVxevWrXPxMFRShqFYeEvSUyUNuhpcdhFP4ioxK4iQxWrKCn+vDmvKfEFZR2UMsxjiXRSugfQmYhZDvFtrI2t5y5O/UWYZem9J8FQZ5Il69OhRF3dM99xP4ir55ptvwldBsGTJkvBVMfz222/hq+q4efOmi++++24XZ8UshpUrV7rY4Ek6qFVSFWYxrF271sXGt99+6+IsVnA/yizDkVq7cfjwYWfidhTdmX8XL14MP8kPk1uYPj1IYPJQFsjnM888E3SePO79F1984eKioBvTj6T8p4UNGzaEvywWyq9jBQaLFy8OU7r3Bx577DEX54EySbqetNBvYtMPP/zg4ri4nz17tjBhy1KGQxNaFN7CJWQxtehm0MXAzM1i6mIiYh7GTcSqIR/k28zrtO6V5RkHJ9dH3G/kgO/VUQ1sZGPQoWd+Ey9vc94lDQXyf/h+v/tQJvz/+D3uVQfJp32fgFOzX7fYvlsWIyESFEi0oQENiLQ4FAgV1wqqzvkT5AVBiAoVr8kX1xSHPPM5vyOYRx3x6AWf26hJlQwjEr1+Y6IYbUwmmNw/Psvb788D/z9eR60co8JGHqmTlle73mj5J8F3yixD77sbnZvq5v33gs+2bNniuhjMeTcY5cCfcfz48TCly7///hssXbo0+Prrr2vv477yyisuPnTokIth8+bNLv78889dHIU88118LYRt27a5dOv/96KO9RJ33XWXi7nfWTlz5oyLKR+D0R6gHkR9TH/99VewY8eO4KeffgpT6sG6IsuXL3cxUOfoNsG9997rYsA3cf369Vs+CmJGREjrR5ll6L1I4MDCv5AEAkHfuPNUCV577bUwtYs5zD744AMXG/R1N27cGL6rD4ZoP/vss+Ctt94KU7rMnz/fxR999FGqOAJOWirZsmXLwpS5JFXgqrA8/fzzzy7Owvnz5118+fJlF+NjAhrIwoUL3f3gvhHTwHpdd5VcuXLFxXad3HPq3Pbt2917xBI/SJJfg+Fe6raJfRKVlGFoUXhLr/4o5qaZmoToJBtMdTNRCb1MXkzEOrob1k0g8NrAnLZuECFuwkaha8X1R03wOFVMxEnDrjMtj1EwxblmYoKVjV0HZZrUreCzurobXCPlYPXNuoPWtSBE66bBd/hdP19KFWXovUhwM7nR/fptw1CXSOQli0CAVd66sD53v4YAiP6wjb1OkeD+DlqHsgoEVFGG3nc36Ifu3r3bmd+YZ6MOs0kPHjzo/BNp80AwUzFl492tKqFL0BHiYP/+/WFKbxgu9A3qI13dQbAu8s6dO+f40JKorAxDsUjE1DtLGHTmXNGgqFmenlnh2lForImi/mbZmAkbzS/lEn+K8nlZ1tegcJ+z5IXPqWeDloVZK3XUTywB/nfS0Gwv4tYr10tanCrLMFUk7CKjfSYyRjCsT5TFNCoTu5kIRd7+GdcTD0kF1TSs3xsPUZEwIWmCQBjmI6L/3ksEBvVfmDjEQ5XdR2sbWUXC2ls8xOte1WWYKhJkInpTzbKIOtMsrS7nVxxuNEIRbRiiC/eGsmvivaHxU9fK7l/7Th1lONBGuPR3bXrwrl27wtTulN0B/owQwiMGclyeOnXKxY888oiLDQmEEO1lIJGw2Ws2I2wQylg4I4Qon8zdDYZmFi1a5IasGF4TQowGmS2JH3/80cV1TOFNIsnyUFAY9VAGmUXC5suvXr3axXWDAaSgoDA3lEFmkbBddFatWuXiQZFPQgg/yeyToNGOjY3VstWZEKI+MlkS9kQfHx93sRBidMgkEh9++GH4SggxavQVCVaisfkJEPdbmSbqZxj/zygEMRwDTcsWfoBI4GjWfBZRBJlHN4QQo4lEooWwuWxTJr0J/5FItBA2XR30ZCwheiGREEKkIpEQQqQikWghzIqN7/khxLBIJFrItTIPjxUjh0RCCJGKRKKl2FmbQuRFMy5bBgfCsFpXxSqKQpZEy+A0bSGKRCIhhEhFItFC6G4MC90Vju/nOH9WThJz3krT8TXfPiCRaBlXrlxxDWRYaGjAxsczMzNuoyEOZGr6Ycy+5tsHJBItg8VdeWB5+aFDh9yJ5IRt27a59Js3b7q4qfiabx+QSIhUjh496p7Ky5YtC1P8wNd8NxGJRAspapk4fXpObfNt8xpf891UJBItgx2pilgmTkM7ePCga2iY777ga76bjERihLh48aLbozS67+OGDRvuON+kaQ3t+PHjwYoVK27leeHChe464k5JCUQ5SCRGBM5yXbdunXuN958ZmdPT08GJEyeCP//806UDgsFIQbSh7du3r7aDkvi/mzZtCp566imXZ/Ie3ZzZaFq+WwXTskV7GB8fnz19+nT47jakUdzxz8bGxmYvXLgQvuu+53vxkPQ3q2Bqasr9/yjXrl2bXbBgQfiuS9Py3SZkSbSMc+fOha/mYgu+4meosPdEdASA9516cUdYs2ZN+I1qMf/K4cOHXQyLFy8Orl+/Hr7r0rR8twmJxIiAEExOTjoznf69L2b4k08+6YYyX3rppUQ/hCgficQIwWQj/BBsSvPoo486R1/Twb+An2Hv3r1O4BAMHLCiOrRUvEXwlM2yTBwnJqMadE0QDMx3H0AccL4yuqGDq6tDlkSL6LVMHK9/1Grg6cxoAcR/QzcEAWmClcEalGj3gi7TypUr79iej7ySZxsipVuCEIqCwJIQ7cBGMOIw4kFgVACIec+IgEHa5OSkS+dv1D0qMDMz4/JBnngN5IlRDdIMS7P82j2IfkfkQ5ZEy+g0mPDVbdavX++sB7oiPGnp1+O8PHnyZPiNrkWxY8cON525CbBQDUcr+Vm0aJHL9/PPPx/s3r07ePvtt8NvBW70gpEOG8Ug5vriox9ieOSTaBEME3755ZfO0ZcHGmTniezl8KH5ZY4dOxZs3LgxTBV5kCXRIvIuE/cd/BBbt24Njhw5IoEoEImEKJUDBw44y6RsbMRm586dznEpikMi0TJ8Gc4sEglEuUgkWsT58+eD++67L3w3HDYT86uvvnKxDzz33HNuSNcEwkRDFINEokX8888/4avBQRzoFjATE9599133nu5Ck2GOBCtZ33jjDZdfAqMhojgkEsLBSAYDXfGwa9eu8BvNBOshKd95R3jEbSQSLWPp0qXhqy72dC0yVEHS/80bxHBonkSLoCHUOb9h0IY4MTGhJ74HyJIQhRE19y1MTU31/EwC4QcSCSFEKhKJlmCrHn2cSi2ajUSiJfzyyy/hKyGKRSIhhEhFItEikpaJAxOi2M2JwBkWwIpRO4GbreebBt0nNsshf7b5DGnk1a7Fh+332oBEoiVwdga7NsVBDNhx+tdffw1u3LgRXL58+dYJ3GwBx6pJZleWtW8kk7EYyRiUN998M3j22Wfdkm92orp69aqbfv3444+7a0Ek7DpEyXQKULQAzqeYmJgI3yVDcbMb1fT0dJhy+1wL29mpadhOU+Q7ej4I16rqWw2yJEYEW7iF6c4OVAaLwmDJkiUubhpnzpxx8fbt2+ecD3L27Fm3A5UoH4lEi0hbJm6N7dVXX3WxwY7ZNDY7Gq9pcAAyvPDCCy4G/BN0ndiWT5SPRKIl9FsmbhZDdMcmGhv9/aTGhpMQhyd7YdYJFgPTt6MiRhqsXr3axQbWEgu+8Ffg8CTvOqMjPxKJltBvmTib3sbN816NjVEDnITvvfderRYGDRyLYfny5WFKl1OnTrl41apVLjZY5s65HGyCi/jx2y1btoSfimGRSIwAZp7HrQJrbA8++KCLDfbKZF0FO1PXiU0Qe+ihh1xsIHhsdhsXsNnZ2Vv+FrpejNxo1+z8SCRaRHyZuGEWw9q1a11sIB7AEClDpbbBTNSxWScmYvGhXawE5oTYXApzysbhWEC25Rf5kEi0BHZnmj9/fvhuLpcuXXJxfAQDJyaN7YEHHnDWQ9M2mOHMDfIXd8iyshSHK92NzZs3J65XQTzwtbzzzjthihgW7SfREsrYSwLLgtEF35Z02yQrDkgW+ZElIVqFBKJ4JBKegKefHaBt7UUSRVoR9PcZNsWfYb6LpoPlQ16jAlH3EG4bUHej4VDp33//fefRx2GHVz9+7D6OO4b/iipKxAgfR5wmVxXuE/cmCVXxfMiSaDgsbGKhE8JAI0Aoyl79iA+ChhUPTQbnZlKeCSIfsiQ8gq7Gpk2b7rAmsCSeeOIJzQkQpSBLwiOYUs0UZawJ5jUY//33X+IycSGKQCLhGfv373fxnj17nHMR2CNCiLKQSHgGIxhYE0yz/vjjj8NUIcpDIuEhZk2wAMusiVE8TVxUg0TCQ7AmWJNg1sQff/yR+zRxIXohkfCU119/3cWcps0cCiHKQiLhKXQvbIUjox1ClIVEwmPMmoBey8SFyItEwmOwJuxA3l7LxIXIi0TCc9ggttehPEIUgaZlCyFSkSUhhEhFIiGESEUiIYRIRSIhhEghCP4PPm645ltDnacAAAAASUVORK5CYII=)"
      ],
      "metadata": {
        "id": "252kBVtYncYV"
      }
    },
    {
      "cell_type": "markdown",
      "source": [
        "In order to choose the correct formula, an equal variances test should be performed. In this case, the Levene test will be used (included in scipy).\n",
        "The competing hypothesis for this case will be:\n"
      ],
      "metadata": {
        "id": "uTMxlrzji5EJ"
      }
    },
    {
      "cell_type": "markdown",
      "source": [
        "![image.png](data:image/png;base64,iVBORw0KGgoAAAANSUhEUgAAAasAAABKCAYAAAAFfnv+AAAAAXNSR0IArs4c6QAAAARnQU1BAACxjwv8YQUAAAAJcEhZcwAADsMAAA7DAcdvqGQAAAsvSURBVHhe7d3Nq01fHMfx7fcP4DKUhAFRSp7yMKC4yMRAiIFSRFJKCgNJEgYm8jAwkUKZEgYMPJTHrhATkmTkIfwB97ffy/6y7LvPvfc83f3d53xeta1z9tnn3LXXXnt911p7n2NUfyoRERFx7L8sFRERcUvBSkRE3FOwEhER9xSsRETEPQUrERFxT8FKRETcU7ASERH3FKxERMQ9BSsREXFPwUpERNxTsBIREfcUrERExD0FKxERcU/BSkRE3FOwEhER9xSsRETEPQUrERFxT8FKRETcU7ASERH3FKxERMQ9BSsREXFPwUpERNxTsBIREfcUrERExD0FKxERcU/BSkRE3FOwEhER9xSs2uzKlSvJhg0bklGjRoVl7ty5yY0bN7JXu8P9+/eTnTt3Jj09PaEMpk6dmpw4cSJ7VcSnr1+/JufPnw/nrJ2/nMsvXrzItuh8rsqgX9rm3r17/RTxjh07+r98+dL/7t27/ilTpvSPHTs226I7UAZz5swJ+085rF+/Pqzr6+vLthDx5/jx46Genjt3Ljy385n62y08lYFGViPgyJEjybhx45LJkycn27ZtS75//x5GG93k8OHDYf8ph127doV1t27dCqmIV2knK9m+fXt4vHjx4qS3tze5evVqeN4tvJRBqcHq/fv3f4aWtsTDS6aK4tcYilYJBzbtEIQG2vz48SNJR1bhtW5BGaxevTp7liQ/f/4MKZVeqomp3PjcZKrI0BGLX2NhOqlq9u3blzx58iR79hv7kY4qsmedz1UZhPFVia5fvx6GlSxF00IHDhwIrzF9xhRSlbF/7Mvly5ezNd2HY8ixZGpUqovjaOetTRHFhjqvq4j9ZAq/m6evyyyD0oOVzYGmvexszb9szpS0yji4HORuD1Rcu1Kg6gwWjIoMdV5XDedttweqssug9GtWnz59CunatWtDmnfnzp2QLly4MKRVxNTm0qVLkzNnzoQ7aboRUwcrV64MU7mUg1QbU/ioNR308OHDkC5btiykVcYdvdzNevfu3WTWrFnZ2u7ioQxKD1YvX74M6YIFC0KaZxfhq3qNh5OaQEWQ6tZABQIVuNlEqu/t27chpW4X6YROJviaycaNG0MHq52NtF2/93jj1UiVwZCyEVZpmBZiaFnE5r0bnUrgvSxMSbQKU1kMh7l1k2sv9jfiJb62VjTtxXtbmaeRVm8ZcN2RcojXMfdd9andIuyTlQn11/CYMmA95RGjLlCWcflR54uuBXlh15KLpoQ4zrYfjbLp/1ZPI5Jf8s7nWh7jJT42fNUiP3XPvnF8W402YqSmTL2WwVBKDVZxpR5sabRRs/e3KjBwkDlILBw88k8lo6EpwjbxfsRLvXli+6LPGWpptXrLgMpelC+WTgtWlAEBxo6VNT48p4woKwJWfKJb+djr4DO8l48F3sGWZhrfdgQrC7CUNfXYyp7HRdjO9iW/tJLlo1Xt1GC8lsFwlBqsbORU66S0yB/3UOthhdqKSsDBpIdRNELgb9Q62J1EZTA4KxMLVnG9tteo03Fgt0Y5X0fZrtF6327sC3muFUhsn+Ieer1aHays0Y1HCKA+1+potZK1ZfUstdrFRpVdBs0qNVjVOlGNHbS4YSwLlY2Dms9LUcPUqVQGw2P1Ot8owEakhsdsS0NSFUMdb2uYvQTbwfJreS2LjWxI28lzGQxXqTdY2EXY6dOnhzRmXw5Oe/H/fKkW3FnGzQr2hUPuUmnnlw7JCzd6pA3KgLzYXU+dTmUwfB8+fAjphAkTQmq4eJ4G+39utOExdfzs2bPhTskq/LKJHe+ZM2eGNO/x48chnT9/fkjLdvr06ZBu3bo1pLGyf0XlwoUL4cvx/LpLO3kug+EqNVhRSGlPc0Djhzdv3oS06FcrNm3aFNK0h5/09fWF2yptXTvYwVy1alVIY9YwTZw4MaQm/oZ/UQNEgB3s9Ty2se3rWVqlkTKI9zG/2N2Bnchu687fwbpnz57k1KlT2bO/+IWAtMebpL3rZMmSJcnBgwezV3yyTua0adNCGmPf+TmxWud1GfhpIAJCPj92nMhrjPZksHpqd+41W4/pYNNJ2b17d7amfeotg3gfi5ZSOlXZCGvE2bC01lypXQjMT6VwXYT1vN/Ytu0aStu0Tvw3DdNiRX+bqTJ7Lb8PfI695vmOr1gjZQCubzHNEGNd0XREp6A8WGLU0aH2mfKjbChLz9f/yF9+/4xdh641rcl+cc6zjW3H1Gg7p/r5O/k6CLvWWpRXjhf7SN7y+Cx7bbj55j22z8NdWnmO8Hn1loEdy/ict3VlKG1k9fr165DOnj07pHm3b98OaX4qxXr4ca/VevufP38OqWlVL2D06NHZo3/xe2j0ItOKPWAYz8hw3rx5YYrn48eP2drfvaktW7b8mQpavnx5SL1rpAzw9OnTAV8MXbFixYBRWCehPDj2xsqI31mL5af9KL9169aFx79+/QqpNzY9H+9f7MGDByGdNGlSSGP25fienp4wK8LCef7t27cBPX77XdBWjMDTwJI9+ovz8OTJk+G1vXv3Zmv/evbsWZjyZrQb41iOGTMmPKYeD3f0ePPmTVr4Pwv7jjQQ/LM+XvL1pRmNlMGrV69CGre1TO3mR2EjJi2UEUdvhF4Jf36wiM7C45j18GNEftblRyn2GUWjgXrQ46UnRY+QvLNYj4SeMM/zyCcLvZl49Mg6em2sL+q1edVIGdhxyR/DTmdlQplRXhzvImxHPWA7kPI+yrmoPD2wUVHRMbc6wutF+1xU5/Pnh7HznNebRV74LGsHGN2Rf9YV3QQD257URrnsL/m3m2JqvXc4OHdG8vxvpAwoe7bxopRgZYVkCxXTUIjxayxWWWCVOGaVKl/o9n47QM0gD3aisrAPcb7zONA00mxjJxyfQQWl0vMZRYHas3rLwI6VNWqcoFXb50ZwvNlvyqpW3aNhpyzic8E6A3F998QaPFvygcQClS1x55F9Yl3RORpvZ6zu5P9Go/g8zj0+c6hy5phZI832dgx5D3m1vFknoxHkpWi/26meMgDbWafDAnUz+9ysUoJVM/INICxYtSIotYrlkQrJY3ACkEfLb6ePOKzRjpdmeqNSXXYexI2dzaB4C860MdZI06jznLxa4CS1YNYIO//jNswby2O8EKzKVPpvA9bLrnU8evQopLBbaYtugS8D1yHSyhzms2fMmBHWcWdcerDD/K9dr/Nya2+7cH2Ref+0noWFMql1rUM6G/+PG+LrmocOHQqptx+H5W7HRYsWhcfU1+fPnyebN28Od2yCW/O5XtUo2gDOh+Fe7yqDtalp5yLkNQ3WTe1zS6QZqRR6I/R26NnwmJ4aEd96Qh6Ql3j4TDGTZ+tJMfxupmdWBdZr7vTRowwPI2rqAz12zgOmQFk4d3nOOeGBna92rnIe85zRFWw6s9PrNe2TtzaqciMreiP8TD3p+PHjQ289rejJ0aNHsy3KxR028X/5bL2nS5cuhcfcEdUN/y32xYsXQ1r0XRzpPtz12tvbG75Hxnci+W/S16xZE3ruzDDs378/27Jc165dyx79xl2wtDF2Z96xY8dC2sloo7iL193/zJ4FLWmR+DoNvcg8epL2uvXWOg37ZfvIIlIF8XUauz4Vs9Fhp9freB89tVGj+CfNlIiIiFuVmwYUEZHuo2AlIiLuKViJiIh7ClYiIuKegpWIiLinYCUiIu4pWImIiHsKViIi4p6ClYiIuKdgJSIi7ilYiYiIewpWIiLinoKViIi4p2AlIiLuKViJiIh7ClYiIuKegpWIiLinYCUiIu4pWImIiHsKViIi4p6ClYiIuKdgJSIiziXJ/2NDjrPJq2J8AAAAAElFTkSuQmCC)"
      ],
      "metadata": {
        "id": "8brOx8-XjF29"
      }
    },
    {
      "cell_type": "markdown",
      "source": [
        "where"
      ],
      "metadata": {
        "id": "uddocq3jjrM0"
      }
    },
    {
      "cell_type": "markdown",
      "source": [
        "![image.png](data:image/png;base64,iVBORw0KGgoAAAANSUhEUgAAAUwAAABuCAYAAABMfSrWAAAAAXNSR0IArs4c6QAAAARnQU1BAACxjwv8YQUAAAAJcEhZcwAADsMAAA7DAcdvqGQAABUmSURBVHhe7Z3Lq5XV/8cff3MVtVEjSRuIiZBHBVNBByoOQijQLgOhgZjiIEJLkxBJ0sBBhDcKJCKVCiPS0qAgFbxkKBUGqURjzUt/wPnu13K//S1X69l77dPZ7n087xc8Z+29nvWs9bmtz3PfZ8xgg8oYY0xb/q9ZGmOMaYMTpjHGFOKEaYwxhThhGmNMIU6YxhhTiBOmMcYU4oRpjDGFOGEaY0whTpjGGFOIE6YxxhTihGmMMYU4YRpjTCFOmMYYU4gTpjHGFOKEaYwxhThhGmNMIU6YxhhTiBOmMcYU4oRpjDGF9FXCPH36dPXqq69WEydOrMaMGVNNnTq12rVrV3OtMcb0lr5KmAsWLKguXLhQ/fTTT9WNGzeqgYGBatOmTdXly5ebLYwxpnf03Sn5tm3bqieeeKKaNGlStX79+lB34sSJUBrzsDl8+HA1e/bscMbDsmXLluaa0QNnftKf5ebNm801o4++Spj8x9/ly5c3v1XV3bt3Q7l06dJQGvMwITlyiejDDz8MZzxTpkypZsyY0Vw7epg/f3516dKl8BkbcDAzWunbmz7sxTZs2FCtXbu2mjlzZrPWmIcDR1U7duyo3njjjRB/JImrV69Wq1atarYYXYwdOzaUS5YsCeVopS8TJsly2bJlwTl79uxp1hrz8Pjggw9C+fzzz4dytPP777+HcrQfvPRdwlSy5LqRk6XpFUeOHKkmTJgQrqebqjpz5kwop0+fHsrRSt8lTJIlbN++PZTGPGz0KNucOXNCaarq4sWLoeR65qhmsMscO3ZscO3atYMDAwODDJcurBebN28O7W7cuNGsGRzct2/f4M6dO5vfeg+yTJkyJciObHDp0qXBpUuXhjrW8R3QTW1ZH+sVQz26qy0L33PQ98qVK++3w16HDh0K5alTp0Ib+sPmjSOksKi+VB4R+yxFMsTIBiyxXyGWifXIgS2pa+VfZI/15TP6sn1O/k5smXLt2rX726SLbJjCeHFMsCBjLFvsM8mt7WQPxVIObClf0A+wPbajjj6wCdTFYoq2L/UHbei3DmSM/VQ3tmJV7Riffuvs2290LWHiEAyBQXAAwdgq0FsFa86B7cj1025p57Q4eaMH+qETQYZOfKYf6mmntmxHfU4PggobxQlPgZfKE/ePvUB9s8iuyEMAy6aMS50mJQmE+laTFOhPEyoNfvTP1aMH28Q+lo5sI52oY3uWNLkK6Yvs0ley019KJ7ZsBfYq2SY3HqXqADvgL9pKH/RVHe2p43MO6tGBfrCD2ioG4nlDv4pF2lBHuxTWdeIPravb8Ugu7NZqbOmvuIt1amfrfqErCRNDaOJgPCFDtpuoIwGCDR3jIEJv9EPvODlqUqQJk2BX4LKt0IQlwITaaiLG0DZXr8lE4MY2Z0Lk5MnBtrSNAzqeXGmgo0var2IBeWLUd6y7kM10RCXq6juxZTtayRXDWDm94sQWgw+oZ7t0XQn0y3hKigL75mxCXZq0oFN/SO6cDet2vtShZ4z6T8mN2a90JWEqSNPJBNTnnDiSUCIi6GJHazKnyasu4DSx0nodFcUBXbcnliysT6Ff1qX2buWfFE2IuC1jMRmoj49GaJPaRDLkkjN9pJNKKAmkk7ou2Xdiy3bQPvVhivTKHXXlbAaSMU0upcjmab/UpQlQO7U0LobiD8mdJnnFXrpN3dh1PhpJdCVh4rxcwOFoDDbSE6YmbTpZ6hJjbtKSVKjDVvpOv2ob96G2uWDWBMgFoSZunNSg7kgih5KrJrkmicaNJx79phOxLvGpn3RSgSZcLk5yyagTW7ajbrKnyIZpEgGtSxMb/pOMnSId03lVJ29dLA7FH3VyyxeKDWThs+Z/Gl+MwTq2wTepDCOBYU+YSoq5PZgmWeoUvlPfbru69TnUvpMlDfA66o4gNEHTQCFI0mQnO2mhDRONvtNAUlv6T5HtcsGnyRFTN/HqSBOjZFQ/qidB5fqkTW6yqd90QoMme87X2JF1MZ3Ysh0aW0mgDo2VQzLEyF7INRS0k05tInnTnaJiMdU/JxvU+aOV3NSxTgv+Z9ycTwX9KWaRo1XbfuShJkw5MWckjI0B02SKgTVJcgmjF+QSESB/mhjrjgBa2Smlrq36TseEukDXxCOZlBCPzbboSN9APT7hO/W5o62cDLFPcwmNsTRmjGRPE3MntmyHJnNOlxja5JKIZEz9rfqhythuJ53aMReLkJO7lT9aya2EORTQAxlZRhLD/hymXqFK4ReHeBi4EezZ18v4haJGkFXXr19v1txj3bp191/HWrFiRSh7CQ/WI2sjWJo190DuW7duBf1izp49G8qFCxeGsgTeX+bVvFYgx/79+8PD1emYcO7cuVAuXrw4lOLXX38N5TPPPBPKdsifP//8c/Xyyy9Xn3zyyf13iRn79u3b1UsvvXT/FcISdu/eHbZlKX0wHH3ff//98JmXGkopsWXMyZMnQ1miC69Kprz99tuhfP3110Mp9OD3vHnzQtkpkit9DpJYTO3IXCMWS19jbOUPxctTTz0VyhIYP57j+I4f7YhBD55zRc6RxLAnTAKNCXzgwIH7ye/48ePVokWLgkP4IYMUApoENH78+Or8+fPN2nv1jT1eNXny5PC9Hx4kvnLlSihnzZoVSiG50TPmzp07oRw3blzQh0AigKZNmxbs8dlnn923E4GmB/fjifH444+HEpuyLe1JUmvWrAkBN3HixFBP30oOJYFO23bJR4mDnR39xz+Ogj/4JSnG3rhxY7P2QRpHLqENutGOBMYPWJB0kRt4UDz+3VPtjL7//vuwDXJu3bo1/LYApMmsE1u2gm2Jt3RnmKNxxBfastMCtsU+JLDGGdS/Eo8SHrIOBfpNd4ySN02M//zzTyixieTCHjAUfwi2UfyCdsayAfV8fu6556o333wz1IHmDD9mom3xKXOmxNZ9RfNIc1jhEJ9TkobDwiE7h/t816lcCof7nHLo1Ap0msCpUcOo2dOLXoCsyMipSoxO5dJTJk5xZAdOn/gupBvrWBoTovaaDvW5frQ928YyqT61OWOqH2SO5amDttg/7Ysx6KtVH4zHtpJR9pEdWZc73dMpKP0rdrRN7nS5E1vWodPPkssVyEM72ZISv+RkA8k0FDQvUrnQj/qc/RhLY8Yx2ak/8K3ap/ELtI1tkIspxmBb9aNxWuWEfqUrCbNTCHSCFWdiTAxMcMhx1JUEsRn5MInqEh0TnEnZLYgxYq3TRGtGD32RMAlS7Wn4zKRhD0Sdkmh6RGcePXTHN3fESp1io1voqCw3vjHQ8x/f4PpmI1Dv30jg8969e6uDBw+GOt00mTt3bijNo8vRo0dDmbsR1Dj6C2V6M2W44Fof1wkbp47FN6LM6KPnCfPjjz9ufroHSZLJwYV6LhC/9957zTXmUWf16tWh5EaEbg6QyPjOTafGqXLXkhkx1zjdf+BmhTH/onmk2RN0oZklvtAsOP3Seq5zmkcfrh/q1JhFN1PiGxfDiW70MGbdDRtjxBj+NALGGGNMG/ruB4SNMaZfccI0xphCnDCNMaYQJ0xjjCnECdMYYwpxwjTGmEKcMI0xphAnTGOMKcQJ0xhjCnHCNMaYQpwwjTGmECdMY4wpxAnTGGMKccI0xphCnDCNMaYQJ0xjjCnECdMYYwpxwjTGmEKcMI0xphAnTGOMKaSvEubp06fDv1SdOHFiNWbMmGrq1KnVrl27mmuNMaa39FXCXLBgQXXhwoXwD/Vv3LhRDQwMVJs2baouX77cbGGMMb2j707Jt23bFv5Z/6RJk6r169eHuhMnToTSGGN6SV8lTP5F+vLly5vfquru3buhXLp0aSiNeRhcv379gUtDLDdv3myu7T1culq1atV92WbPnt1cM3LgUttIlL9vb/oQoBs2bKjWrl1bzZw5s1lrTHchWXIpCP7+++9q37591ZQpU8IZTz9w/PjxcOlqxYoV4QBj5cqVIzJhbty4MdgWRpL8YxpGH2x+7htIlsuWLQuG3LNnT7PWmO5D3J0/f776448/+iZJCubFk08+Wc2ZM6f69ttvm7Ujl8OHD1cvvPBCdejQoXDEPBLouyNMJ0vTK7i5yPVyJm+/JUv4/PPPq1u3blWrV69u1oxsfvnll1BOmzYtlCOBvkuYJEvYvn17KI15WOjmYr9eAjp69GgoR1KCacXJkydDOZIuufVVwtyyZUsoOd3QHn7//v1+FtN0Ha5dHjhwIHyePn16KPsJbvT0e0LvFB4fHHE3dLmG2U2OHTs2uHbt2sGBgQGulf5rYT1cu3Ytu55l586doU2vuHHjRtBhwoQJYTl16lSoR/YpU6YEGRuOD+0AeWlH/ebNm0NdDrZfuXLlfT3p69KlS821D0KfGou+kWffvn1hXEF/sjP9gmTXdocOHQr1ddBe8sR9C/pI69WeRTYQ6BPriHzIQCk75lAbtqnTN6YTW6bIPulSNxYQr4oJ2lKmvs75Q9tpjBIZ5fd0aTUv2tkjjifsCqxH57Q9fakt61MfC9qX+prvtKnTgTGwZ6x7bi6lftC41HWDriVMFMa4KIJRUAzjYYA6g/9X5IROl3ZgfIJGSR19qFOgaQJQT8DQFhQ8ucQQb4M9CDa+p5OUdQQAdtR41CmQFEQKVtapb00A5KaeOvpph+yYtpX+ab36TmXH36pnW0AH6ljYLofkpy1tWOiDOnRMKbVlO0q3kV7Ikuolf2DDOn9Qh6wlvhDtEkxMO3sgq/ohjqhHJ7ajfew32qmtdMzJ0KmvtU5zJQZ5sU2caOvmEvLTTmOynm2l63DTlYSJcTTJUV7IcRhrJKKEoQATOJ169I0dSmDlnMykytmBOgIgRm3TwFLfuYAj8JFFE1bgE7YpgXZp23gCxMgusZ7UKehTaJurB+mV2qauvhNbtgLZ2UYJrw7pmpOf8dA5RZOduEkTRymt/B3TqT2UcGK9kZH26MK4QjaK62AovpZN2DZGfSFXbCvpH8+7Onn43s6PQ6UrCVPKpYkCqO9W9u828V40RvqmTsoFhSZcGrzamZDshNrm7KWjiDTggL5Zl9q/rq8cBDntY+hXfafBnPYr+VIZpFOsp9BETW0DSgRxf53Ysh3yYbuEJL1y7XI2A9ksPnjoFOxLH60Sbqf2UHsSVNyvElGa6LTDjJMWDMXXyJjbuaivdIxWcwk5W9llOOlKwqzb28gRdZOWoFVwsfQbmrTpZKnbW2pPGaM+dARAMPNZNosdr7Zp8AD9pn2Dkk5qf9k+Tep1aIJqkiMD46U7Q8ZD9niySIacfNrp5HTShGSMFPRhXUwntmxHnQ9TaEP/OViXyqhJTf//hVwspXRqD+KY9mlMyA8lSWsovq6zifqSffmOjBo3FzPSmW1y64ebYc9Kmpi5oJcBc3sc2qM0xqSP0iOhGI3d6VJKbtKCAjKmbq+uRKSF7QiInLPTpCUUcDk7ahKk9ldg5Y6McmhPj00JXHRkW/WvBEm/6YSTH3JJQv3Gk05oYqhvIX3TmOjElu1AP5ZWSK9cbNbpXOePTlAs5ewZ06k9FBOpveWHNMFinzQxDsXXdTZRX1oYD52QMxcvgv6Qi21on8o9nDzUx4q+/PLLUC5cuDCUgofV33333fAaJD+8MX/+/CG9ycB2DZ06XkpAxtxjEDzszMPE6etdZ8+eDWWqq9DY/DoTbzy0etMhfYykEUChzPV95syZUM6bNy+UQs+8zZ07N5TtmDx5cvNTVe3evTu8XcJ7/uPGjQt1v/32W3jU5ciRI9Vrr70W6lKefvrp5qd7YKu9e/eGVw3xc8rt27ebnx7ko48+CuWsWbNCmdKJLXPwSBE+XLJkSbOmNYsXL25++n+++eabUPLKYkydPzrhypUroVy0aFEo21FqD8UE8yaGenwUP7yvOK+zUSe+bmeTRiIN8vNqKnngnXfeycaLIC7PnTsX8gePXvGAf7cY9oQ5duzY5qcHwYBMrsZe7wEH4lAmMc7YsWNHeBm/H5+7xCGQThYFc5rUfvjhh1CSaErAPiUTHXspseQeYK6bBCR7bF/6Bsv48eND+emnn4bA11tX8u9ff/1VPfvss9XBgweL+mSHwzO1jaOG++9ql0BSlk4zZswIZTtKbSl4FRLSSV/Hn3/+2fx0DxKukkM6bp0/OuHHH38M5VCfD83Zo+4AQDuP1EftDgBi2vn64sWLoezkAXx+DIVYEDyzHecJYvDFF18Mn+/cuRPKrtDI5MNOw0jhEFmH0Rwyc3jNkp5egk7Vu3ko/V/h9AEZ0SVGpx2pXjo9Qif0ox2oH11nYj2fsVfah/pWW0rq1Af2RZ74dIh67J+iesajj3anrfHpUdpW9empuNApNDoxHt+xh04tGZ965I5PB3XtTP0yLp+lb2qfTmzZCtk5PTXNgQ2JY7WlVF06JvLQb84fnYA+9NOOTuwh/6Y+1FxUH0J9E29si+/kW+o78XU8N+iPNsB37Ii96Afoh/ZqI6hjTPXJtp34cah0JWFKeJSXMWW4HKyjTT8TOzkGualPIRCoxwYEZbwdwSfbUKK/AiSGbTQu4yiI6ZvttK36rpsEQDv10y5ZgvrKXZuivl0SYAzpSB/ST/qwPXrEpPpiJ6COvnKU2rIVyML2qW9z0Df60F5yxj6IaeWPUuiXPkqTbqk94gQYozhJkw59qN/Yn9Cpr+P4TeeGEiTbadtcvLJd3I6F76k+w01XEmanEHS5iWlGB0qU6VEQKGF0Kz7UPzHYj5AAkI9EZnpPz98l53pHY49UfEHbPHqsW7euunr1avYd6e+++y6U6c2U4ULXpktv+DxsdIOk5Nqh6T49T5gK2H78wQPzcOBmIP/wLoWd6VtvvZW9mTJcfP3116Fcs2ZNKPsNbNM4de2a/qYzep4wtQf9L3cRzcimcboZHgfhzqrgzi4/9cejJV988UWzdnhhDO5uM34//gIQ9uDsy78L20c0T817BteuSi9om0cTriNyE4LriIQki26mxDcXhhNiTjcd+o34umrJDTrz8Ojpv6jglOuxxx4LD2LzcKoxxvQzPT0l37p1a7g+88orrzRrjDGmf+lJwuTIkjd6eHXrq6++avnakzHG9At9+V8jjTGmH+n5XXJjjBkpOGEaY0whTpjGGFOIE6YxxhTihGmMMYU4YRpjTCFOmMYYU4gTpjHGFOKEaYwxhThhGmNMIU6YxhhTiBOmMcYU4oRpjDGFOGEaY0whTpjGGFOIE6YxxhTihGmMMYU4YRpjTBFV9T8/5/JDh3AyMAAAAABJRU5ErkJggg==)"
      ],
      "metadata": {
        "id": "ubryy2YFjs79"
      }
    },
    {
      "cell_type": "code",
      "source": [
        "#First I filter observations \n",
        "wage_men=data[data['gender_str']=='Male']['wage']\n",
        "wage_women=data[data['gender_str']=='Female']['wage']"
      ],
      "metadata": {
        "id": "9Z2YnUg3he2K"
      },
      "execution_count": 36,
      "outputs": []
    },
    {
      "cell_type": "code",
      "source": [
        "from scipy.stats import levene\n",
        "statistic, p_value = levene(wage_men, wage_women)\n",
        "\n",
        "# Results:\n",
        "print(\"Lavene test for equal variances\")\n",
        "print(\"L statistic: \", round(statistic,2))\n",
        "print(\"P-value: \", round(p_value,2))"
      ],
      "metadata": {
        "colab": {
          "base_uri": "https://localhost:8080/"
        },
        "id": "Xg3emqyQfx8E",
        "outputId": "029eb351-4874-42ee-ee7a-96317d595ddb"
      },
      "execution_count": 37,
      "outputs": [
        {
          "output_type": "stream",
          "name": "stdout",
          "text": [
            "Lavene test for equal variances\n",
            "L statistic:  0.71\n",
            "P-value:  0.4\n"
          ]
        }
      ]
    },
    {
      "cell_type": "markdown",
      "source": [
        "The conclusion of the test is that the null hypothesis cannot be rejected. In other words, the correct t statistic is the one with equal variances.  "
      ],
      "metadata": {
        "id": "dFj2JOPqpPGC"
      }
    },
    {
      "cell_type": "code",
      "source": [
        "from scipy.stats import ttest_ind\n",
        "\n",
        "#hypothesis test\n",
        "t_stat,p_value=ttest_ind(wage_men,wage_women,equal_var=True)\n",
        "\n",
        "# Results\n",
        "print('Two samples t test')\n",
        "print('t statistic:',round(t_stat,2))\n",
        "print('P-value:',round(p_value,2))"
      ],
      "metadata": {
        "colab": {
          "base_uri": "https://localhost:8080/"
        },
        "id": "bJ4u0m7aEyjO",
        "outputId": "cd1c3c04-d4f1-4b2a-9561-5830617ca845"
      },
      "execution_count": 38,
      "outputs": [
        {
          "output_type": "stream",
          "name": "stdout",
          "text": [
            "Two samples t test\n",
            "t statistic: 1.37\n",
            "P-value: 0.17\n"
          ]
        }
      ]
    },
    {
      "cell_type": "markdown",
      "source": [
        "The results indicate that the null hypothesis cannot be rejected. That is to say, with a significance of 5%, it cannot be rejected the affirmation that mean wages for males and females are equal, when gender is the only variable taken into account. "
      ],
      "metadata": {
        "id": "Ua8QP2QBefaQ"
      }
    },
    {
      "cell_type": "markdown",
      "source": [
        "These results are consistent with the violin plot presented below. Although there seems to be differences at first sight in the wages distribution between women and men, these qualify when considered the hypotesis tests presented before. "
      ],
      "metadata": {
        "id": "asSC1sFwsY3c"
      }
    },
    {
      "cell_type": "code",
      "source": [
        "fig = px.violin(data, x='gender_str', y='wage', color='gender_str', box=True, points='all')\n",
        "fig.update_layout(\n",
        "    title=\"Wages distribution by gender\"\n",
        "    )\n",
        "fig.update_xaxes(title='Gender')\n",
        "fig.update_yaxes(title='Wage')\n",
        "fig.show()"
      ],
      "metadata": {
        "colab": {
          "base_uri": "https://localhost:8080/",
          "height": 542
        },
        "id": "8OLCjVSXrEAw",
        "outputId": "0ddbad2c-21a5-424d-af63-eaa2fb60c51f"
      },
      "execution_count": 39,
      "outputs": [
        {
          "output_type": "display_data",
          "data": {
            "text/html": [
              "<html>\n",
              "<head><meta charset=\"utf-8\" /></head>\n",
              "<body>\n",
              "    <div>            <script src=\"https://cdnjs.cloudflare.com/ajax/libs/mathjax/2.7.5/MathJax.js?config=TeX-AMS-MML_SVG\"></script><script type=\"text/javascript\">if (window.MathJax && window.MathJax.Hub && window.MathJax.Hub.Config) {window.MathJax.Hub.Config({SVG: {font: \"STIX-Web\"}});}</script>                <script type=\"text/javascript\">window.PlotlyConfig = {MathJaxConfig: 'local'};</script>\n",
              "        <script src=\"https://cdn.plot.ly/plotly-2.18.2.min.js\"></script>                <div id=\"08a41ce7-696b-4760-a5fb-e3d29fc56a4f\" class=\"plotly-graph-div\" style=\"height:525px; width:100%;\"></div>            <script type=\"text/javascript\">                                    window.PLOTLYENV=window.PLOTLYENV || {};                                    if (document.getElementById(\"08a41ce7-696b-4760-a5fb-e3d29fc56a4f\")) {                    Plotly.newPlot(                        \"08a41ce7-696b-4760-a5fb-e3d29fc56a4f\",                        [{\"alignmentgroup\":\"True\",\"box\":{\"visible\":true},\"hovertemplate\":\"gender_str=%{x}<br>wage=%{y}<extra></extra>\",\"legendgroup\":\"Male\",\"marker\":{\"color\":\"#636efa\"},\"name\":\"Male\",\"offsetgroup\":\"Male\",\"orientation\":\"v\",\"points\":\"all\",\"scalegroup\":\"True\",\"showlegend\":true,\"x\":[\"Male\",\"Male\",\"Male\",\"Male\",\"Male\",\"Male\",\"Male\",\"Male\",\"Male\",\"Male\",\"Male\",\"Male\",\"Male\",\"Male\",\"Male\",\"Male\",\"Male\",\"Male\",\"Male\",\"Male\",\"Male\",\"Male\",\"Male\",\"Male\",\"Male\",\"Male\",\"Male\",\"Male\",\"Male\",\"Male\",\"Male\",\"Male\",\"Male\",\"Male\",\"Male\",\"Male\",\"Male\",\"Male\",\"Male\",\"Male\",\"Male\",\"Male\",\"Male\",\"Male\",\"Male\",\"Male\",\"Male\",\"Male\",\"Male\",\"Male\",\"Male\",\"Male\",\"Male\",\"Male\",\"Male\",\"Male\",\"Male\",\"Male\",\"Male\",\"Male\",\"Male\",\"Male\",\"Male\",\"Male\",\"Male\",\"Male\",\"Male\",\"Male\",\"Male\",\"Male\",\"Male\",\"Male\",\"Male\",\"Male\",\"Male\",\"Male\",\"Male\",\"Male\",\"Male\",\"Male\",\"Male\",\"Male\",\"Male\",\"Male\",\"Male\",\"Male\",\"Male\",\"Male\",\"Male\",\"Male\",\"Male\",\"Male\",\"Male\",\"Male\",\"Male\",\"Male\",\"Male\",\"Male\",\"Male\",\"Male\",\"Male\",\"Male\",\"Male\",\"Male\",\"Male\",\"Male\",\"Male\",\"Male\",\"Male\",\"Male\",\"Male\",\"Male\",\"Male\",\"Male\",\"Male\",\"Male\",\"Male\",\"Male\",\"Male\",\"Male\",\"Male\",\"Male\",\"Male\",\"Male\",\"Male\",\"Male\",\"Male\",\"Male\",\"Male\",\"Male\",\"Male\",\"Male\",\"Male\",\"Male\",\"Male\",\"Male\",\"Male\",\"Male\",\"Male\",\"Male\",\"Male\",\"Male\",\"Male\",\"Male\",\"Male\",\"Male\",\"Male\",\"Male\",\"Male\",\"Male\",\"Male\",\"Male\",\"Male\",\"Male\",\"Male\",\"Male\",\"Male\",\"Male\",\"Male\",\"Male\",\"Male\",\"Male\",\"Male\",\"Male\",\"Male\",\"Male\",\"Male\",\"Male\",\"Male\",\"Male\",\"Male\",\"Male\",\"Male\",\"Male\",\"Male\",\"Male\",\"Male\",\"Male\",\"Male\",\"Male\",\"Male\",\"Male\",\"Male\",\"Male\",\"Male\",\"Male\",\"Male\",\"Male\",\"Male\",\"Male\",\"Male\",\"Male\",\"Male\",\"Male\"],\"x0\":\" \",\"xaxis\":\"x\",\"y\":[90000.0,150000.0,200000.0,55000.0,80000.0,110000.0,75000.0,65000.0,40000.0,125000.0,115000.0,180000.0,190000.0,50000.0,140000.0,40000.0,90000.0,250000.0,75000.0,170000.0,45000.0,115000.0,160000.0,190000.0,60000.0,130000.0,75000.0,120000.0,35000.0,85000.0,200000.0,95000.0,140000.0,105000.0,50000.0,180000.0,35000.0,120000.0,90000.0,65000.0,190000.0,40000.0,95000.0,100000.0,70000.0,30000.0,250000.0,45000.0,135000.0,120000.0,105000.0,75000.0,160000.0,35000.0,110000.0,95000.0,50000.0,220000.0,60000.0,40000.0,95000.0,90000.0,95000.0,170000.0,120000.0,180000.0,80000.0,40000.0,110000.0,105000.0,45000.0,160000.0,35000.0,140000.0,60000.0,40000.0,50000.0,135000.0,90000.0,60000.0,175000.0,120000.0,35000.0,110000.0,115000.0,40000.0,175000.0,80000.0,35000.0,150000.0,105000.0,40000.0,140000.0,85000.0,50000.0,170000.0,105000.0,40000.0,130000.0,100000.0,35000.0,170000.0,95000.0,40000.0,155000.0,110000.0,45000.0,130000.0,90000.0,50000.0,170000.0,110000.0,40000.0,130000.0,95000.0,35000.0,170000.0,100000.0,40000.0,160000.0,120000.0,45000.0,120000.0,85000.0,45000.0,140000.0,120000.0,40000.0,150000.0,95000.0,50000.0,170000.0,110000.0,40000.0,130000.0,95000.0,350.0,160000.0,110000.0,95000.0,60000.0,150000.0,90000.0,40000.0,160000.0,95000.0,50000.0,170000.0,100000.0,60000.0,130000.0,65000.0,180000.0,90000.0,60000.0,160000.0,100000.0,55000.0,150000.0,95000.0,50000.0,170000.0,100000.0,60000.0,130000.0,95000.0,120000.0,65000.0,180000.0,100000.0,55000.0,180000.0,130000.0,60000.0,170000.0,90000.0,70000.0,170000.0,150000.0,60000.0,180000.0,110000.0,55000.0,180000.0,130000.0,60000.0,170000.0,90000.0,70000.0,170000.0,150000.0,60000.0,170000.0,90000.0],\"y0\":\" \",\"yaxis\":\"y\",\"type\":\"violin\"},{\"alignmentgroup\":\"True\",\"box\":{\"visible\":true},\"hovertemplate\":\"gender_str=%{x}<br>wage=%{y}<extra></extra>\",\"legendgroup\":\"Female\",\"marker\":{\"color\":\"#EF553B\"},\"name\":\"Female\",\"offsetgroup\":\"Female\",\"orientation\":\"v\",\"points\":\"all\",\"scalegroup\":\"True\",\"showlegend\":true,\"x\":[\"Female\",\"Female\",\"Female\",\"Female\",\"Female\",\"Female\",\"Female\",\"Female\",\"Female\",\"Female\",\"Female\",\"Female\",\"Female\",\"Female\",\"Female\",\"Female\",\"Female\",\"Female\",\"Female\",\"Female\",\"Female\",\"Female\",\"Female\",\"Female\",\"Female\",\"Female\",\"Female\",\"Female\",\"Female\",\"Female\",\"Female\",\"Female\",\"Female\",\"Female\",\"Female\",\"Female\",\"Female\",\"Female\",\"Female\",\"Female\",\"Female\",\"Female\",\"Female\",\"Female\",\"Female\",\"Female\",\"Female\",\"Female\",\"Female\",\"Female\",\"Female\",\"Female\",\"Female\",\"Female\",\"Female\",\"Female\",\"Female\",\"Female\",\"Female\",\"Female\",\"Female\",\"Female\",\"Female\",\"Female\",\"Female\",\"Female\",\"Female\",\"Female\",\"Female\",\"Female\",\"Female\",\"Female\",\"Female\",\"Female\",\"Female\",\"Female\",\"Female\",\"Female\",\"Female\",\"Female\",\"Female\",\"Female\",\"Female\",\"Female\",\"Female\",\"Female\",\"Female\",\"Female\",\"Female\",\"Female\",\"Female\",\"Female\",\"Female\",\"Female\",\"Female\",\"Female\",\"Female\",\"Female\",\"Female\",\"Female\",\"Female\",\"Female\",\"Female\",\"Female\",\"Female\",\"Female\",\"Female\",\"Female\",\"Female\",\"Female\",\"Female\",\"Female\",\"Female\",\"Female\",\"Female\",\"Female\",\"Female\",\"Female\",\"Female\",\"Female\",\"Female\",\"Female\",\"Female\",\"Female\",\"Female\",\"Female\",\"Female\",\"Female\",\"Female\",\"Female\",\"Female\",\"Female\",\"Female\",\"Female\",\"Female\",\"Female\",\"Female\",\"Female\",\"Female\",\"Female\",\"Female\",\"Female\",\"Female\",\"Female\",\"Female\",\"Female\",\"Female\",\"Female\",\"Female\",\"Female\",\"Female\",\"Female\",\"Female\",\"Female\",\"Female\",\"Female\",\"Female\",\"Female\",\"Female\",\"Female\",\"Female\",\"Female\",\"Female\",\"Female\",\"Female\",\"Female\",\"Female\",\"Female\",\"Female\",\"Female\",\"Female\",\"Female\",\"Female\",\"Female\",\"Female\",\"Female\",\"Female\",\"Female\",\"Female\"],\"x0\":\" \",\"xaxis\":\"x\",\"y\":[65000.0,60000.0,120000.0,45000.0,140000.0,130000.0,90000.0,35000.0,80000.0,60000.0,45000.0,110000.0,140000.0,55000.0,65000.0,60000.0,40000.0,80000.0,45000.0,40000.0,180000.0,130000.0,60000.0,50000.0,65000.0,55000.0,170000.0,80000.0,90000.0,45000.0,150000.0,70000.0,120000.0,160000.0,180000.0,55000.0,80000.0,40000.0,95000.0,80000.0,55000.0,40000.0,170000.0,65000.0,90000.0,45000.0,150000.0,80000.0,50000.0,100000.0,110000.0,130000.0,35000.0,65000.0,45000.0,100000.0,50000.0,140000.0,95000.0,50000.0,160000.0,100000.0,55000.0,50000.0,120000.0,110000.0,40000.0,150000.0,80000.0,45000.0,140000.0,95000.0,50000.0,185000.0,90000.0,45000.0,120000.0,110000.0,50000.0,180000.0,45000.0,140000.0,80000.0,40000.0,145000.0,85000.0,95000.0,180000.0,95000.0,45000.0,120000.0,90000.0,55000.0,180000.0,45000.0,160000.0,120000.0,40000.0,150000.0,85000.0,100000.0,180000.0,100000.0,45000.0,140000.0,105000.0,70000.0,190000.0,50000.0,140000.0,100000.0,70000.0,160000.0,120000.0,70000.0,180000.0,95000.0,40000.0,150000.0,85000.0,100000.0,180000.0,120000.0,50000.0,40000.0,140000.0,110000.0,60000.0,180000.0,120000.0,70000.0,180000.0,95000.0,35000.0,150000.0,85000.0,110000.0,40000.0,140000.0,130000.0,40000.0,180000.0,120000.0,70000.0,180000.0,120000.0,35000.0,150000.0,85000.0,80000.0,40000.0,160000.0,130000.0,40000.0,150000.0,110000.0,50000.0,160000.0,95000.0,40000.0,150000.0,90000.0,50000.0,160000.0,85000.0,35000.0,160000.0,110000.0,50000.0,160000.0,95000.0,40000.0,150000.0,90000.0,50000.0,160000.0,85000.0,40000.0,150000.0],\"y0\":\" \",\"yaxis\":\"y\",\"type\":\"violin\"}],                        {\"template\":{\"data\":{\"histogram2dcontour\":[{\"type\":\"histogram2dcontour\",\"colorbar\":{\"outlinewidth\":0,\"ticks\":\"\"},\"colorscale\":[[0.0,\"#0d0887\"],[0.1111111111111111,\"#46039f\"],[0.2222222222222222,\"#7201a8\"],[0.3333333333333333,\"#9c179e\"],[0.4444444444444444,\"#bd3786\"],[0.5555555555555556,\"#d8576b\"],[0.6666666666666666,\"#ed7953\"],[0.7777777777777778,\"#fb9f3a\"],[0.8888888888888888,\"#fdca26\"],[1.0,\"#f0f921\"]]}],\"choropleth\":[{\"type\":\"choropleth\",\"colorbar\":{\"outlinewidth\":0,\"ticks\":\"\"}}],\"histogram2d\":[{\"type\":\"histogram2d\",\"colorbar\":{\"outlinewidth\":0,\"ticks\":\"\"},\"colorscale\":[[0.0,\"#0d0887\"],[0.1111111111111111,\"#46039f\"],[0.2222222222222222,\"#7201a8\"],[0.3333333333333333,\"#9c179e\"],[0.4444444444444444,\"#bd3786\"],[0.5555555555555556,\"#d8576b\"],[0.6666666666666666,\"#ed7953\"],[0.7777777777777778,\"#fb9f3a\"],[0.8888888888888888,\"#fdca26\"],[1.0,\"#f0f921\"]]}],\"heatmap\":[{\"type\":\"heatmap\",\"colorbar\":{\"outlinewidth\":0,\"ticks\":\"\"},\"colorscale\":[[0.0,\"#0d0887\"],[0.1111111111111111,\"#46039f\"],[0.2222222222222222,\"#7201a8\"],[0.3333333333333333,\"#9c179e\"],[0.4444444444444444,\"#bd3786\"],[0.5555555555555556,\"#d8576b\"],[0.6666666666666666,\"#ed7953\"],[0.7777777777777778,\"#fb9f3a\"],[0.8888888888888888,\"#fdca26\"],[1.0,\"#f0f921\"]]}],\"heatmapgl\":[{\"type\":\"heatmapgl\",\"colorbar\":{\"outlinewidth\":0,\"ticks\":\"\"},\"colorscale\":[[0.0,\"#0d0887\"],[0.1111111111111111,\"#46039f\"],[0.2222222222222222,\"#7201a8\"],[0.3333333333333333,\"#9c179e\"],[0.4444444444444444,\"#bd3786\"],[0.5555555555555556,\"#d8576b\"],[0.6666666666666666,\"#ed7953\"],[0.7777777777777778,\"#fb9f3a\"],[0.8888888888888888,\"#fdca26\"],[1.0,\"#f0f921\"]]}],\"contourcarpet\":[{\"type\":\"contourcarpet\",\"colorbar\":{\"outlinewidth\":0,\"ticks\":\"\"}}],\"contour\":[{\"type\":\"contour\",\"colorbar\":{\"outlinewidth\":0,\"ticks\":\"\"},\"colorscale\":[[0.0,\"#0d0887\"],[0.1111111111111111,\"#46039f\"],[0.2222222222222222,\"#7201a8\"],[0.3333333333333333,\"#9c179e\"],[0.4444444444444444,\"#bd3786\"],[0.5555555555555556,\"#d8576b\"],[0.6666666666666666,\"#ed7953\"],[0.7777777777777778,\"#fb9f3a\"],[0.8888888888888888,\"#fdca26\"],[1.0,\"#f0f921\"]]}],\"surface\":[{\"type\":\"surface\",\"colorbar\":{\"outlinewidth\":0,\"ticks\":\"\"},\"colorscale\":[[0.0,\"#0d0887\"],[0.1111111111111111,\"#46039f\"],[0.2222222222222222,\"#7201a8\"],[0.3333333333333333,\"#9c179e\"],[0.4444444444444444,\"#bd3786\"],[0.5555555555555556,\"#d8576b\"],[0.6666666666666666,\"#ed7953\"],[0.7777777777777778,\"#fb9f3a\"],[0.8888888888888888,\"#fdca26\"],[1.0,\"#f0f921\"]]}],\"mesh3d\":[{\"type\":\"mesh3d\",\"colorbar\":{\"outlinewidth\":0,\"ticks\":\"\"}}],\"scatter\":[{\"fillpattern\":{\"fillmode\":\"overlay\",\"size\":10,\"solidity\":0.2},\"type\":\"scatter\"}],\"parcoords\":[{\"type\":\"parcoords\",\"line\":{\"colorbar\":{\"outlinewidth\":0,\"ticks\":\"\"}}}],\"scatterpolargl\":[{\"type\":\"scatterpolargl\",\"marker\":{\"colorbar\":{\"outlinewidth\":0,\"ticks\":\"\"}}}],\"bar\":[{\"error_x\":{\"color\":\"#2a3f5f\"},\"error_y\":{\"color\":\"#2a3f5f\"},\"marker\":{\"line\":{\"color\":\"#E5ECF6\",\"width\":0.5},\"pattern\":{\"fillmode\":\"overlay\",\"size\":10,\"solidity\":0.2}},\"type\":\"bar\"}],\"scattergeo\":[{\"type\":\"scattergeo\",\"marker\":{\"colorbar\":{\"outlinewidth\":0,\"ticks\":\"\"}}}],\"scatterpolar\":[{\"type\":\"scatterpolar\",\"marker\":{\"colorbar\":{\"outlinewidth\":0,\"ticks\":\"\"}}}],\"histogram\":[{\"marker\":{\"pattern\":{\"fillmode\":\"overlay\",\"size\":10,\"solidity\":0.2}},\"type\":\"histogram\"}],\"scattergl\":[{\"type\":\"scattergl\",\"marker\":{\"colorbar\":{\"outlinewidth\":0,\"ticks\":\"\"}}}],\"scatter3d\":[{\"type\":\"scatter3d\",\"line\":{\"colorbar\":{\"outlinewidth\":0,\"ticks\":\"\"}},\"marker\":{\"colorbar\":{\"outlinewidth\":0,\"ticks\":\"\"}}}],\"scattermapbox\":[{\"type\":\"scattermapbox\",\"marker\":{\"colorbar\":{\"outlinewidth\":0,\"ticks\":\"\"}}}],\"scatterternary\":[{\"type\":\"scatterternary\",\"marker\":{\"colorbar\":{\"outlinewidth\":0,\"ticks\":\"\"}}}],\"scattercarpet\":[{\"type\":\"scattercarpet\",\"marker\":{\"colorbar\":{\"outlinewidth\":0,\"ticks\":\"\"}}}],\"carpet\":[{\"aaxis\":{\"endlinecolor\":\"#2a3f5f\",\"gridcolor\":\"white\",\"linecolor\":\"white\",\"minorgridcolor\":\"white\",\"startlinecolor\":\"#2a3f5f\"},\"baxis\":{\"endlinecolor\":\"#2a3f5f\",\"gridcolor\":\"white\",\"linecolor\":\"white\",\"minorgridcolor\":\"white\",\"startlinecolor\":\"#2a3f5f\"},\"type\":\"carpet\"}],\"table\":[{\"cells\":{\"fill\":{\"color\":\"#EBF0F8\"},\"line\":{\"color\":\"white\"}},\"header\":{\"fill\":{\"color\":\"#C8D4E3\"},\"line\":{\"color\":\"white\"}},\"type\":\"table\"}],\"barpolar\":[{\"marker\":{\"line\":{\"color\":\"#E5ECF6\",\"width\":0.5},\"pattern\":{\"fillmode\":\"overlay\",\"size\":10,\"solidity\":0.2}},\"type\":\"barpolar\"}],\"pie\":[{\"automargin\":true,\"type\":\"pie\"}]},\"layout\":{\"autotypenumbers\":\"strict\",\"colorway\":[\"#636efa\",\"#EF553B\",\"#00cc96\",\"#ab63fa\",\"#FFA15A\",\"#19d3f3\",\"#FF6692\",\"#B6E880\",\"#FF97FF\",\"#FECB52\"],\"font\":{\"color\":\"#2a3f5f\"},\"hovermode\":\"closest\",\"hoverlabel\":{\"align\":\"left\"},\"paper_bgcolor\":\"white\",\"plot_bgcolor\":\"#E5ECF6\",\"polar\":{\"bgcolor\":\"#E5ECF6\",\"angularaxis\":{\"gridcolor\":\"white\",\"linecolor\":\"white\",\"ticks\":\"\"},\"radialaxis\":{\"gridcolor\":\"white\",\"linecolor\":\"white\",\"ticks\":\"\"}},\"ternary\":{\"bgcolor\":\"#E5ECF6\",\"aaxis\":{\"gridcolor\":\"white\",\"linecolor\":\"white\",\"ticks\":\"\"},\"baxis\":{\"gridcolor\":\"white\",\"linecolor\":\"white\",\"ticks\":\"\"},\"caxis\":{\"gridcolor\":\"white\",\"linecolor\":\"white\",\"ticks\":\"\"}},\"coloraxis\":{\"colorbar\":{\"outlinewidth\":0,\"ticks\":\"\"}},\"colorscale\":{\"sequential\":[[0.0,\"#0d0887\"],[0.1111111111111111,\"#46039f\"],[0.2222222222222222,\"#7201a8\"],[0.3333333333333333,\"#9c179e\"],[0.4444444444444444,\"#bd3786\"],[0.5555555555555556,\"#d8576b\"],[0.6666666666666666,\"#ed7953\"],[0.7777777777777778,\"#fb9f3a\"],[0.8888888888888888,\"#fdca26\"],[1.0,\"#f0f921\"]],\"sequentialminus\":[[0.0,\"#0d0887\"],[0.1111111111111111,\"#46039f\"],[0.2222222222222222,\"#7201a8\"],[0.3333333333333333,\"#9c179e\"],[0.4444444444444444,\"#bd3786\"],[0.5555555555555556,\"#d8576b\"],[0.6666666666666666,\"#ed7953\"],[0.7777777777777778,\"#fb9f3a\"],[0.8888888888888888,\"#fdca26\"],[1.0,\"#f0f921\"]],\"diverging\":[[0,\"#8e0152\"],[0.1,\"#c51b7d\"],[0.2,\"#de77ae\"],[0.3,\"#f1b6da\"],[0.4,\"#fde0ef\"],[0.5,\"#f7f7f7\"],[0.6,\"#e6f5d0\"],[0.7,\"#b8e186\"],[0.8,\"#7fbc41\"],[0.9,\"#4d9221\"],[1,\"#276419\"]]},\"xaxis\":{\"gridcolor\":\"white\",\"linecolor\":\"white\",\"ticks\":\"\",\"title\":{\"standoff\":15},\"zerolinecolor\":\"white\",\"automargin\":true,\"zerolinewidth\":2},\"yaxis\":{\"gridcolor\":\"white\",\"linecolor\":\"white\",\"ticks\":\"\",\"title\":{\"standoff\":15},\"zerolinecolor\":\"white\",\"automargin\":true,\"zerolinewidth\":2},\"scene\":{\"xaxis\":{\"backgroundcolor\":\"#E5ECF6\",\"gridcolor\":\"white\",\"linecolor\":\"white\",\"showbackground\":true,\"ticks\":\"\",\"zerolinecolor\":\"white\",\"gridwidth\":2},\"yaxis\":{\"backgroundcolor\":\"#E5ECF6\",\"gridcolor\":\"white\",\"linecolor\":\"white\",\"showbackground\":true,\"ticks\":\"\",\"zerolinecolor\":\"white\",\"gridwidth\":2},\"zaxis\":{\"backgroundcolor\":\"#E5ECF6\",\"gridcolor\":\"white\",\"linecolor\":\"white\",\"showbackground\":true,\"ticks\":\"\",\"zerolinecolor\":\"white\",\"gridwidth\":2}},\"shapedefaults\":{\"line\":{\"color\":\"#2a3f5f\"}},\"annotationdefaults\":{\"arrowcolor\":\"#2a3f5f\",\"arrowhead\":0,\"arrowwidth\":1},\"geo\":{\"bgcolor\":\"white\",\"landcolor\":\"#E5ECF6\",\"subunitcolor\":\"white\",\"showland\":true,\"showlakes\":true,\"lakecolor\":\"white\"},\"title\":{\"x\":0.05},\"mapbox\":{\"style\":\"light\"}}},\"xaxis\":{\"anchor\":\"y\",\"domain\":[0.0,1.0],\"title\":{\"text\":\"Gender\"},\"categoryorder\":\"array\",\"categoryarray\":[\"Male\",\"Female\"]},\"yaxis\":{\"anchor\":\"x\",\"domain\":[0.0,1.0],\"title\":{\"text\":\"Wage\"}},\"legend\":{\"title\":{\"text\":\"gender_str\"},\"tracegroupgap\":0},\"margin\":{\"t\":60},\"violinmode\":\"overlay\",\"title\":{\"text\":\"Wages distribution by gender\"}},                        {\"responsive\": true}                    ).then(function(){\n",
              "                            \n",
              "var gd = document.getElementById('08a41ce7-696b-4760-a5fb-e3d29fc56a4f');\n",
              "var x = new MutationObserver(function (mutations, observer) {{\n",
              "        var display = window.getComputedStyle(gd).display;\n",
              "        if (!display || display === 'none') {{\n",
              "            console.log([gd, 'removed!']);\n",
              "            Plotly.purge(gd);\n",
              "            observer.disconnect();\n",
              "        }}\n",
              "}});\n",
              "\n",
              "// Listen for the removal of the full notebook cells\n",
              "var notebookContainer = gd.closest('#notebook-container');\n",
              "if (notebookContainer) {{\n",
              "    x.observe(notebookContainer, {childList: true});\n",
              "}}\n",
              "\n",
              "// Listen for the clearing of the current output cell\n",
              "var outputEl = gd.closest('.output');\n",
              "if (outputEl) {{\n",
              "    x.observe(outputEl, {childList: true});\n",
              "}}\n",
              "\n",
              "                        })                };                            </script>        </div>\n",
              "</body>\n",
              "</html>"
            ]
          },
          "metadata": {}
        }
      ]
    },
    {
      "cell_type": "markdown",
      "source": [
        "#### Wage versus gender, considering experience"
      ],
      "metadata": {
        "id": "k2PletaCyVxD"
      }
    },
    {
      "cell_type": "markdown",
      "source": [
        "Another variable that influence wages is experience: it is expected that as working years increase, wages will also tend to raise. This is confirmed in the data, as the plot presented shows. "
      ],
      "metadata": {
        "id": "BuvJNhbbykw9"
      }
    },
    {
      "cell_type": "code",
      "source": [
        "# Scatter for wages and years of experience\n",
        "plt.scatter(data['experience'],data['wage'],marker='x')\n",
        "plt.title('Wages versus years of experience',fontsize=14,loc='center')\n",
        "plt.plot()"
      ],
      "metadata": {
        "colab": {
          "base_uri": "https://localhost:8080/",
          "height": 470
        },
        "id": "K1MdDVOEyzl8",
        "outputId": "49877eab-f48d-404f-df3b-971e2a146e7c"
      },
      "execution_count": 40,
      "outputs": [
        {
          "output_type": "execute_result",
          "data": {
            "text/plain": [
              "[]"
            ]
          },
          "metadata": {},
          "execution_count": 40
        },
        {
          "output_type": "display_data",
          "data": {
            "text/plain": [
              "<Figure size 640x480 with 1 Axes>"
            ],
            "image/png": "[encoded data removed]"
          },
          "metadata": {}
        }
      ]
    },
    {
      "cell_type": "markdown",
      "source": [
        "This pattern is almost identical when introduced gender into the analysis. The next graphic shows that there is indeed a positive difference in mean wages in favor of men for the same experience years. Nevertheless, this discrepancy does not seem to be very signignificative economically.  "
      ],
      "metadata": {
        "id": "ut4EAL0g1Ijb"
      }
    },
    {
      "cell_type": "code",
      "execution_count": 41,
      "metadata": {
        "colab": {
          "base_uri": "https://localhost:8080/",
          "height": 542
        },
        "id": "L897oFI4sySH",
        "outputId": "f2f60d3d-8999-43f2-8f74-76cdc8419391"
      },
      "outputs": [
        {
          "output_type": "display_data",
          "data": {
            "text/html": [
              "<html>\n",
              "<head><meta charset=\"utf-8\" /></head>\n",
              "<body>\n",
              "    <div>            <script src=\"https://cdnjs.cloudflare.com/ajax/libs/mathjax/2.7.5/MathJax.js?config=TeX-AMS-MML_SVG\"></script><script type=\"text/javascript\">if (window.MathJax && window.MathJax.Hub && window.MathJax.Hub.Config) {window.MathJax.Hub.Config({SVG: {font: \"STIX-Web\"}});}</script>                <script type=\"text/javascript\">window.PlotlyConfig = {MathJaxConfig: 'local'};</script>\n",
              "        <script src=\"https://cdn.plot.ly/plotly-2.18.2.min.js\"></script>                <div id=\"4787267e-061c-46a5-b1da-aedb9143c0c6\" class=\"plotly-graph-div\" style=\"height:525px; width:100%;\"></div>            <script type=\"text/javascript\">                                    window.PLOTLYENV=window.PLOTLYENV || {};                                    if (document.getElementById(\"4787267e-061c-46a5-b1da-aedb9143c0c6\")) {                    Plotly.newPlot(                        \"4787267e-061c-46a5-b1da-aedb9143c0c6\",                        [{\"hovertemplate\":\"gender_str=Male<br>experience=%{x}<br>wage=%{y}<extra></extra>\",\"legendgroup\":\"Male\",\"marker\":{\"color\":\"#636efa\",\"symbol\":\"circle\"},\"mode\":\"markers\",\"name\":\"Male\",\"orientation\":\"v\",\"showlegend\":true,\"x\":[5.0,15.0,20.0,2.0,4.0,10.0,3.0,6.0,2.0,16.0,12.0,22.0,19.0,2.0,13.0,1.0,6.0,25.0,3.0,20.0,2.0,14.0,21.0,18.0,3.0,13.0,5.0,11.0,0.0,7.0,19.0,9.0,17.0,7.0,3.0,21.0,1.0,19.0,8.0,6.0,16.0,2.0,10.0,6.0,8.0,0.0,24.0,2.0,21.0,11.0,18.0,7.0,22.0,1.0,20.0,8.0,5.0,16.0,7.0,2.0,9.0,6.0,6.0,20.0,10.0,25.0,11.0,2.0,18.0,8.0,3.0,22.0,1.0,19.0,7.0,2.0,5.0,20.0,8.0,4.0,19.0,11.0,2.0,14.0,7.0,2.0,21.0,7.0,1.5,18.0,9.0,2.0,16.0,7.0,4.0,20.0,9.0,2.0,14.0,9.0,1.5,19.0,7.0,2.0,17.0,9.0,3.0,16.0,7.0,4.0,20.0,9.0,2.0,14.0,9.0,1.5,19.0,7.0,2.0,18.0,9.0,3.0,15.0,8.0,3.0,16.0,10.0,1.5,19.0,8.0,3.0,20.0,9.0,2.0,14.0,9.0,1.5,18.0,12.0,8.0,4.0,16.0,8.0,2.0,17.0,8.0,3.0,19.0,9.0,4.0,13.0,4.0,21.0,7.0,4.0,16.0,9.0,3.0,16.0,8.0,3.0,19.0,9.0,4.0,13.0,8.0,10.0,4.0,20.0,9.0,3.0,21.0,12.0,4.0,19.0,7.0,5.0,18.0,14.0,4.0,19.0,8.0,3.0,21.0,12.0,4.0,19.0,7.0,5.0,18.0,14.0,4.0,19.0,7.0],\"xaxis\":\"x\",\"y\":[90000.0,150000.0,200000.0,55000.0,80000.0,110000.0,75000.0,65000.0,40000.0,125000.0,115000.0,180000.0,190000.0,50000.0,140000.0,40000.0,90000.0,250000.0,75000.0,170000.0,45000.0,115000.0,160000.0,190000.0,60000.0,130000.0,75000.0,120000.0,35000.0,85000.0,200000.0,95000.0,140000.0,105000.0,50000.0,180000.0,35000.0,120000.0,90000.0,65000.0,190000.0,40000.0,95000.0,100000.0,70000.0,30000.0,250000.0,45000.0,135000.0,120000.0,105000.0,75000.0,160000.0,35000.0,110000.0,95000.0,50000.0,220000.0,60000.0,40000.0,95000.0,90000.0,95000.0,170000.0,120000.0,180000.0,80000.0,40000.0,110000.0,105000.0,45000.0,160000.0,35000.0,140000.0,60000.0,40000.0,50000.0,135000.0,90000.0,60000.0,175000.0,120000.0,35000.0,110000.0,115000.0,40000.0,175000.0,80000.0,35000.0,150000.0,105000.0,40000.0,140000.0,85000.0,50000.0,170000.0,105000.0,40000.0,130000.0,100000.0,35000.0,170000.0,95000.0,40000.0,155000.0,110000.0,45000.0,130000.0,90000.0,50000.0,170000.0,110000.0,40000.0,130000.0,95000.0,35000.0,170000.0,100000.0,40000.0,160000.0,120000.0,45000.0,120000.0,85000.0,45000.0,140000.0,120000.0,40000.0,150000.0,95000.0,50000.0,170000.0,110000.0,40000.0,130000.0,95000.0,350.0,160000.0,110000.0,95000.0,60000.0,150000.0,90000.0,40000.0,160000.0,95000.0,50000.0,170000.0,100000.0,60000.0,130000.0,65000.0,180000.0,90000.0,60000.0,160000.0,100000.0,55000.0,150000.0,95000.0,50000.0,170000.0,100000.0,60000.0,130000.0,95000.0,120000.0,65000.0,180000.0,100000.0,55000.0,180000.0,130000.0,60000.0,170000.0,90000.0,70000.0,170000.0,150000.0,60000.0,180000.0,110000.0,55000.0,180000.0,130000.0,60000.0,170000.0,90000.0,70000.0,170000.0,150000.0,60000.0,170000.0,90000.0],\"yaxis\":\"y\",\"type\":\"scatter\"},{\"hovertemplate\":\"<b>OLS trendline</b><br>wage = 6988.6 * experience + 33639.6<br>R<sup>2</sup>=0.887800<br><br>gender_str=Male<br>experience=%{x}<br>wage=%{y} <b>(trend)</b><extra></extra>\",\"legendgroup\":\"Male\",\"marker\":{\"color\":\"#636efa\",\"symbol\":\"circle\"},\"mode\":\"lines\",\"name\":\"Male\",\"showlegend\":false,\"x\":[0.0,0.0,1.0,1.0,1.0,1.0,1.5,1.5,1.5,1.5,1.5,2.0,2.0,2.0,2.0,2.0,2.0,2.0,2.0,2.0,2.0,2.0,2.0,2.0,2.0,2.0,2.0,2.0,2.0,3.0,3.0,3.0,3.0,3.0,3.0,3.0,3.0,3.0,3.0,3.0,3.0,3.0,3.0,4.0,4.0,4.0,4.0,4.0,4.0,4.0,4.0,4.0,4.0,4.0,4.0,4.0,4.0,5.0,5.0,5.0,5.0,5.0,5.0,6.0,6.0,6.0,6.0,6.0,6.0,7.0,7.0,7.0,7.0,7.0,7.0,7.0,7.0,7.0,7.0,7.0,7.0,7.0,7.0,7.0,8.0,8.0,8.0,8.0,8.0,8.0,8.0,8.0,8.0,8.0,8.0,8.0,8.0,9.0,9.0,9.0,9.0,9.0,9.0,9.0,9.0,9.0,9.0,9.0,9.0,9.0,9.0,9.0,10.0,10.0,10.0,10.0,10.0,11.0,11.0,11.0,11.0,12.0,12.0,12.0,12.0,13.0,13.0,13.0,13.0,14.0,14.0,14.0,14.0,14.0,14.0,14.0,15.0,15.0,16.0,16.0,16.0,16.0,16.0,16.0,16.0,16.0,16.0,17.0,17.0,17.0,18.0,18.0,18.0,18.0,18.0,18.0,18.0,18.0,19.0,19.0,19.0,19.0,19.0,19.0,19.0,19.0,19.0,19.0,19.0,19.0,19.0,19.0,20.0,20.0,20.0,20.0,20.0,20.0,20.0,20.0,20.0,21.0,21.0,21.0,21.0,21.0,21.0,21.0,22.0,22.0,22.0,24.0,25.0,25.0],\"xaxis\":\"x\",\"y\":[33639.55364463318,33639.55364463318,40628.15410266918,40628.15410266918,40628.15410266918,40628.15410266918,44122.45433168718,44122.45433168718,44122.45433168718,44122.45433168718,44122.45433168718,47616.75456070517,47616.75456070517,47616.75456070517,47616.75456070517,47616.75456070517,47616.75456070517,47616.75456070517,47616.75456070517,47616.75456070517,47616.75456070517,47616.75456070517,47616.75456070517,47616.75456070517,47616.75456070517,47616.75456070517,47616.75456070517,47616.75456070517,47616.75456070517,54605.355018741175,54605.355018741175,54605.355018741175,54605.355018741175,54605.355018741175,54605.355018741175,54605.355018741175,54605.355018741175,54605.355018741175,54605.355018741175,54605.355018741175,54605.355018741175,54605.355018741175,54605.355018741175,61593.95547677717,61593.95547677717,61593.95547677717,61593.95547677717,61593.95547677717,61593.95547677717,61593.95547677717,61593.95547677717,61593.95547677717,61593.95547677717,61593.95547677717,61593.95547677717,61593.95547677717,61593.95547677717,68582.55593481316,68582.55593481316,68582.55593481316,68582.55593481316,68582.55593481316,68582.55593481316,75571.15639284917,75571.15639284917,75571.15639284917,75571.15639284917,75571.15639284917,75571.15639284917,82559.75685088517,82559.75685088517,82559.75685088517,82559.75685088517,82559.75685088517,82559.75685088517,82559.75685088517,82559.75685088517,82559.75685088517,82559.75685088517,82559.75685088517,82559.75685088517,82559.75685088517,82559.75685088517,82559.75685088517,89548.35730892116,89548.35730892116,89548.35730892116,89548.35730892116,89548.35730892116,89548.35730892116,89548.35730892116,89548.35730892116,89548.35730892116,89548.35730892116,89548.35730892116,89548.35730892116,89548.35730892116,96536.95776695714,96536.95776695714,96536.95776695714,96536.95776695714,96536.95776695714,96536.95776695714,96536.95776695714,96536.95776695714,96536.95776695714,96536.95776695714,96536.95776695714,96536.95776695714,96536.95776695714,96536.95776695714,96536.95776695714,103525.55822499315,103525.55822499315,103525.55822499315,103525.55822499315,103525.55822499315,110514.15868302915,110514.15868302915,110514.15868302915,110514.15868302915,117502.75914106515,117502.75914106515,117502.75914106515,117502.75914106515,124491.35959910114,124491.35959910114,124491.35959910114,124491.35959910114,131479.96005713713,131479.96005713713,131479.96005713713,131479.96005713713,131479.96005713713,131479.96005713713,131479.96005713713,138468.56051517313,138468.56051517313,145457.16097320913,145457.16097320913,145457.16097320913,145457.16097320913,145457.16097320913,145457.16097320913,145457.16097320913,145457.16097320913,145457.16097320913,152445.76143124513,152445.76143124513,152445.76143124513,159434.36188928114,159434.36188928114,159434.36188928114,159434.36188928114,159434.36188928114,159434.36188928114,159434.36188928114,159434.36188928114,166422.9623473171,166422.9623473171,166422.9623473171,166422.9623473171,166422.9623473171,166422.9623473171,166422.9623473171,166422.9623473171,166422.9623473171,166422.9623473171,166422.9623473171,166422.9623473171,166422.9623473171,166422.9623473171,173411.5628053531,173411.5628053531,173411.5628053531,173411.5628053531,173411.5628053531,173411.5628053531,173411.5628053531,173411.5628053531,173411.5628053531,180400.1632633891,180400.1632633891,180400.1632633891,180400.1632633891,180400.1632633891,180400.1632633891,180400.1632633891,187388.76372142512,187388.76372142512,187388.76372142512,201365.96463749712,208354.5650955331,208354.5650955331],\"yaxis\":\"y\",\"type\":\"scatter\"},{\"hovertemplate\":\"gender_str=Female<br>experience=%{x}<br>wage=%{y}<extra></extra>\",\"legendgroup\":\"Female\",\"marker\":{\"color\":\"#EF553B\",\"symbol\":\"circle\"},\"mode\":\"markers\",\"name\":\"Female\",\"orientation\":\"v\",\"showlegend\":true,\"x\":[3.0,7.0,12.0,1.0,18.0,14.0,7.0,0.0,5.0,9.0,3.0,11.0,15.0,4.0,10.0,7.0,1.0,5.0,8.0,2.0,16.0,22.0,12.0,3.0,2.0,4.0,23.0,12.0,10.0,5.0,18.0,11.0,14.0,22.0,20.0,3.0,13.0,2.0,10.0,15.0,6.0,3.0,25.0,12.0,10.0,5.0,19.0,13.0,3.0,14.0,15.0,22.0,0.5,15.0,3.0,17.0,5.0,16.0,9.0,4.0,21.0,12.0,10.0,4.0,14.0,13.0,1.5,16.0,10.0,3.0,18.0,9.0,5.0,23.0,12.0,3.0,13.0,14.0,4.0,20.0,1.5,18.0,10.0,2.0,15.0,8.0,6.0,22.0,12.0,3.0,13.0,11.0,5.0,21.0,1.5,17.0,10.0,2.0,15.0,8.0,6.0,22.0,12.0,3.0,13.0,11.0,5.0,21.0,1.5,13.0,9.0,5.0,18.0,10.0,6.0,21.0,11.0,2.0,15.0,8.0,6.0,22.0,10.0,3.0,1.5,15.0,9.0,4.0,20.0,9.0,5.0,21.0,11.0,1.5,15.0,8.0,10.0,2.0,14.0,12.0,2.0,20.0,9.0,5.0,21.0,12.0,1.5,15.0,8.0,6.0,2.0,16.0,12.0,2.0,15.0,10.0,3.0,16.0,8.0,2.0,15.0,8.0,3.0,16.0,8.0,1.0,16.0,10.0,3.0,16.0,8.0,2.0,15.0,8.0,3.0,16.0,8.0,2.0,15.0],\"xaxis\":\"x\",\"y\":[65000.0,60000.0,120000.0,45000.0,140000.0,130000.0,90000.0,35000.0,80000.0,60000.0,45000.0,110000.0,140000.0,55000.0,65000.0,60000.0,40000.0,80000.0,45000.0,40000.0,180000.0,130000.0,60000.0,50000.0,65000.0,55000.0,170000.0,80000.0,90000.0,45000.0,150000.0,70000.0,120000.0,160000.0,180000.0,55000.0,80000.0,40000.0,95000.0,80000.0,55000.0,40000.0,170000.0,65000.0,90000.0,45000.0,150000.0,80000.0,50000.0,100000.0,110000.0,130000.0,35000.0,65000.0,45000.0,100000.0,50000.0,140000.0,95000.0,50000.0,160000.0,100000.0,55000.0,50000.0,120000.0,110000.0,40000.0,150000.0,80000.0,45000.0,140000.0,95000.0,50000.0,185000.0,90000.0,45000.0,120000.0,110000.0,50000.0,180000.0,45000.0,140000.0,80000.0,40000.0,145000.0,85000.0,95000.0,180000.0,95000.0,45000.0,120000.0,90000.0,55000.0,180000.0,45000.0,160000.0,120000.0,40000.0,150000.0,85000.0,100000.0,180000.0,100000.0,45000.0,140000.0,105000.0,70000.0,190000.0,50000.0,140000.0,100000.0,70000.0,160000.0,120000.0,70000.0,180000.0,95000.0,40000.0,150000.0,85000.0,100000.0,180000.0,120000.0,50000.0,40000.0,140000.0,110000.0,60000.0,180000.0,120000.0,70000.0,180000.0,95000.0,35000.0,150000.0,85000.0,110000.0,40000.0,140000.0,130000.0,40000.0,180000.0,120000.0,70000.0,180000.0,120000.0,35000.0,150000.0,85000.0,80000.0,40000.0,160000.0,130000.0,40000.0,150000.0,110000.0,50000.0,160000.0,95000.0,40000.0,150000.0,90000.0,50000.0,160000.0,85000.0,35000.0,160000.0,110000.0,50000.0,160000.0,95000.0,40000.0,150000.0,90000.0,50000.0,160000.0,85000.0,40000.0,150000.0],\"yaxis\":\"y\",\"type\":\"scatter\"},{\"hovertemplate\":\"<b>OLS trendline</b><br>wage = 6663.45 * experience + 30302.2<br>R<sup>2</sup>=0.847029<br><br>gender_str=Female<br>experience=%{x}<br>wage=%{y} <b>(trend)</b><extra></extra>\",\"legendgroup\":\"Female\",\"marker\":{\"color\":\"#EF553B\",\"symbol\":\"circle\"},\"mode\":\"lines\",\"name\":\"Female\",\"showlegend\":false,\"x\":[0.0,0.5,1.0,1.0,1.0,1.5,1.5,1.5,1.5,1.5,1.5,1.5,2.0,2.0,2.0,2.0,2.0,2.0,2.0,2.0,2.0,2.0,2.0,2.0,2.0,3.0,3.0,3.0,3.0,3.0,3.0,3.0,3.0,3.0,3.0,3.0,3.0,3.0,3.0,3.0,3.0,4.0,4.0,4.0,4.0,4.0,4.0,5.0,5.0,5.0,5.0,5.0,5.0,5.0,5.0,5.0,5.0,5.0,6.0,6.0,6.0,6.0,6.0,6.0,7.0,7.0,7.0,8.0,8.0,8.0,8.0,8.0,8.0,8.0,8.0,8.0,8.0,8.0,8.0,9.0,9.0,9.0,9.0,9.0,9.0,9.0,10.0,10.0,10.0,10.0,10.0,10.0,10.0,10.0,10.0,10.0,10.0,10.0,10.0,11.0,11.0,11.0,11.0,11.0,11.0,12.0,12.0,12.0,12.0,12.0,12.0,12.0,12.0,12.0,12.0,12.0,13.0,13.0,13.0,13.0,13.0,13.0,13.0,14.0,14.0,14.0,14.0,14.0,14.0,15.0,15.0,15.0,15.0,15.0,15.0,15.0,15.0,15.0,15.0,15.0,15.0,15.0,15.0,16.0,16.0,16.0,16.0,16.0,16.0,16.0,16.0,16.0,17.0,17.0,18.0,18.0,18.0,18.0,18.0,19.0,20.0,20.0,20.0,20.0,21.0,21.0,21.0,21.0,21.0,21.0,22.0,22.0,22.0,22.0,22.0,22.0,23.0,23.0,25.0],\"xaxis\":\"x\",\"y\":[30302.237999402212,33633.96216182046,36965.686324238704,36965.686324238704,36965.686324238704,40297.410486656954,40297.410486656954,40297.410486656954,40297.410486656954,40297.410486656954,40297.410486656954,40297.410486656954,43629.134649075204,43629.134649075204,43629.134649075204,43629.134649075204,43629.134649075204,43629.134649075204,43629.134649075204,43629.134649075204,43629.134649075204,43629.134649075204,43629.134649075204,43629.134649075204,43629.134649075204,50292.582973911696,50292.582973911696,50292.582973911696,50292.582973911696,50292.582973911696,50292.582973911696,50292.582973911696,50292.582973911696,50292.582973911696,50292.582973911696,50292.582973911696,50292.582973911696,50292.582973911696,50292.582973911696,50292.582973911696,50292.582973911696,56956.03129874819,56956.03129874819,56956.03129874819,56956.03129874819,56956.03129874819,56956.03129874819,63619.47962358469,63619.47962358469,63619.47962358469,63619.47962358469,63619.47962358469,63619.47962358469,63619.47962358469,63619.47962358469,63619.47962358469,63619.47962358469,63619.47962358469,70282.92794842119,70282.92794842119,70282.92794842119,70282.92794842119,70282.92794842119,70282.92794842119,76946.37627325769,76946.37627325769,76946.37627325769,83609.82459809417,83609.82459809417,83609.82459809417,83609.82459809417,83609.82459809417,83609.82459809417,83609.82459809417,83609.82459809417,83609.82459809417,83609.82459809417,83609.82459809417,83609.82459809417,90273.27292293066,90273.27292293066,90273.27292293066,90273.27292293066,90273.27292293066,90273.27292293066,90273.27292293066,96936.72124776716,96936.72124776716,96936.72124776716,96936.72124776716,96936.72124776716,96936.72124776716,96936.72124776716,96936.72124776716,96936.72124776716,96936.72124776716,96936.72124776716,96936.72124776716,96936.72124776716,103600.16957260366,103600.16957260366,103600.16957260366,103600.16957260366,103600.16957260366,103600.16957260366,110263.61789744016,110263.61789744016,110263.61789744016,110263.61789744016,110263.61789744016,110263.61789744016,110263.61789744016,110263.61789744016,110263.61789744016,110263.61789744016,110263.61789744016,116927.06622227666,116927.06622227666,116927.06622227666,116927.06622227666,116927.06622227666,116927.06622227666,116927.06622227666,123590.51454711315,123590.51454711315,123590.51454711315,123590.51454711315,123590.51454711315,123590.51454711315,130253.96287194962,130253.96287194962,130253.96287194962,130253.96287194962,130253.96287194962,130253.96287194962,130253.96287194962,130253.96287194962,130253.96287194962,130253.96287194962,130253.96287194962,130253.96287194962,130253.96287194962,130253.96287194962,136917.41119678612,136917.41119678612,136917.41119678612,136917.41119678612,136917.41119678612,136917.41119678612,136917.41119678612,136917.41119678612,136917.41119678612,143580.85952162262,143580.85952162262,150244.30784645912,150244.30784645912,150244.30784645912,150244.30784645912,150244.30784645912,156907.75617129562,163571.20449613212,163571.20449613212,163571.20449613212,163571.20449613212,170234.65282096862,170234.65282096862,170234.65282096862,170234.65282096862,170234.65282096862,170234.65282096862,176898.10114580512,176898.10114580512,176898.10114580512,176898.10114580512,176898.10114580512,176898.10114580512,183561.5494706416,183561.5494706416,196888.4461203146],\"yaxis\":\"y\",\"type\":\"scatter\"}],                        {\"template\":{\"data\":{\"histogram2dcontour\":[{\"type\":\"histogram2dcontour\",\"colorbar\":{\"outlinewidth\":0,\"ticks\":\"\"},\"colorscale\":[[0.0,\"#0d0887\"],[0.1111111111111111,\"#46039f\"],[0.2222222222222222,\"#7201a8\"],[0.3333333333333333,\"#9c179e\"],[0.4444444444444444,\"#bd3786\"],[0.5555555555555556,\"#d8576b\"],[0.6666666666666666,\"#ed7953\"],[0.7777777777777778,\"#fb9f3a\"],[0.8888888888888888,\"#fdca26\"],[1.0,\"#f0f921\"]]}],\"choropleth\":[{\"type\":\"choropleth\",\"colorbar\":{\"outlinewidth\":0,\"ticks\":\"\"}}],\"histogram2d\":[{\"type\":\"histogram2d\",\"colorbar\":{\"outlinewidth\":0,\"ticks\":\"\"},\"colorscale\":[[0.0,\"#0d0887\"],[0.1111111111111111,\"#46039f\"],[0.2222222222222222,\"#7201a8\"],[0.3333333333333333,\"#9c179e\"],[0.4444444444444444,\"#bd3786\"],[0.5555555555555556,\"#d8576b\"],[0.6666666666666666,\"#ed7953\"],[0.7777777777777778,\"#fb9f3a\"],[0.8888888888888888,\"#fdca26\"],[1.0,\"#f0f921\"]]}],\"heatmap\":[{\"type\":\"heatmap\",\"colorbar\":{\"outlinewidth\":0,\"ticks\":\"\"},\"colorscale\":[[0.0,\"#0d0887\"],[0.1111111111111111,\"#46039f\"],[0.2222222222222222,\"#7201a8\"],[0.3333333333333333,\"#9c179e\"],[0.4444444444444444,\"#bd3786\"],[0.5555555555555556,\"#d8576b\"],[0.6666666666666666,\"#ed7953\"],[0.7777777777777778,\"#fb9f3a\"],[0.8888888888888888,\"#fdca26\"],[1.0,\"#f0f921\"]]}],\"heatmapgl\":[{\"type\":\"heatmapgl\",\"colorbar\":{\"outlinewidth\":0,\"ticks\":\"\"},\"colorscale\":[[0.0,\"#0d0887\"],[0.1111111111111111,\"#46039f\"],[0.2222222222222222,\"#7201a8\"],[0.3333333333333333,\"#9c179e\"],[0.4444444444444444,\"#bd3786\"],[0.5555555555555556,\"#d8576b\"],[0.6666666666666666,\"#ed7953\"],[0.7777777777777778,\"#fb9f3a\"],[0.8888888888888888,\"#fdca26\"],[1.0,\"#f0f921\"]]}],\"contourcarpet\":[{\"type\":\"contourcarpet\",\"colorbar\":{\"outlinewidth\":0,\"ticks\":\"\"}}],\"contour\":[{\"type\":\"contour\",\"colorbar\":{\"outlinewidth\":0,\"ticks\":\"\"},\"colorscale\":[[0.0,\"#0d0887\"],[0.1111111111111111,\"#46039f\"],[0.2222222222222222,\"#7201a8\"],[0.3333333333333333,\"#9c179e\"],[0.4444444444444444,\"#bd3786\"],[0.5555555555555556,\"#d8576b\"],[0.6666666666666666,\"#ed7953\"],[0.7777777777777778,\"#fb9f3a\"],[0.8888888888888888,\"#fdca26\"],[1.0,\"#f0f921\"]]}],\"surface\":[{\"type\":\"surface\",\"colorbar\":{\"outlinewidth\":0,\"ticks\":\"\"},\"colorscale\":[[0.0,\"#0d0887\"],[0.1111111111111111,\"#46039f\"],[0.2222222222222222,\"#7201a8\"],[0.3333333333333333,\"#9c179e\"],[0.4444444444444444,\"#bd3786\"],[0.5555555555555556,\"#d8576b\"],[0.6666666666666666,\"#ed7953\"],[0.7777777777777778,\"#fb9f3a\"],[0.8888888888888888,\"#fdca26\"],[1.0,\"#f0f921\"]]}],\"mesh3d\":[{\"type\":\"mesh3d\",\"colorbar\":{\"outlinewidth\":0,\"ticks\":\"\"}}],\"scatter\":[{\"fillpattern\":{\"fillmode\":\"overlay\",\"size\":10,\"solidity\":0.2},\"type\":\"scatter\"}],\"parcoords\":[{\"type\":\"parcoords\",\"line\":{\"colorbar\":{\"outlinewidth\":0,\"ticks\":\"\"}}}],\"scatterpolargl\":[{\"type\":\"scatterpolargl\",\"marker\":{\"colorbar\":{\"outlinewidth\":0,\"ticks\":\"\"}}}],\"bar\":[{\"error_x\":{\"color\":\"#2a3f5f\"},\"error_y\":{\"color\":\"#2a3f5f\"},\"marker\":{\"line\":{\"color\":\"#E5ECF6\",\"width\":0.5},\"pattern\":{\"fillmode\":\"overlay\",\"size\":10,\"solidity\":0.2}},\"type\":\"bar\"}],\"scattergeo\":[{\"type\":\"scattergeo\",\"marker\":{\"colorbar\":{\"outlinewidth\":0,\"ticks\":\"\"}}}],\"scatterpolar\":[{\"type\":\"scatterpolar\",\"marker\":{\"colorbar\":{\"outlinewidth\":0,\"ticks\":\"\"}}}],\"histogram\":[{\"marker\":{\"pattern\":{\"fillmode\":\"overlay\",\"size\":10,\"solidity\":0.2}},\"type\":\"histogram\"}],\"scattergl\":[{\"type\":\"scattergl\",\"marker\":{\"colorbar\":{\"outlinewidth\":0,\"ticks\":\"\"}}}],\"scatter3d\":[{\"type\":\"scatter3d\",\"line\":{\"colorbar\":{\"outlinewidth\":0,\"ticks\":\"\"}},\"marker\":{\"colorbar\":{\"outlinewidth\":0,\"ticks\":\"\"}}}],\"scattermapbox\":[{\"type\":\"scattermapbox\",\"marker\":{\"colorbar\":{\"outlinewidth\":0,\"ticks\":\"\"}}}],\"scatterternary\":[{\"type\":\"scatterternary\",\"marker\":{\"colorbar\":{\"outlinewidth\":0,\"ticks\":\"\"}}}],\"scattercarpet\":[{\"type\":\"scattercarpet\",\"marker\":{\"colorbar\":{\"outlinewidth\":0,\"ticks\":\"\"}}}],\"carpet\":[{\"aaxis\":{\"endlinecolor\":\"#2a3f5f\",\"gridcolor\":\"white\",\"linecolor\":\"white\",\"minorgridcolor\":\"white\",\"startlinecolor\":\"#2a3f5f\"},\"baxis\":{\"endlinecolor\":\"#2a3f5f\",\"gridcolor\":\"white\",\"linecolor\":\"white\",\"minorgridcolor\":\"white\",\"startlinecolor\":\"#2a3f5f\"},\"type\":\"carpet\"}],\"table\":[{\"cells\":{\"fill\":{\"color\":\"#EBF0F8\"},\"line\":{\"color\":\"white\"}},\"header\":{\"fill\":{\"color\":\"#C8D4E3\"},\"line\":{\"color\":\"white\"}},\"type\":\"table\"}],\"barpolar\":[{\"marker\":{\"line\":{\"color\":\"#E5ECF6\",\"width\":0.5},\"pattern\":{\"fillmode\":\"overlay\",\"size\":10,\"solidity\":0.2}},\"type\":\"barpolar\"}],\"pie\":[{\"automargin\":true,\"type\":\"pie\"}]},\"layout\":{\"autotypenumbers\":\"strict\",\"colorway\":[\"#636efa\",\"#EF553B\",\"#00cc96\",\"#ab63fa\",\"#FFA15A\",\"#19d3f3\",\"#FF6692\",\"#B6E880\",\"#FF97FF\",\"#FECB52\"],\"font\":{\"color\":\"#2a3f5f\"},\"hovermode\":\"closest\",\"hoverlabel\":{\"align\":\"left\"},\"paper_bgcolor\":\"white\",\"plot_bgcolor\":\"#E5ECF6\",\"polar\":{\"bgcolor\":\"#E5ECF6\",\"angularaxis\":{\"gridcolor\":\"white\",\"linecolor\":\"white\",\"ticks\":\"\"},\"radialaxis\":{\"gridcolor\":\"white\",\"linecolor\":\"white\",\"ticks\":\"\"}},\"ternary\":{\"bgcolor\":\"#E5ECF6\",\"aaxis\":{\"gridcolor\":\"white\",\"linecolor\":\"white\",\"ticks\":\"\"},\"baxis\":{\"gridcolor\":\"white\",\"linecolor\":\"white\",\"ticks\":\"\"},\"caxis\":{\"gridcolor\":\"white\",\"linecolor\":\"white\",\"ticks\":\"\"}},\"coloraxis\":{\"colorbar\":{\"outlinewidth\":0,\"ticks\":\"\"}},\"colorscale\":{\"sequential\":[[0.0,\"#0d0887\"],[0.1111111111111111,\"#46039f\"],[0.2222222222222222,\"#7201a8\"],[0.3333333333333333,\"#9c179e\"],[0.4444444444444444,\"#bd3786\"],[0.5555555555555556,\"#d8576b\"],[0.6666666666666666,\"#ed7953\"],[0.7777777777777778,\"#fb9f3a\"],[0.8888888888888888,\"#fdca26\"],[1.0,\"#f0f921\"]],\"sequentialminus\":[[0.0,\"#0d0887\"],[0.1111111111111111,\"#46039f\"],[0.2222222222222222,\"#7201a8\"],[0.3333333333333333,\"#9c179e\"],[0.4444444444444444,\"#bd3786\"],[0.5555555555555556,\"#d8576b\"],[0.6666666666666666,\"#ed7953\"],[0.7777777777777778,\"#fb9f3a\"],[0.8888888888888888,\"#fdca26\"],[1.0,\"#f0f921\"]],\"diverging\":[[0,\"#8e0152\"],[0.1,\"#c51b7d\"],[0.2,\"#de77ae\"],[0.3,\"#f1b6da\"],[0.4,\"#fde0ef\"],[0.5,\"#f7f7f7\"],[0.6,\"#e6f5d0\"],[0.7,\"#b8e186\"],[0.8,\"#7fbc41\"],[0.9,\"#4d9221\"],[1,\"#276419\"]]},\"xaxis\":{\"gridcolor\":\"white\",\"linecolor\":\"white\",\"ticks\":\"\",\"title\":{\"standoff\":15},\"zerolinecolor\":\"white\",\"automargin\":true,\"zerolinewidth\":2},\"yaxis\":{\"gridcolor\":\"white\",\"linecolor\":\"white\",\"ticks\":\"\",\"title\":{\"standoff\":15},\"zerolinecolor\":\"white\",\"automargin\":true,\"zerolinewidth\":2},\"scene\":{\"xaxis\":{\"backgroundcolor\":\"#E5ECF6\",\"gridcolor\":\"white\",\"linecolor\":\"white\",\"showbackground\":true,\"ticks\":\"\",\"zerolinecolor\":\"white\",\"gridwidth\":2},\"yaxis\":{\"backgroundcolor\":\"#E5ECF6\",\"gridcolor\":\"white\",\"linecolor\":\"white\",\"showbackground\":true,\"ticks\":\"\",\"zerolinecolor\":\"white\",\"gridwidth\":2},\"zaxis\":{\"backgroundcolor\":\"#E5ECF6\",\"gridcolor\":\"white\",\"linecolor\":\"white\",\"showbackground\":true,\"ticks\":\"\",\"zerolinecolor\":\"white\",\"gridwidth\":2}},\"shapedefaults\":{\"line\":{\"color\":\"#2a3f5f\"}},\"annotationdefaults\":{\"arrowcolor\":\"#2a3f5f\",\"arrowhead\":0,\"arrowwidth\":1},\"geo\":{\"bgcolor\":\"white\",\"landcolor\":\"#E5ECF6\",\"subunitcolor\":\"white\",\"showland\":true,\"showlakes\":true,\"lakecolor\":\"white\"},\"title\":{\"x\":0.05},\"mapbox\":{\"style\":\"light\"}}},\"xaxis\":{\"anchor\":\"y\",\"domain\":[0.0,1.0],\"title\":{\"text\":\"Years of experience\"}},\"yaxis\":{\"anchor\":\"x\",\"domain\":[0.0,1.0],\"title\":{\"text\":\"Wage\"}},\"legend\":{\"title\":{\"text\":\"gender_str\"},\"tracegroupgap\":0},\"margin\":{\"t\":60},\"title\":{\"text\":\"Wages versus years of experience by gender\"}},                        {\"responsive\": true}                    ).then(function(){\n",
              "                            \n",
              "var gd = document.getElementById('4787267e-061c-46a5-b1da-aedb9143c0c6');\n",
              "var x = new MutationObserver(function (mutations, observer) {{\n",
              "        var display = window.getComputedStyle(gd).display;\n",
              "        if (!display || display === 'none') {{\n",
              "            console.log([gd, 'removed!']);\n",
              "            Plotly.purge(gd);\n",
              "            observer.disconnect();\n",
              "        }}\n",
              "}});\n",
              "\n",
              "// Listen for the removal of the full notebook cells\n",
              "var notebookContainer = gd.closest('#notebook-container');\n",
              "if (notebookContainer) {{\n",
              "    x.observe(notebookContainer, {childList: true});\n",
              "}}\n",
              "\n",
              "// Listen for the clearing of the current output cell\n",
              "var outputEl = gd.closest('.output');\n",
              "if (outputEl) {{\n",
              "    x.observe(outputEl, {childList: true});\n",
              "}}\n",
              "\n",
              "                        })                };                            </script>        </div>\n",
              "</body>\n",
              "</html>"
            ]
          },
          "metadata": {}
        }
      ],
      "source": [
        "fig = px.scatter(data, x='experience', y='wage', color='gender_str', trendline='ols')\n",
        "fig.update_layout(\n",
        "    title=\"Wages versus years of experience by gender\"\n",
        "    )\n",
        "fig.update_xaxes(title='Years of experience')\n",
        "fig.update_yaxes(title='Wage')\n",
        "fig.show()"
      ]
    },
    {
      "cell_type": "markdown",
      "source": [
        "This pattern can also be found for age: wages have a little positive difference for men for the same years of age."
      ],
      "metadata": {
        "id": "0_BvrAXcUVVo"
      }
    },
    {
      "cell_type": "code",
      "source": [
        "fig = px.scatter(data, x='Age', y='wage', color='gender_str', trendline='ols')\n",
        "fig.update_layout(\n",
        "    title=\"Wages versus years of age by sex\",\n",
        "    )\n",
        "fig.show()"
      ],
      "metadata": {
        "colab": {
          "base_uri": "https://localhost:8080/",
          "height": 542
        },
        "id": "zzdKRSoNUU1u",
        "outputId": "b4c754e2-b122-4614-d8bf-8c7442d1c115"
      },
      "execution_count": 48,
      "outputs": [
        {
          "output_type": "display_data",
          "data": {
            "text/html": [
              "<html>\n",
              "<head><meta charset=\"utf-8\" /></head>\n",
              "<body>\n",
              "    <div>            <script src=\"https://cdnjs.cloudflare.com/ajax/libs/mathjax/2.7.5/MathJax.js?config=TeX-AMS-MML_SVG\"></script><script type=\"text/javascript\">if (window.MathJax && window.MathJax.Hub && window.MathJax.Hub.Config) {window.MathJax.Hub.Config({SVG: {font: \"STIX-Web\"}});}</script>                <script type=\"text/javascript\">window.PlotlyConfig = {MathJaxConfig: 'local'};</script>\n",
              "        <script src=\"https://cdn.plot.ly/plotly-2.18.2.min.js\"></script>                <div id=\"75a86901-3f3f-4d37-bca5-a8c02dd45351\" class=\"plotly-graph-div\" style=\"height:525px; width:100%;\"></div>            <script type=\"text/javascript\">                                    window.PLOTLYENV=window.PLOTLYENV || {};                                    if (document.getElementById(\"75a86901-3f3f-4d37-bca5-a8c02dd45351\")) {                    Plotly.newPlot(                        \"75a86901-3f3f-4d37-bca5-a8c02dd45351\",                        [{\"hovertemplate\":\"gender_str=Male<br>Age=%{x}<br>wage=%{y}<extra></extra>\",\"legendgroup\":\"Male\",\"marker\":{\"color\":\"#636efa\",\"symbol\":\"circle\"},\"mode\":\"markers\",\"name\":\"Male\",\"orientation\":\"v\",\"showlegend\":true,\"x\":[32.0,45.0,52.0,29.0,31.0,38.0,29.0,35.0,27.0,44.0,39.0,51.0,47.0,30.0,41.0,24.0,33.0,50.0,29.0,46.0,27.0,42.0,49.0,48.0,30.0,41.0,32.0,38.0,25.0,33.0,47.0,36.0,43.0,35.0,29.0,47.0,26.0,46.0,34.0,33.0,45.0,28.0,37.0,32.0,36.0,25.0,52.0,27.0,46.0,36.0,43.0,33.0,47.0,26.0,45.0,35.0,33.0,44.0,36.0,28.0,37.0,32.0,31.0,48.0,35.0,53.0,38.0,26.0,45.0,34.0,29.0,47.0,27.0,46.0,36.0,28.0,33.0,47.0,34.0,31.0,45.0,36.0,26.0,44.0,33.0,28.0,48.0,35.0,27.0,46.0,34.0,29.0,43.0,35.0,31.0,46.0,37.0,27.0,43.0,34.0,28.0,47.0,34.0,28.0,45.0,35.0,30.0,44.0,36.0,31.0,47.0,38.0,28.0,44.0,35.0,29.0,48.0,33.0,28.0,46.0,37.0,30.0,43.0,35.0,32.0,45.0,39.0,29.0,46.0,36.0,31.0,47.0,38.0,28.0,44.0,35.0,29.0,46.0,42.0,36.0,33.0,45.0,37.0,30.0,46.0,36.0,31.0,47.0,35.0,33.0,44.0,32.0,49.0,35.0,33.0,44.0,37.0,31.0,45.0,36.0,31.0,47.0,35.0,33.0,44.0,36.0,37.0,32.0,47.0,36.0,32.0,48.0,40.0,33.0,47.0,34.0,33.0,43.0,41.0,33.0,45.0,36.0,31.0,48.0,40.0,33.0,47.0,34.0,33.0,43.0,41.0,33.0,43.0,34.0],\"xaxis\":\"x\",\"y\":[90000.0,150000.0,200000.0,55000.0,80000.0,110000.0,75000.0,65000.0,40000.0,125000.0,115000.0,180000.0,190000.0,50000.0,140000.0,40000.0,90000.0,250000.0,75000.0,170000.0,45000.0,115000.0,160000.0,190000.0,60000.0,130000.0,75000.0,120000.0,35000.0,85000.0,200000.0,95000.0,140000.0,105000.0,50000.0,180000.0,35000.0,120000.0,90000.0,65000.0,190000.0,40000.0,95000.0,100000.0,70000.0,30000.0,250000.0,45000.0,135000.0,120000.0,105000.0,75000.0,160000.0,35000.0,110000.0,95000.0,50000.0,220000.0,60000.0,40000.0,95000.0,90000.0,95000.0,170000.0,120000.0,180000.0,80000.0,40000.0,110000.0,105000.0,45000.0,160000.0,35000.0,140000.0,60000.0,40000.0,50000.0,135000.0,90000.0,60000.0,175000.0,120000.0,35000.0,110000.0,115000.0,40000.0,175000.0,80000.0,35000.0,150000.0,105000.0,40000.0,140000.0,85000.0,50000.0,170000.0,105000.0,40000.0,130000.0,100000.0,35000.0,170000.0,95000.0,40000.0,155000.0,110000.0,45000.0,130000.0,90000.0,50000.0,170000.0,110000.0,40000.0,130000.0,95000.0,35000.0,170000.0,100000.0,40000.0,160000.0,120000.0,45000.0,120000.0,85000.0,45000.0,140000.0,120000.0,40000.0,150000.0,95000.0,50000.0,170000.0,110000.0,40000.0,130000.0,95000.0,350.0,160000.0,110000.0,95000.0,60000.0,150000.0,90000.0,40000.0,160000.0,95000.0,50000.0,170000.0,100000.0,60000.0,130000.0,65000.0,180000.0,90000.0,60000.0,160000.0,100000.0,55000.0,150000.0,95000.0,50000.0,170000.0,100000.0,60000.0,130000.0,95000.0,120000.0,65000.0,180000.0,100000.0,55000.0,180000.0,130000.0,60000.0,170000.0,90000.0,70000.0,170000.0,150000.0,60000.0,180000.0,110000.0,55000.0,180000.0,130000.0,60000.0,170000.0,90000.0,70000.0,170000.0,150000.0,60000.0,170000.0,90000.0],\"yaxis\":\"y\",\"type\":\"scatter\"},{\"hovertemplate\":\"<b>OLS trendline</b><br>wage = 6534.23 * Age + -139818<br>R<sup>2</sup>=0.867775<br><br>gender_str=Male<br>Age=%{x}<br>wage=%{y} <b>(trend)</b><extra></extra>\",\"legendgroup\":\"Male\",\"marker\":{\"color\":\"#636efa\",\"symbol\":\"circle\"},\"mode\":\"lines\",\"name\":\"Male\",\"showlegend\":false,\"x\":[24.0,25.0,25.0,26.0,26.0,26.0,26.0,27.0,27.0,27.0,27.0,27.0,27.0,28.0,28.0,28.0,28.0,28.0,28.0,28.0,28.0,28.0,29.0,29.0,29.0,29.0,29.0,29.0,29.0,29.0,29.0,30.0,30.0,30.0,30.0,30.0,31.0,31.0,31.0,31.0,31.0,31.0,31.0,31.0,31.0,31.0,32.0,32.0,32.0,32.0,32.0,32.0,32.0,32.0,33.0,33.0,33.0,33.0,33.0,33.0,33.0,33.0,33.0,33.0,33.0,33.0,33.0,33.0,33.0,33.0,33.0,33.0,34.0,34.0,34.0,34.0,34.0,34.0,34.0,34.0,34.0,35.0,35.0,35.0,35.0,35.0,35.0,35.0,35.0,35.0,35.0,35.0,35.0,35.0,36.0,36.0,36.0,36.0,36.0,36.0,36.0,36.0,36.0,36.0,36.0,36.0,36.0,36.0,37.0,37.0,37.0,37.0,37.0,37.0,37.0,38.0,38.0,38.0,38.0,38.0,39.0,39.0,40.0,40.0,41.0,41.0,41.0,41.0,42.0,42.0,43.0,43.0,43.0,43.0,43.0,43.0,43.0,43.0,44.0,44.0,44.0,44.0,44.0,44.0,44.0,44.0,44.0,45.0,45.0,45.0,45.0,45.0,45.0,45.0,45.0,45.0,45.0,46.0,46.0,46.0,46.0,46.0,46.0,46.0,46.0,46.0,46.0,47.0,47.0,47.0,47.0,47.0,47.0,47.0,47.0,47.0,47.0,47.0,47.0,47.0,47.0,48.0,48.0,48.0,48.0,48.0,48.0,49.0,49.0,50.0,51.0,52.0,52.0,53.0],\"xaxis\":\"x\",\"y\":[17002.993559214112,23537.219712572958,23537.219712572958,30071.445865931804,30071.445865931804,30071.445865931804,30071.445865931804,36605.67201929065,36605.67201929065,36605.67201929065,36605.67201929065,36605.67201929065,36605.67201929065,43139.898172649526,43139.898172649526,43139.898172649526,43139.898172649526,43139.898172649526,43139.898172649526,43139.898172649526,43139.898172649526,43139.898172649526,49674.12432600837,49674.12432600837,49674.12432600837,49674.12432600837,49674.12432600837,49674.12432600837,49674.12432600837,49674.12432600837,49674.12432600837,56208.35047936722,56208.35047936722,56208.35047936722,56208.35047936722,56208.35047936722,62742.57663272609,62742.57663272609,62742.57663272609,62742.57663272609,62742.57663272609,62742.57663272609,62742.57663272609,62742.57663272609,62742.57663272609,62742.57663272609,69276.80278608494,69276.80278608494,69276.80278608494,69276.80278608494,69276.80278608494,69276.80278608494,69276.80278608494,69276.80278608494,75811.02893944379,75811.02893944379,75811.02893944379,75811.02893944379,75811.02893944379,75811.02893944379,75811.02893944379,75811.02893944379,75811.02893944379,75811.02893944379,75811.02893944379,75811.02893944379,75811.02893944379,75811.02893944379,75811.02893944379,75811.02893944379,75811.02893944379,75811.02893944379,82345.25509280266,82345.25509280266,82345.25509280266,82345.25509280266,82345.25509280266,82345.25509280266,82345.25509280266,82345.25509280266,82345.25509280266,88879.48124616151,88879.48124616151,88879.48124616151,88879.48124616151,88879.48124616151,88879.48124616151,88879.48124616151,88879.48124616151,88879.48124616151,88879.48124616151,88879.48124616151,88879.48124616151,88879.48124616151,95413.70739952035,95413.70739952035,95413.70739952035,95413.70739952035,95413.70739952035,95413.70739952035,95413.70739952035,95413.70739952035,95413.70739952035,95413.70739952035,95413.70739952035,95413.70739952035,95413.70739952035,95413.70739952035,101947.93355287923,101947.93355287923,101947.93355287923,101947.93355287923,101947.93355287923,101947.93355287923,101947.93355287923,108482.15970623808,108482.15970623808,108482.15970623808,108482.15970623808,108482.15970623808,115016.38585959692,115016.38585959692,121550.61201295577,121550.61201295577,128084.83816631464,128084.83816631464,128084.83816631464,128084.83816631464,134619.06431967352,134619.06431967352,141153.29047303234,141153.29047303234,141153.29047303234,141153.29047303234,141153.29047303234,141153.29047303234,141153.29047303234,141153.29047303234,147687.5166263912,147687.5166263912,147687.5166263912,147687.5166263912,147687.5166263912,147687.5166263912,147687.5166263912,147687.5166263912,147687.5166263912,154221.7427797501,154221.7427797501,154221.7427797501,154221.7427797501,154221.7427797501,154221.7427797501,154221.7427797501,154221.7427797501,154221.7427797501,154221.7427797501,160755.9689331089,160755.9689331089,160755.9689331089,160755.9689331089,160755.9689331089,160755.9689331089,160755.9689331089,160755.9689331089,160755.9689331089,160755.9689331089,167290.19508646778,167290.19508646778,167290.19508646778,167290.19508646778,167290.19508646778,167290.19508646778,167290.19508646778,167290.19508646778,167290.19508646778,167290.19508646778,167290.19508646778,167290.19508646778,167290.19508646778,167290.19508646778,173824.42123982665,173824.42123982665,173824.42123982665,173824.42123982665,173824.42123982665,173824.42123982665,180358.64739318547,180358.64739318547,186892.87354654435,193427.09969990316,199961.32585326204,199961.32585326204,206495.5520066209],\"yaxis\":\"y\",\"type\":\"scatter\"},{\"hovertemplate\":\"gender_str=Female<br>Age=%{x}<br>wage=%{y}<extra></extra>\",\"legendgroup\":\"Female\",\"marker\":{\"color\":\"#EF553B\",\"symbol\":\"circle\"},\"mode\":\"markers\",\"name\":\"Female\",\"orientation\":\"v\",\"showlegend\":true,\"x\":[28.0,36.0,42.0,26.0,48.0,40.0,33.0,25.0,34.0,36.0,28.0,37.0,43.0,31.0,39.0,35.0,26.0,34.0,36.0,28.0,45.0,51.0,40.0,29.0,27.0,30.0,51.0,40.0,38.0,31.0,49.0,39.0,42.0,50.0,48.0,30.0,41.0,29.0,34.0,40.0,31.0,29.0,52.0,39.0,38.0,31.0,49.0,39.0,30.0,41.0,42.0,50.0,23.0,40.0,29.0,42.0,33.0,44.0,37.0,32.0,50.0,40.0,39.0,30.0,43.0,41.0,25.0,42.0,38.0,29.0,43.0,37.0,32.0,51.0,39.0,30.0,41.0,40.0,31.0,50.0,26.0,42.0,38.0,29.0,44.0,36.0,33.0,50.0,39.0,30.0,40.0,41.0,32.0,49.0,27.0,41.0,39.0,30.0,45.0,35.0,34.0,50.0,40.0,31.0,42.0,40.0,33.0,51.0,27.0,42.0,37.0,33.0,44.0,38.0,34.0,49.0,41.0,30.0,45.0,35.0,34.0,50.0,37.0,31.0,29.0,44.0,39.0,32.0,47.0,38.0,34.0,49.0,41.0,29.0,44.0,35.0,38.0,29.0,45.0,40.0,30.0,48.0,38.0,33.0,49.0,42.0,29.0,44.0,35.0,34.0,30.0,45.0,39.0,29.0,43.0,38.0,31.0,45.0,36.0,29.0,44.0,35.0,31.0,44.0,35.0,28.0,44.0,38.0,31.0,45.0,36.0,29.0,44.0,35.0,31.0,44.0,35.0,29.0,44.0],\"xaxis\":\"x\",\"y\":[65000.0,60000.0,120000.0,45000.0,140000.0,130000.0,90000.0,35000.0,80000.0,60000.0,45000.0,110000.0,140000.0,55000.0,65000.0,60000.0,40000.0,80000.0,45000.0,40000.0,180000.0,130000.0,60000.0,50000.0,65000.0,55000.0,170000.0,80000.0,90000.0,45000.0,150000.0,70000.0,120000.0,160000.0,180000.0,55000.0,80000.0,40000.0,95000.0,80000.0,55000.0,40000.0,170000.0,65000.0,90000.0,45000.0,150000.0,80000.0,50000.0,100000.0,110000.0,130000.0,35000.0,65000.0,45000.0,100000.0,50000.0,140000.0,95000.0,50000.0,160000.0,100000.0,55000.0,50000.0,120000.0,110000.0,40000.0,150000.0,80000.0,45000.0,140000.0,95000.0,50000.0,185000.0,90000.0,45000.0,120000.0,110000.0,50000.0,180000.0,45000.0,140000.0,80000.0,40000.0,145000.0,85000.0,95000.0,180000.0,95000.0,45000.0,120000.0,90000.0,55000.0,180000.0,45000.0,160000.0,120000.0,40000.0,150000.0,85000.0,100000.0,180000.0,100000.0,45000.0,140000.0,105000.0,70000.0,190000.0,50000.0,140000.0,100000.0,70000.0,160000.0,120000.0,70000.0,180000.0,95000.0,40000.0,150000.0,85000.0,100000.0,180000.0,120000.0,50000.0,40000.0,140000.0,110000.0,60000.0,180000.0,120000.0,70000.0,180000.0,95000.0,35000.0,150000.0,85000.0,110000.0,40000.0,140000.0,130000.0,40000.0,180000.0,120000.0,70000.0,180000.0,120000.0,35000.0,150000.0,85000.0,80000.0,40000.0,160000.0,130000.0,40000.0,150000.0,110000.0,50000.0,160000.0,95000.0,40000.0,150000.0,90000.0,50000.0,160000.0,85000.0,35000.0,160000.0,110000.0,50000.0,160000.0,95000.0,40000.0,150000.0,90000.0,50000.0,160000.0,85000.0,40000.0,150000.0],\"yaxis\":\"y\",\"type\":\"scatter\"},{\"hovertemplate\":\"<b>OLS trendline</b><br>wage = 6048.19 * Age + -130286<br>R<sup>2</sup>=0.848393<br><br>gender_str=Female<br>Age=%{x}<br>wage=%{y} <b>(trend)</b><extra></extra>\",\"legendgroup\":\"Female\",\"marker\":{\"color\":\"#EF553B\",\"symbol\":\"circle\"},\"mode\":\"lines\",\"name\":\"Female\",\"showlegend\":false,\"x\":[23.0,25.0,25.0,26.0,26.0,26.0,27.0,27.0,27.0,28.0,28.0,28.0,28.0,29.0,29.0,29.0,29.0,29.0,29.0,29.0,29.0,29.0,29.0,29.0,29.0,29.0,29.0,30.0,30.0,30.0,30.0,30.0,30.0,30.0,30.0,30.0,30.0,31.0,31.0,31.0,31.0,31.0,31.0,31.0,31.0,31.0,31.0,31.0,32.0,32.0,32.0,32.0,33.0,33.0,33.0,33.0,33.0,33.0,34.0,34.0,34.0,34.0,34.0,34.0,34.0,34.0,35.0,35.0,35.0,35.0,35.0,35.0,35.0,35.0,35.0,36.0,36.0,36.0,36.0,36.0,36.0,37.0,37.0,37.0,37.0,37.0,38.0,38.0,38.0,38.0,38.0,38.0,38.0,38.0,38.0,38.0,39.0,39.0,39.0,39.0,39.0,39.0,39.0,39.0,39.0,39.0,40.0,40.0,40.0,40.0,40.0,40.0,40.0,40.0,40.0,40.0,40.0,41.0,41.0,41.0,41.0,41.0,41.0,41.0,41.0,42.0,42.0,42.0,42.0,42.0,42.0,42.0,42.0,42.0,43.0,43.0,43.0,43.0,44.0,44.0,44.0,44.0,44.0,44.0,44.0,44.0,44.0,44.0,44.0,44.0,45.0,45.0,45.0,45.0,45.0,45.0,45.0,47.0,48.0,48.0,48.0,49.0,49.0,49.0,49.0,49.0,49.0,50.0,50.0,50.0,50.0,50.0,50.0,50.0,51.0,51.0,51.0,51.0,52.0],\"xaxis\":\"x\",\"y\":[8822.547723275435,20918.91857196024,20918.91857196024,26967.10399630264,26967.10399630264,26967.10399630264,33015.289420645044,33015.289420645044,33015.289420645044,39063.474844987446,39063.474844987446,39063.474844987446,39063.474844987446,45111.66026932985,45111.66026932985,45111.66026932985,45111.66026932985,45111.66026932985,45111.66026932985,45111.66026932985,45111.66026932985,45111.66026932985,45111.66026932985,45111.66026932985,45111.66026932985,45111.66026932985,45111.66026932985,51159.84569367225,51159.84569367225,51159.84569367225,51159.84569367225,51159.84569367225,51159.84569367225,51159.84569367225,51159.84569367225,51159.84569367225,51159.84569367225,57208.03111801465,57208.03111801465,57208.03111801465,57208.03111801465,57208.03111801465,57208.03111801465,57208.03111801465,57208.03111801465,57208.03111801465,57208.03111801465,57208.03111801465,63256.216542357055,63256.216542357055,63256.216542357055,63256.216542357055,69304.40196669946,69304.40196669946,69304.40196669946,69304.40196669946,69304.40196669946,69304.40196669946,75352.58739104186,75352.58739104186,75352.58739104186,75352.58739104186,75352.58739104186,75352.58739104186,75352.58739104186,75352.58739104186,81400.77281538426,81400.77281538426,81400.77281538426,81400.77281538426,81400.77281538426,81400.77281538426,81400.77281538426,81400.77281538426,81400.77281538426,87448.95823972666,87448.95823972666,87448.95823972666,87448.95823972666,87448.95823972666,87448.95823972666,93497.14366406907,93497.14366406907,93497.14366406907,93497.14366406907,93497.14366406907,99545.32908841147,99545.32908841147,99545.32908841147,99545.32908841147,99545.32908841147,99545.32908841147,99545.32908841147,99545.32908841147,99545.32908841147,99545.32908841147,105593.51451275387,105593.51451275387,105593.51451275387,105593.51451275387,105593.51451275387,105593.51451275387,105593.51451275387,105593.51451275387,105593.51451275387,105593.51451275387,111641.69993709627,111641.69993709627,111641.69993709627,111641.69993709627,111641.69993709627,111641.69993709627,111641.69993709627,111641.69993709627,111641.69993709627,111641.69993709627,111641.69993709627,117689.88536143868,117689.88536143868,117689.88536143868,117689.88536143868,117689.88536143868,117689.88536143868,117689.88536143868,117689.88536143868,123738.07078578108,123738.07078578108,123738.07078578108,123738.07078578108,123738.07078578108,123738.07078578108,123738.07078578108,123738.07078578108,123738.07078578108,129786.25621012348,129786.25621012348,129786.25621012348,129786.25621012348,135834.44163446588,135834.44163446588,135834.44163446588,135834.44163446588,135834.44163446588,135834.44163446588,135834.44163446588,135834.44163446588,135834.44163446588,135834.44163446588,135834.44163446588,135834.44163446588,141882.62705880828,141882.62705880828,141882.62705880828,141882.62705880828,141882.62705880828,141882.62705880828,141882.62705880828,153978.9979074931,160027.1833318355,160027.1833318355,160027.1833318355,166075.3687561779,166075.3687561779,166075.3687561779,166075.3687561779,166075.3687561779,166075.3687561779,172123.5541805203,172123.5541805203,172123.5541805203,172123.5541805203,172123.5541805203,172123.5541805203,172123.5541805203,178171.7396048627,178171.7396048627,178171.7396048627,178171.7396048627,184219.9250292051],\"yaxis\":\"y\",\"type\":\"scatter\"}],                        {\"template\":{\"data\":{\"histogram2dcontour\":[{\"type\":\"histogram2dcontour\",\"colorbar\":{\"outlinewidth\":0,\"ticks\":\"\"},\"colorscale\":[[0.0,\"#0d0887\"],[0.1111111111111111,\"#46039f\"],[0.2222222222222222,\"#7201a8\"],[0.3333333333333333,\"#9c179e\"],[0.4444444444444444,\"#bd3786\"],[0.5555555555555556,\"#d8576b\"],[0.6666666666666666,\"#ed7953\"],[0.7777777777777778,\"#fb9f3a\"],[0.8888888888888888,\"#fdca26\"],[1.0,\"#f0f921\"]]}],\"choropleth\":[{\"type\":\"choropleth\",\"colorbar\":{\"outlinewidth\":0,\"ticks\":\"\"}}],\"histogram2d\":[{\"type\":\"histogram2d\",\"colorbar\":{\"outlinewidth\":0,\"ticks\":\"\"},\"colorscale\":[[0.0,\"#0d0887\"],[0.1111111111111111,\"#46039f\"],[0.2222222222222222,\"#7201a8\"],[0.3333333333333333,\"#9c179e\"],[0.4444444444444444,\"#bd3786\"],[0.5555555555555556,\"#d8576b\"],[0.6666666666666666,\"#ed7953\"],[0.7777777777777778,\"#fb9f3a\"],[0.8888888888888888,\"#fdca26\"],[1.0,\"#f0f921\"]]}],\"heatmap\":[{\"type\":\"heatmap\",\"colorbar\":{\"outlinewidth\":0,\"ticks\":\"\"},\"colorscale\":[[0.0,\"#0d0887\"],[0.1111111111111111,\"#46039f\"],[0.2222222222222222,\"#7201a8\"],[0.3333333333333333,\"#9c179e\"],[0.4444444444444444,\"#bd3786\"],[0.5555555555555556,\"#d8576b\"],[0.6666666666666666,\"#ed7953\"],[0.7777777777777778,\"#fb9f3a\"],[0.8888888888888888,\"#fdca26\"],[1.0,\"#f0f921\"]]}],\"heatmapgl\":[{\"type\":\"heatmapgl\",\"colorbar\":{\"outlinewidth\":0,\"ticks\":\"\"},\"colorscale\":[[0.0,\"#0d0887\"],[0.1111111111111111,\"#46039f\"],[0.2222222222222222,\"#7201a8\"],[0.3333333333333333,\"#9c179e\"],[0.4444444444444444,\"#bd3786\"],[0.5555555555555556,\"#d8576b\"],[0.6666666666666666,\"#ed7953\"],[0.7777777777777778,\"#fb9f3a\"],[0.8888888888888888,\"#fdca26\"],[1.0,\"#f0f921\"]]}],\"contourcarpet\":[{\"type\":\"contourcarpet\",\"colorbar\":{\"outlinewidth\":0,\"ticks\":\"\"}}],\"contour\":[{\"type\":\"contour\",\"colorbar\":{\"outlinewidth\":0,\"ticks\":\"\"},\"colorscale\":[[0.0,\"#0d0887\"],[0.1111111111111111,\"#46039f\"],[0.2222222222222222,\"#7201a8\"],[0.3333333333333333,\"#9c179e\"],[0.4444444444444444,\"#bd3786\"],[0.5555555555555556,\"#d8576b\"],[0.6666666666666666,\"#ed7953\"],[0.7777777777777778,\"#fb9f3a\"],[0.8888888888888888,\"#fdca26\"],[1.0,\"#f0f921\"]]}],\"surface\":[{\"type\":\"surface\",\"colorbar\":{\"outlinewidth\":0,\"ticks\":\"\"},\"colorscale\":[[0.0,\"#0d0887\"],[0.1111111111111111,\"#46039f\"],[0.2222222222222222,\"#7201a8\"],[0.3333333333333333,\"#9c179e\"],[0.4444444444444444,\"#bd3786\"],[0.5555555555555556,\"#d8576b\"],[0.6666666666666666,\"#ed7953\"],[0.7777777777777778,\"#fb9f3a\"],[0.8888888888888888,\"#fdca26\"],[1.0,\"#f0f921\"]]}],\"mesh3d\":[{\"type\":\"mesh3d\",\"colorbar\":{\"outlinewidth\":0,\"ticks\":\"\"}}],\"scatter\":[{\"fillpattern\":{\"fillmode\":\"overlay\",\"size\":10,\"solidity\":0.2},\"type\":\"scatter\"}],\"parcoords\":[{\"type\":\"parcoords\",\"line\":{\"colorbar\":{\"outlinewidth\":0,\"ticks\":\"\"}}}],\"scatterpolargl\":[{\"type\":\"scatterpolargl\",\"marker\":{\"colorbar\":{\"outlinewidth\":0,\"ticks\":\"\"}}}],\"bar\":[{\"error_x\":{\"color\":\"#2a3f5f\"},\"error_y\":{\"color\":\"#2a3f5f\"},\"marker\":{\"line\":{\"color\":\"#E5ECF6\",\"width\":0.5},\"pattern\":{\"fillmode\":\"overlay\",\"size\":10,\"solidity\":0.2}},\"type\":\"bar\"}],\"scattergeo\":[{\"type\":\"scattergeo\",\"marker\":{\"colorbar\":{\"outlinewidth\":0,\"ticks\":\"\"}}}],\"scatterpolar\":[{\"type\":\"scatterpolar\",\"marker\":{\"colorbar\":{\"outlinewidth\":0,\"ticks\":\"\"}}}],\"histogram\":[{\"marker\":{\"pattern\":{\"fillmode\":\"overlay\",\"size\":10,\"solidity\":0.2}},\"type\":\"histogram\"}],\"scattergl\":[{\"type\":\"scattergl\",\"marker\":{\"colorbar\":{\"outlinewidth\":0,\"ticks\":\"\"}}}],\"scatter3d\":[{\"type\":\"scatter3d\",\"line\":{\"colorbar\":{\"outlinewidth\":0,\"ticks\":\"\"}},\"marker\":{\"colorbar\":{\"outlinewidth\":0,\"ticks\":\"\"}}}],\"scattermapbox\":[{\"type\":\"scattermapbox\",\"marker\":{\"colorbar\":{\"outlinewidth\":0,\"ticks\":\"\"}}}],\"scatterternary\":[{\"type\":\"scatterternary\",\"marker\":{\"colorbar\":{\"outlinewidth\":0,\"ticks\":\"\"}}}],\"scattercarpet\":[{\"type\":\"scattercarpet\",\"marker\":{\"colorbar\":{\"outlinewidth\":0,\"ticks\":\"\"}}}],\"carpet\":[{\"aaxis\":{\"endlinecolor\":\"#2a3f5f\",\"gridcolor\":\"white\",\"linecolor\":\"white\",\"minorgridcolor\":\"white\",\"startlinecolor\":\"#2a3f5f\"},\"baxis\":{\"endlinecolor\":\"#2a3f5f\",\"gridcolor\":\"white\",\"linecolor\":\"white\",\"minorgridcolor\":\"white\",\"startlinecolor\":\"#2a3f5f\"},\"type\":\"carpet\"}],\"table\":[{\"cells\":{\"fill\":{\"color\":\"#EBF0F8\"},\"line\":{\"color\":\"white\"}},\"header\":{\"fill\":{\"color\":\"#C8D4E3\"},\"line\":{\"color\":\"white\"}},\"type\":\"table\"}],\"barpolar\":[{\"marker\":{\"line\":{\"color\":\"#E5ECF6\",\"width\":0.5},\"pattern\":{\"fillmode\":\"overlay\",\"size\":10,\"solidity\":0.2}},\"type\":\"barpolar\"}],\"pie\":[{\"automargin\":true,\"type\":\"pie\"}]},\"layout\":{\"autotypenumbers\":\"strict\",\"colorway\":[\"#636efa\",\"#EF553B\",\"#00cc96\",\"#ab63fa\",\"#FFA15A\",\"#19d3f3\",\"#FF6692\",\"#B6E880\",\"#FF97FF\",\"#FECB52\"],\"font\":{\"color\":\"#2a3f5f\"},\"hovermode\":\"closest\",\"hoverlabel\":{\"align\":\"left\"},\"paper_bgcolor\":\"white\",\"plot_bgcolor\":\"#E5ECF6\",\"polar\":{\"bgcolor\":\"#E5ECF6\",\"angularaxis\":{\"gridcolor\":\"white\",\"linecolor\":\"white\",\"ticks\":\"\"},\"radialaxis\":{\"gridcolor\":\"white\",\"linecolor\":\"white\",\"ticks\":\"\"}},\"ternary\":{\"bgcolor\":\"#E5ECF6\",\"aaxis\":{\"gridcolor\":\"white\",\"linecolor\":\"white\",\"ticks\":\"\"},\"baxis\":{\"gridcolor\":\"white\",\"linecolor\":\"white\",\"ticks\":\"\"},\"caxis\":{\"gridcolor\":\"white\",\"linecolor\":\"white\",\"ticks\":\"\"}},\"coloraxis\":{\"colorbar\":{\"outlinewidth\":0,\"ticks\":\"\"}},\"colorscale\":{\"sequential\":[[0.0,\"#0d0887\"],[0.1111111111111111,\"#46039f\"],[0.2222222222222222,\"#7201a8\"],[0.3333333333333333,\"#9c179e\"],[0.4444444444444444,\"#bd3786\"],[0.5555555555555556,\"#d8576b\"],[0.6666666666666666,\"#ed7953\"],[0.7777777777777778,\"#fb9f3a\"],[0.8888888888888888,\"#fdca26\"],[1.0,\"#f0f921\"]],\"sequentialminus\":[[0.0,\"#0d0887\"],[0.1111111111111111,\"#46039f\"],[0.2222222222222222,\"#7201a8\"],[0.3333333333333333,\"#9c179e\"],[0.4444444444444444,\"#bd3786\"],[0.5555555555555556,\"#d8576b\"],[0.6666666666666666,\"#ed7953\"],[0.7777777777777778,\"#fb9f3a\"],[0.8888888888888888,\"#fdca26\"],[1.0,\"#f0f921\"]],\"diverging\":[[0,\"#8e0152\"],[0.1,\"#c51b7d\"],[0.2,\"#de77ae\"],[0.3,\"#f1b6da\"],[0.4,\"#fde0ef\"],[0.5,\"#f7f7f7\"],[0.6,\"#e6f5d0\"],[0.7,\"#b8e186\"],[0.8,\"#7fbc41\"],[0.9,\"#4d9221\"],[1,\"#276419\"]]},\"xaxis\":{\"gridcolor\":\"white\",\"linecolor\":\"white\",\"ticks\":\"\",\"title\":{\"standoff\":15},\"zerolinecolor\":\"white\",\"automargin\":true,\"zerolinewidth\":2},\"yaxis\":{\"gridcolor\":\"white\",\"linecolor\":\"white\",\"ticks\":\"\",\"title\":{\"standoff\":15},\"zerolinecolor\":\"white\",\"automargin\":true,\"zerolinewidth\":2},\"scene\":{\"xaxis\":{\"backgroundcolor\":\"#E5ECF6\",\"gridcolor\":\"white\",\"linecolor\":\"white\",\"showbackground\":true,\"ticks\":\"\",\"zerolinecolor\":\"white\",\"gridwidth\":2},\"yaxis\":{\"backgroundcolor\":\"#E5ECF6\",\"gridcolor\":\"white\",\"linecolor\":\"white\",\"showbackground\":true,\"ticks\":\"\",\"zerolinecolor\":\"white\",\"gridwidth\":2},\"zaxis\":{\"backgroundcolor\":\"#E5ECF6\",\"gridcolor\":\"white\",\"linecolor\":\"white\",\"showbackground\":true,\"ticks\":\"\",\"zerolinecolor\":\"white\",\"gridwidth\":2}},\"shapedefaults\":{\"line\":{\"color\":\"#2a3f5f\"}},\"annotationdefaults\":{\"arrowcolor\":\"#2a3f5f\",\"arrowhead\":0,\"arrowwidth\":1},\"geo\":{\"bgcolor\":\"white\",\"landcolor\":\"#E5ECF6\",\"subunitcolor\":\"white\",\"showland\":true,\"showlakes\":true,\"lakecolor\":\"white\"},\"title\":{\"x\":0.05},\"mapbox\":{\"style\":\"light\"}}},\"xaxis\":{\"anchor\":\"y\",\"domain\":[0.0,1.0],\"title\":{\"text\":\"Age\"}},\"yaxis\":{\"anchor\":\"x\",\"domain\":[0.0,1.0],\"title\":{\"text\":\"wage\"}},\"legend\":{\"title\":{\"text\":\"gender_str\"},\"tracegroupgap\":0},\"margin\":{\"t\":60},\"title\":{\"text\":\"Wages versus years of age by sex\"}},                        {\"responsive\": true}                    ).then(function(){\n",
              "                            \n",
              "var gd = document.getElementById('75a86901-3f3f-4d37-bca5-a8c02dd45351');\n",
              "var x = new MutationObserver(function (mutations, observer) {{\n",
              "        var display = window.getComputedStyle(gd).display;\n",
              "        if (!display || display === 'none') {{\n",
              "            console.log([gd, 'removed!']);\n",
              "            Plotly.purge(gd);\n",
              "            observer.disconnect();\n",
              "        }}\n",
              "}});\n",
              "\n",
              "// Listen for the removal of the full notebook cells\n",
              "var notebookContainer = gd.closest('#notebook-container');\n",
              "if (notebookContainer) {{\n",
              "    x.observe(notebookContainer, {childList: true});\n",
              "}}\n",
              "\n",
              "// Listen for the clearing of the current output cell\n",
              "var outputEl = gd.closest('.output');\n",
              "if (outputEl) {{\n",
              "    x.observe(outputEl, {childList: true});\n",
              "}}\n",
              "\n",
              "                        })                };                            </script>        </div>\n",
              "</body>\n",
              "</html>"
            ]
          },
          "metadata": {}
        }
      ]
    },
    {
      "cell_type": "markdown",
      "source": [
        "Now, I will like to check for patterns in wages by gender considering the same levels of education. For that, I will create dummies for each level of education in the dataset (bachelor, master, and PhD)."
      ],
      "metadata": {
        "id": "DougRwo-VcaZ"
      }
    },
    {
      "cell_type": "code",
      "execution_count": 72,
      "metadata": {
        "colab": {
          "base_uri": "https://localhost:8080/",
          "height": 472
        },
        "id": "DRpVv7fEAwnn",
        "outputId": "8e6eb58a-3b49-4446-9886-9384099983ee"
      },
      "outputs": [
        {
          "output_type": "display_data",
          "data": {
            "text/plain": [
              "<Figure size 640x480 with 1 Axes>"
            ],
            "image/png": "[encoded data removed]"
          },
          "metadata": {}
        }
      ],
      "source": [
        "# I create dummies for each educational level\n",
        "df_dummies = pd.get_dummies(df['education_str'], prefix='education')\n",
        "\n",
        "# I add these columns to the dataset\n",
        "df = pd.concat([df, df_dummies], axis=1)\n",
        "\n",
        "#Histograms for each educational level \n",
        "plt.hist(data[data['education_str']==\"Bachelor's\"]['wage'], alpha=0.5, color='lightblue', edgecolor='black', label=\"Bachelor\")\n",
        "plt.hist(data[data['education_str']==\"Master's\"]['wage'], alpha=0.5, color='orange', edgecolor='black', label=\"Master\")\n",
        "plt.hist(data[data['education_str']==\"PhD\"]['wage'], alpha=0.5, color='red',edgecolor='black', label=\"PhD\")\n",
        "\n",
        "plt.xlabel('Wages')\n",
        "plt.ylabel('Frequency',fontsize=10)\n",
        "plt.title('Wage distribution for each education level')\n",
        "\n",
        "plt.grid(True)\n",
        "\n",
        "# Add a vertical line for the mean of the distributions \n",
        "plt.plot([data[data['education_str']==\"Master's\"]['wage'].mean(), data[data['education_str']==\"Master's\"]['wage'].mean()], [0, plt.ylim()[1]], '--', color='orange', linewidth=1)\n",
        "plt.plot([data[data['education_str']==\"Bachelor's\"]['wage'].mean(), data[data['education_str']==\"Bachelor's\"]['wage'].mean()], [0, plt.ylim()[1]], '--', color='blue', linewidth=1)\n",
        "plt.plot([data[data['education_str']=='PhD']['wage'].mean(), data[data['education_str']=='PhD']['wage'].mean()], [0, plt.ylim()[1]], '--', color='red', linewidth=1)\n",
        "\n",
        "plt.legend(labels=['Bachelor', 'Master', 'PhD','mean bachelor','mean master','mean PhD'], fontsize=9)        \n",
        "plt.show()\n"
      ]
    },
    {
      "cell_type": "code",
      "source": [
        "# I create separate dataframes\n",
        "data_bachelor = data[data['education_str'] == \"Bachelor's\"]\n",
        "data_master= data[data['education_str'] == \"Master's\"]\n",
        "data_doctor = data[data['education_str'] == \"PhD\"]\n",
        "\n",
        "# Descriptive statistics by gender\n",
        "print(\" Descriptive statistics for bachelor:\\n\",'\\n', data_bachelor['wage'].describe().round(2))\n",
        "print('\\n')\n",
        "print(\" Descriptive statistics for master:\\n\",'\\n', data_master['wage'].describe().round(2))\n",
        "print('\\n')\n",
        "print(\" Descriptive statistics for doctorates:\\n\",'\\n', data_doctor['wage'].describe().round(2))"
      ],
      "metadata": {
        "colab": {
          "base_uri": "https://localhost:8080/"
        },
        "id": "cgk8txbPaOTu",
        "outputId": "fea758aa-da5c-415f-a77c-69488e90ac72"
      },
      "execution_count": 73,
      "outputs": [
        {
          "output_type": "stream",
          "name": "stdout",
          "text": [
            " Descriptive statistics for bachelor:\n",
            " \n",
            " count       224.00\n",
            "mean      74756.03\n",
            "std       34777.27\n",
            "min         350.00\n",
            "25%       45000.00\n",
            "50%       65000.00\n",
            "75%       95000.00\n",
            "max      250000.00\n",
            "Name: wage, dtype: float64\n",
            "\n",
            "\n",
            " Descriptive statistics for master:\n",
            " \n",
            " count        98.00\n",
            "mean     129795.92\n",
            "std       41659.63\n",
            "min       40000.00\n",
            "25%       95000.00\n",
            "50%      120000.00\n",
            "75%      170000.00\n",
            "max      200000.00\n",
            "Name: wage, dtype: float64\n",
            "\n",
            "\n",
            " Descriptive statistics for doctorates:\n",
            " \n",
            " count        51.00\n",
            "mean     157843.14\n",
            "std       23393.48\n",
            "min      110000.00\n",
            "25%      150000.00\n",
            "50%      155000.00\n",
            "75%      160000.00\n",
            "max      250000.00\n",
            "Name: wage, dtype: float64\n"
          ]
        }
      ]
    },
    {
      "cell_type": "markdown",
      "source": [
        "As both the histograms and the descriptivie statistics show, wages vary depending on the eductional level of the worker. \n",
        "\n",
        "\n",
        "*   As analysed before, the more numerous cathegory is bachelor, with 224 registers versus 98 for master, and only 51 for doctorates. \n",
        "\n",
        "*   The median of the distribution increases with th educational level: for bachelor's is 65000 per annum, 120000 for masters, and 155000 for PhD. \n",
        "*   The dispersion of data also vary. Wages for bachelors have the greatest dispersion, followed by PhD, and last masters.\n",
        "\n",
        "\n",
        "So, not only does central tendency values differ among different educational backrounds, but also standar deviation.\n",
        "\n"
      ],
      "metadata": {
        "id": "qJKYy0K2aIRO"
      }
    },
    {
      "cell_type": "code",
      "source": [
        "# Plot\n",
        "fig = px.box(data, x='education_str', y='wage', color='gender_str', points='all')\n",
        "fig.update_traces(quartilemethod=\"exclusive\")\n",
        "fig.update_layout(\n",
        "    title=\"Wages distribution by educational level and sex\"\n",
        ")\n",
        "fig.update_xaxes(title=\"Educational level\")\n",
        "fig.update_yaxes(title='')\n",
        "fig.show()"
      ],
      "metadata": {
        "colab": {
          "base_uri": "https://localhost:8080/",
          "height": 542
        },
        "id": "CMxneVxYWdmn",
        "outputId": "322050b6-7d33-40f4-d6fd-be83f8f3b1aa"
      },
      "execution_count": 52,
      "outputs": [
        {
          "output_type": "display_data",
          "data": {
            "text/html": [
              "<html>\n",
              "<head><meta charset=\"utf-8\" /></head>\n",
              "<body>\n",
              "    <div>            <script src=\"https://cdnjs.cloudflare.com/ajax/libs/mathjax/2.7.5/MathJax.js?config=TeX-AMS-MML_SVG\"></script><script type=\"text/javascript\">if (window.MathJax && window.MathJax.Hub && window.MathJax.Hub.Config) {window.MathJax.Hub.Config({SVG: {font: \"STIX-Web\"}});}</script>                <script type=\"text/javascript\">window.PlotlyConfig = {MathJaxConfig: 'local'};</script>\n",
              "        <script src=\"https://cdn.plot.ly/plotly-2.18.2.min.js\"></script>                <div id=\"5afc0c2e-6dff-46a2-92bc-4bb2750ae2dc\" class=\"plotly-graph-div\" style=\"height:525px; width:100%;\"></div>            <script type=\"text/javascript\">                                    window.PLOTLYENV=window.PLOTLYENV || {};                                    if (document.getElementById(\"5afc0c2e-6dff-46a2-92bc-4bb2750ae2dc\")) {                    Plotly.newPlot(                        \"5afc0c2e-6dff-46a2-92bc-4bb2750ae2dc\",                        [{\"alignmentgroup\":\"True\",\"boxpoints\":\"all\",\"hovertemplate\":\"gender_str=Male<br>education_str=%{x}<br>wage=%{y}<extra></extra>\",\"legendgroup\":\"Male\",\"marker\":{\"color\":\"#636efa\"},\"name\":\"Male\",\"notched\":false,\"offsetgroup\":\"Male\",\"orientation\":\"v\",\"showlegend\":true,\"x\":[\"Bachelor's\",\"PhD\",\"Master's\",\"Bachelor's\",\"Bachelor's\",\"PhD\",\"Master's\",\"Bachelor's\",\"Bachelor's\",\"Bachelor's\",\"PhD\",\"Bachelor's\",\"Master's\",\"Bachelor's\",\"Master's\",\"Bachelor's\",\"Master's\",\"Bachelor's\",\"Master's\",\"PhD\",\"Bachelor's\",\"Master's\",\"Bachelor's\",\"Master's\",\"Bachelor's\",\"Master's\",\"Bachelor's\",\"PhD\",\"Bachelor's\",\"Master's\",\"Master's\",\"Bachelor's\",\"PhD\",\"Master's\",\"Bachelor's\",\"PhD\",\"Bachelor's\",\"Bachelor's\",\"Master's\",\"Bachelor's\",\"PhD\",\"Bachelor's\",\"Bachelor's\",\"Master's\",\"Bachelor's\",\"Bachelor's\",\"PhD\",\"Bachelor's\",\"Master's\",\"PhD\",\"Bachelor's\",\"Bachelor's\",\"PhD\",\"Bachelor's\",\"Bachelor's\",\"Master's\",\"Bachelor's\",\"PhD\",\"Bachelor's\",\"Bachelor's\",\"Bachelor's\",\"Master's\",\"Master's\",\"PhD\",\"Master's\",\"Master's\",\"Bachelor's\",\"Bachelor's\",\"Bachelor's\",\"Master's\",\"Bachelor's\",\"PhD\",\"Bachelor's\",\"Master's\",\"Bachelor's\",\"Bachelor's\",\"Bachelor's\",\"Bachelor's\",\"Bachelor's\",\"Bachelor's\",\"Master's\",\"Master's\",\"Bachelor's\",\"Bachelor's\",\"Master's\",\"Bachelor's\",\"Master's\",\"Bachelor's\",\"Bachelor's\",\"PhD\",\"Master's\",\"Bachelor's\",\"Bachelor's\",\"Bachelor's\",\"Bachelor's\",\"Master's\",\"Master's\",\"Bachelor's\",\"Bachelor's\",\"Bachelor's\",\"Bachelor's\",\"Master's\",\"Bachelor's\",\"Bachelor's\",\"PhD\",\"Master's\",\"Bachelor's\",\"Bachelor's\",\"Bachelor's\",\"Bachelor's\",\"Master's\",\"Master's\",\"Bachelor's\",\"Bachelor's\",\"Bachelor's\",\"Bachelor's\",\"Master's\",\"Bachelor's\",\"Bachelor's\",\"PhD\",\"Master's\",\"Bachelor's\",\"Bachelor's\",\"Bachelor's\",\"Bachelor's\",\"Master's\",\"Bachelor's\",\"Bachelor's\",\"PhD\",\"Bachelor's\",\"Bachelor's\",\"Master's\",\"Master's\",\"Bachelor's\",\"Bachelor's\",\"Bachelor's\",\"Bachelor's\",\"PhD\",\"Bachelor's\",\"Bachelor's\",\"Bachelor's\",\"PhD\",\"Bachelor's\",\"Bachelor's\",\"PhD\",\"Bachelor's\",\"Bachelor's\",\"Master's\",\"Bachelor's\",\"Bachelor's\",\"Bachelor's\",\"Bachelor's\",\"PhD\",\"Bachelor's\",\"Bachelor's\",\"PhD\",\"Bachelor's\",\"Bachelor's\",\"PhD\",\"Bachelor's\",\"Bachelor's\",\"Master's\",\"Bachelor's\",\"Bachelor's\",\"Bachelor's\",\"Bachelor's\",\"Bachelor's\",\"Bachelor's\",\"PhD\",\"Bachelor's\",\"Bachelor's\",\"Master's\",\"Bachelor's\",\"Bachelor's\",\"Master's\",\"Bachelor's\",\"Bachelor's\",\"Master's\",\"Bachelor's\",\"Bachelor's\",\"Master's\",\"Bachelor's\",\"Bachelor's\",\"Master's\",\"Bachelor's\",\"Bachelor's\",\"Master's\",\"Bachelor's\",\"Bachelor's\",\"Master's\",\"Bachelor's\",\"Bachelor's\",\"Master's\",\"Bachelor's\"],\"x0\":\" \",\"xaxis\":\"x\",\"y\":[90000.0,150000.0,200000.0,55000.0,80000.0,110000.0,75000.0,65000.0,40000.0,125000.0,115000.0,180000.0,190000.0,50000.0,140000.0,40000.0,90000.0,250000.0,75000.0,170000.0,45000.0,115000.0,160000.0,190000.0,60000.0,130000.0,75000.0,120000.0,35000.0,85000.0,200000.0,95000.0,140000.0,105000.0,50000.0,180000.0,35000.0,120000.0,90000.0,65000.0,190000.0,40000.0,95000.0,100000.0,70000.0,30000.0,250000.0,45000.0,135000.0,120000.0,105000.0,75000.0,160000.0,35000.0,110000.0,95000.0,50000.0,220000.0,60000.0,40000.0,95000.0,90000.0,95000.0,170000.0,120000.0,180000.0,80000.0,40000.0,110000.0,105000.0,45000.0,160000.0,35000.0,140000.0,60000.0,40000.0,50000.0,135000.0,90000.0,60000.0,175000.0,120000.0,35000.0,110000.0,115000.0,40000.0,175000.0,80000.0,35000.0,150000.0,105000.0,40000.0,140000.0,85000.0,50000.0,170000.0,105000.0,40000.0,130000.0,100000.0,35000.0,170000.0,95000.0,40000.0,155000.0,110000.0,45000.0,130000.0,90000.0,50000.0,170000.0,110000.0,40000.0,130000.0,95000.0,35000.0,170000.0,100000.0,40000.0,160000.0,120000.0,45000.0,120000.0,85000.0,45000.0,140000.0,120000.0,40000.0,150000.0,95000.0,50000.0,170000.0,110000.0,40000.0,130000.0,95000.0,350.0,160000.0,110000.0,95000.0,60000.0,150000.0,90000.0,40000.0,160000.0,95000.0,50000.0,170000.0,100000.0,60000.0,130000.0,65000.0,180000.0,90000.0,60000.0,160000.0,100000.0,55000.0,150000.0,95000.0,50000.0,170000.0,100000.0,60000.0,130000.0,95000.0,120000.0,65000.0,180000.0,100000.0,55000.0,180000.0,130000.0,60000.0,170000.0,90000.0,70000.0,170000.0,150000.0,60000.0,180000.0,110000.0,55000.0,180000.0,130000.0,60000.0,170000.0,90000.0,70000.0,170000.0,150000.0,60000.0,170000.0,90000.0],\"y0\":\" \",\"yaxis\":\"y\",\"type\":\"box\",\"quartilemethod\":\"exclusive\"},{\"alignmentgroup\":\"True\",\"boxpoints\":\"all\",\"hovertemplate\":\"gender_str=Female<br>education_str=%{x}<br>wage=%{y}<extra></extra>\",\"legendgroup\":\"Female\",\"marker\":{\"color\":\"#EF553B\"},\"name\":\"Female\",\"notched\":false,\"offsetgroup\":\"Female\",\"orientation\":\"v\",\"showlegend\":true,\"x\":[\"Master's\",\"Bachelor's\",\"Master's\",\"Bachelor's\",\"Bachelor's\",\"Master's\",\"Master's\",\"Bachelor's\",\"Master's\",\"Bachelor's\",\"Bachelor's\",\"Master's\",\"PhD\",\"Bachelor's\",\"Bachelor's\",\"Bachelor's\",\"Bachelor's\",\"Master's\",\"Bachelor's\",\"Bachelor's\",\"Master's\",\"Bachelor's\",\"Bachelor's\",\"Bachelor's\",\"Master's\",\"Bachelor's\",\"Master's\",\"Bachelor's\",\"Master's\",\"Bachelor's\",\"Master's\",\"Bachelor's\",\"Master's\",\"Bachelor's\",\"Master's\",\"Bachelor's\",\"Master's\",\"Bachelor's\",\"Master's\",\"Bachelor's\",\"Bachelor's\",\"Bachelor's\",\"Master's\",\"Bachelor's\",\"Master's\",\"Bachelor's\",\"Master's\",\"Master's\",\"Bachelor's\",\"Master's\",\"Master's\",\"Bachelor's\",\"Bachelor's\",\"Bachelor's\",\"Bachelor's\",\"Bachelor's\",\"Bachelor's\",\"PhD\",\"Master's\",\"Bachelor's\",\"Master's\",\"Master's\",\"Bachelor's\",\"Bachelor's\",\"Master's\",\"Master's\",\"Master's\",\"PhD\",\"Bachelor's\",\"Bachelor's\",\"PhD\",\"Master's\",\"Bachelor's\",\"PhD\",\"Bachelor's\",\"Bachelor's\",\"Master's\",\"Bachelor's\",\"Bachelor's\",\"Master's\",\"Master's\",\"PhD\",\"Bachelor's\",\"Bachelor's\",\"PhD\",\"Bachelor's\",\"Master's\",\"PhD\",\"Bachelor's\",\"Bachelor's\",\"Master's\",\"Bachelor's\",\"Bachelor's\",\"Master's\",\"Master's\",\"PhD\",\"Bachelor's\",\"Bachelor's\",\"PhD\",\"Bachelor's\",\"Master's\",\"PhD\",\"Bachelor's\",\"Bachelor's\",\"Master's\",\"Bachelor's\",\"Bachelor's\",\"Master's\",\"Master's\",\"PhD\",\"Bachelor's\",\"Bachelor's\",\"PhD\",\"Bachelor's\",\"Bachelor's\",\"Master's\",\"Bachelor's\",\"Bachelor's\",\"PhD\",\"Bachelor's\",\"Master's\",\"PhD\",\"Bachelor's\",\"Bachelor's\",\"Bachelor's\",\"Master's\",\"Bachelor's\",\"Bachelor's\",\"Master's\",\"Bachelor's\",\"Bachelor's\",\"Master's\",\"Bachelor's\",\"Bachelor's\",\"PhD\",\"Bachelor's\",\"Bachelor's\",\"Bachelor's\",\"Master's\",\"Bachelor's\",\"Bachelor's\",\"Master's\",\"Bachelor's\",\"Bachelor's\",\"Master's\",\"Bachelor's\",\"Bachelor's\",\"PhD\",\"Bachelor's\",\"Master's\",\"Bachelor's\",\"Master's\",\"Bachelor's\",\"Bachelor's\",\"PhD\",\"Bachelor's\",\"Bachelor's\",\"PhD\",\"Bachelor's\",\"Bachelor's\",\"PhD\",\"Bachelor's\",\"Bachelor's\",\"PhD\",\"Bachelor's\",\"Bachelor's\",\"PhD\",\"Bachelor's\",\"Bachelor's\",\"PhD\",\"Bachelor's\",\"Bachelor's\",\"PhD\",\"Bachelor's\",\"Bachelor's\",\"PhD\",\"Bachelor's\",\"Bachelor's\",\"PhD\"],\"x0\":\" \",\"xaxis\":\"x\",\"y\":[65000.0,60000.0,120000.0,45000.0,140000.0,130000.0,90000.0,35000.0,80000.0,60000.0,45000.0,110000.0,140000.0,55000.0,65000.0,60000.0,40000.0,80000.0,45000.0,40000.0,180000.0,130000.0,60000.0,50000.0,65000.0,55000.0,170000.0,80000.0,90000.0,45000.0,150000.0,70000.0,120000.0,160000.0,180000.0,55000.0,80000.0,40000.0,95000.0,80000.0,55000.0,40000.0,170000.0,65000.0,90000.0,45000.0,150000.0,80000.0,50000.0,100000.0,110000.0,130000.0,35000.0,65000.0,45000.0,100000.0,50000.0,140000.0,95000.0,50000.0,160000.0,100000.0,55000.0,50000.0,120000.0,110000.0,40000.0,150000.0,80000.0,45000.0,140000.0,95000.0,50000.0,185000.0,90000.0,45000.0,120000.0,110000.0,50000.0,180000.0,45000.0,140000.0,80000.0,40000.0,145000.0,85000.0,95000.0,180000.0,95000.0,45000.0,120000.0,90000.0,55000.0,180000.0,45000.0,160000.0,120000.0,40000.0,150000.0,85000.0,100000.0,180000.0,100000.0,45000.0,140000.0,105000.0,70000.0,190000.0,50000.0,140000.0,100000.0,70000.0,160000.0,120000.0,70000.0,180000.0,95000.0,40000.0,150000.0,85000.0,100000.0,180000.0,120000.0,50000.0,40000.0,140000.0,110000.0,60000.0,180000.0,120000.0,70000.0,180000.0,95000.0,35000.0,150000.0,85000.0,110000.0,40000.0,140000.0,130000.0,40000.0,180000.0,120000.0,70000.0,180000.0,120000.0,35000.0,150000.0,85000.0,80000.0,40000.0,160000.0,130000.0,40000.0,150000.0,110000.0,50000.0,160000.0,95000.0,40000.0,150000.0,90000.0,50000.0,160000.0,85000.0,35000.0,160000.0,110000.0,50000.0,160000.0,95000.0,40000.0,150000.0,90000.0,50000.0,160000.0,85000.0,40000.0,150000.0],\"y0\":\" \",\"yaxis\":\"y\",\"type\":\"box\",\"quartilemethod\":\"exclusive\"}],                        {\"template\":{\"data\":{\"histogram2dcontour\":[{\"type\":\"histogram2dcontour\",\"colorbar\":{\"outlinewidth\":0,\"ticks\":\"\"},\"colorscale\":[[0.0,\"#0d0887\"],[0.1111111111111111,\"#46039f\"],[0.2222222222222222,\"#7201a8\"],[0.3333333333333333,\"#9c179e\"],[0.4444444444444444,\"#bd3786\"],[0.5555555555555556,\"#d8576b\"],[0.6666666666666666,\"#ed7953\"],[0.7777777777777778,\"#fb9f3a\"],[0.8888888888888888,\"#fdca26\"],[1.0,\"#f0f921\"]]}],\"choropleth\":[{\"type\":\"choropleth\",\"colorbar\":{\"outlinewidth\":0,\"ticks\":\"\"}}],\"histogram2d\":[{\"type\":\"histogram2d\",\"colorbar\":{\"outlinewidth\":0,\"ticks\":\"\"},\"colorscale\":[[0.0,\"#0d0887\"],[0.1111111111111111,\"#46039f\"],[0.2222222222222222,\"#7201a8\"],[0.3333333333333333,\"#9c179e\"],[0.4444444444444444,\"#bd3786\"],[0.5555555555555556,\"#d8576b\"],[0.6666666666666666,\"#ed7953\"],[0.7777777777777778,\"#fb9f3a\"],[0.8888888888888888,\"#fdca26\"],[1.0,\"#f0f921\"]]}],\"heatmap\":[{\"type\":\"heatmap\",\"colorbar\":{\"outlinewidth\":0,\"ticks\":\"\"},\"colorscale\":[[0.0,\"#0d0887\"],[0.1111111111111111,\"#46039f\"],[0.2222222222222222,\"#7201a8\"],[0.3333333333333333,\"#9c179e\"],[0.4444444444444444,\"#bd3786\"],[0.5555555555555556,\"#d8576b\"],[0.6666666666666666,\"#ed7953\"],[0.7777777777777778,\"#fb9f3a\"],[0.8888888888888888,\"#fdca26\"],[1.0,\"#f0f921\"]]}],\"heatmapgl\":[{\"type\":\"heatmapgl\",\"colorbar\":{\"outlinewidth\":0,\"ticks\":\"\"},\"colorscale\":[[0.0,\"#0d0887\"],[0.1111111111111111,\"#46039f\"],[0.2222222222222222,\"#7201a8\"],[0.3333333333333333,\"#9c179e\"],[0.4444444444444444,\"#bd3786\"],[0.5555555555555556,\"#d8576b\"],[0.6666666666666666,\"#ed7953\"],[0.7777777777777778,\"#fb9f3a\"],[0.8888888888888888,\"#fdca26\"],[1.0,\"#f0f921\"]]}],\"contourcarpet\":[{\"type\":\"contourcarpet\",\"colorbar\":{\"outlinewidth\":0,\"ticks\":\"\"}}],\"contour\":[{\"type\":\"contour\",\"colorbar\":{\"outlinewidth\":0,\"ticks\":\"\"},\"colorscale\":[[0.0,\"#0d0887\"],[0.1111111111111111,\"#46039f\"],[0.2222222222222222,\"#7201a8\"],[0.3333333333333333,\"#9c179e\"],[0.4444444444444444,\"#bd3786\"],[0.5555555555555556,\"#d8576b\"],[0.6666666666666666,\"#ed7953\"],[0.7777777777777778,\"#fb9f3a\"],[0.8888888888888888,\"#fdca26\"],[1.0,\"#f0f921\"]]}],\"surface\":[{\"type\":\"surface\",\"colorbar\":{\"outlinewidth\":0,\"ticks\":\"\"},\"colorscale\":[[0.0,\"#0d0887\"],[0.1111111111111111,\"#46039f\"],[0.2222222222222222,\"#7201a8\"],[0.3333333333333333,\"#9c179e\"],[0.4444444444444444,\"#bd3786\"],[0.5555555555555556,\"#d8576b\"],[0.6666666666666666,\"#ed7953\"],[0.7777777777777778,\"#fb9f3a\"],[0.8888888888888888,\"#fdca26\"],[1.0,\"#f0f921\"]]}],\"mesh3d\":[{\"type\":\"mesh3d\",\"colorbar\":{\"outlinewidth\":0,\"ticks\":\"\"}}],\"scatter\":[{\"fillpattern\":{\"fillmode\":\"overlay\",\"size\":10,\"solidity\":0.2},\"type\":\"scatter\"}],\"parcoords\":[{\"type\":\"parcoords\",\"line\":{\"colorbar\":{\"outlinewidth\":0,\"ticks\":\"\"}}}],\"scatterpolargl\":[{\"type\":\"scatterpolargl\",\"marker\":{\"colorbar\":{\"outlinewidth\":0,\"ticks\":\"\"}}}],\"bar\":[{\"error_x\":{\"color\":\"#2a3f5f\"},\"error_y\":{\"color\":\"#2a3f5f\"},\"marker\":{\"line\":{\"color\":\"#E5ECF6\",\"width\":0.5},\"pattern\":{\"fillmode\":\"overlay\",\"size\":10,\"solidity\":0.2}},\"type\":\"bar\"}],\"scattergeo\":[{\"type\":\"scattergeo\",\"marker\":{\"colorbar\":{\"outlinewidth\":0,\"ticks\":\"\"}}}],\"scatterpolar\":[{\"type\":\"scatterpolar\",\"marker\":{\"colorbar\":{\"outlinewidth\":0,\"ticks\":\"\"}}}],\"histogram\":[{\"marker\":{\"pattern\":{\"fillmode\":\"overlay\",\"size\":10,\"solidity\":0.2}},\"type\":\"histogram\"}],\"scattergl\":[{\"type\":\"scattergl\",\"marker\":{\"colorbar\":{\"outlinewidth\":0,\"ticks\":\"\"}}}],\"scatter3d\":[{\"type\":\"scatter3d\",\"line\":{\"colorbar\":{\"outlinewidth\":0,\"ticks\":\"\"}},\"marker\":{\"colorbar\":{\"outlinewidth\":0,\"ticks\":\"\"}}}],\"scattermapbox\":[{\"type\":\"scattermapbox\",\"marker\":{\"colorbar\":{\"outlinewidth\":0,\"ticks\":\"\"}}}],\"scatterternary\":[{\"type\":\"scatterternary\",\"marker\":{\"colorbar\":{\"outlinewidth\":0,\"ticks\":\"\"}}}],\"scattercarpet\":[{\"type\":\"scattercarpet\",\"marker\":{\"colorbar\":{\"outlinewidth\":0,\"ticks\":\"\"}}}],\"carpet\":[{\"aaxis\":{\"endlinecolor\":\"#2a3f5f\",\"gridcolor\":\"white\",\"linecolor\":\"white\",\"minorgridcolor\":\"white\",\"startlinecolor\":\"#2a3f5f\"},\"baxis\":{\"endlinecolor\":\"#2a3f5f\",\"gridcolor\":\"white\",\"linecolor\":\"white\",\"minorgridcolor\":\"white\",\"startlinecolor\":\"#2a3f5f\"},\"type\":\"carpet\"}],\"table\":[{\"cells\":{\"fill\":{\"color\":\"#EBF0F8\"},\"line\":{\"color\":\"white\"}},\"header\":{\"fill\":{\"color\":\"#C8D4E3\"},\"line\":{\"color\":\"white\"}},\"type\":\"table\"}],\"barpolar\":[{\"marker\":{\"line\":{\"color\":\"#E5ECF6\",\"width\":0.5},\"pattern\":{\"fillmode\":\"overlay\",\"size\":10,\"solidity\":0.2}},\"type\":\"barpolar\"}],\"pie\":[{\"automargin\":true,\"type\":\"pie\"}]},\"layout\":{\"autotypenumbers\":\"strict\",\"colorway\":[\"#636efa\",\"#EF553B\",\"#00cc96\",\"#ab63fa\",\"#FFA15A\",\"#19d3f3\",\"#FF6692\",\"#B6E880\",\"#FF97FF\",\"#FECB52\"],\"font\":{\"color\":\"#2a3f5f\"},\"hovermode\":\"closest\",\"hoverlabel\":{\"align\":\"left\"},\"paper_bgcolor\":\"white\",\"plot_bgcolor\":\"#E5ECF6\",\"polar\":{\"bgcolor\":\"#E5ECF6\",\"angularaxis\":{\"gridcolor\":\"white\",\"linecolor\":\"white\",\"ticks\":\"\"},\"radialaxis\":{\"gridcolor\":\"white\",\"linecolor\":\"white\",\"ticks\":\"\"}},\"ternary\":{\"bgcolor\":\"#E5ECF6\",\"aaxis\":{\"gridcolor\":\"white\",\"linecolor\":\"white\",\"ticks\":\"\"},\"baxis\":{\"gridcolor\":\"white\",\"linecolor\":\"white\",\"ticks\":\"\"},\"caxis\":{\"gridcolor\":\"white\",\"linecolor\":\"white\",\"ticks\":\"\"}},\"coloraxis\":{\"colorbar\":{\"outlinewidth\":0,\"ticks\":\"\"}},\"colorscale\":{\"sequential\":[[0.0,\"#0d0887\"],[0.1111111111111111,\"#46039f\"],[0.2222222222222222,\"#7201a8\"],[0.3333333333333333,\"#9c179e\"],[0.4444444444444444,\"#bd3786\"],[0.5555555555555556,\"#d8576b\"],[0.6666666666666666,\"#ed7953\"],[0.7777777777777778,\"#fb9f3a\"],[0.8888888888888888,\"#fdca26\"],[1.0,\"#f0f921\"]],\"sequentialminus\":[[0.0,\"#0d0887\"],[0.1111111111111111,\"#46039f\"],[0.2222222222222222,\"#7201a8\"],[0.3333333333333333,\"#9c179e\"],[0.4444444444444444,\"#bd3786\"],[0.5555555555555556,\"#d8576b\"],[0.6666666666666666,\"#ed7953\"],[0.7777777777777778,\"#fb9f3a\"],[0.8888888888888888,\"#fdca26\"],[1.0,\"#f0f921\"]],\"diverging\":[[0,\"#8e0152\"],[0.1,\"#c51b7d\"],[0.2,\"#de77ae\"],[0.3,\"#f1b6da\"],[0.4,\"#fde0ef\"],[0.5,\"#f7f7f7\"],[0.6,\"#e6f5d0\"],[0.7,\"#b8e186\"],[0.8,\"#7fbc41\"],[0.9,\"#4d9221\"],[1,\"#276419\"]]},\"xaxis\":{\"gridcolor\":\"white\",\"linecolor\":\"white\",\"ticks\":\"\",\"title\":{\"standoff\":15},\"zerolinecolor\":\"white\",\"automargin\":true,\"zerolinewidth\":2},\"yaxis\":{\"gridcolor\":\"white\",\"linecolor\":\"white\",\"ticks\":\"\",\"title\":{\"standoff\":15},\"zerolinecolor\":\"white\",\"automargin\":true,\"zerolinewidth\":2},\"scene\":{\"xaxis\":{\"backgroundcolor\":\"#E5ECF6\",\"gridcolor\":\"white\",\"linecolor\":\"white\",\"showbackground\":true,\"ticks\":\"\",\"zerolinecolor\":\"white\",\"gridwidth\":2},\"yaxis\":{\"backgroundcolor\":\"#E5ECF6\",\"gridcolor\":\"white\",\"linecolor\":\"white\",\"showbackground\":true,\"ticks\":\"\",\"zerolinecolor\":\"white\",\"gridwidth\":2},\"zaxis\":{\"backgroundcolor\":\"#E5ECF6\",\"gridcolor\":\"white\",\"linecolor\":\"white\",\"showbackground\":true,\"ticks\":\"\",\"zerolinecolor\":\"white\",\"gridwidth\":2}},\"shapedefaults\":{\"line\":{\"color\":\"#2a3f5f\"}},\"annotationdefaults\":{\"arrowcolor\":\"#2a3f5f\",\"arrowhead\":0,\"arrowwidth\":1},\"geo\":{\"bgcolor\":\"white\",\"landcolor\":\"#E5ECF6\",\"subunitcolor\":\"white\",\"showland\":true,\"showlakes\":true,\"lakecolor\":\"white\"},\"title\":{\"x\":0.05},\"mapbox\":{\"style\":\"light\"}}},\"xaxis\":{\"anchor\":\"y\",\"domain\":[0.0,1.0],\"title\":{\"text\":\"Educational level\"}},\"yaxis\":{\"anchor\":\"x\",\"domain\":[0.0,1.0],\"title\":{\"text\":\"\"}},\"legend\":{\"title\":{\"text\":\"gender_str\"},\"tracegroupgap\":0},\"margin\":{\"t\":60},\"boxmode\":\"group\",\"title\":{\"text\":\"Wages distribution by educational level and sex\"}},                        {\"responsive\": true}                    ).then(function(){\n",
              "                            \n",
              "var gd = document.getElementById('5afc0c2e-6dff-46a2-92bc-4bb2750ae2dc');\n",
              "var x = new MutationObserver(function (mutations, observer) {{\n",
              "        var display = window.getComputedStyle(gd).display;\n",
              "        if (!display || display === 'none') {{\n",
              "            console.log([gd, 'removed!']);\n",
              "            Plotly.purge(gd);\n",
              "            observer.disconnect();\n",
              "        }}\n",
              "}});\n",
              "\n",
              "// Listen for the removal of the full notebook cells\n",
              "var notebookContainer = gd.closest('#notebook-container');\n",
              "if (notebookContainer) {{\n",
              "    x.observe(notebookContainer, {childList: true});\n",
              "}}\n",
              "\n",
              "// Listen for the clearing of the current output cell\n",
              "var outputEl = gd.closest('.output');\n",
              "if (outputEl) {{\n",
              "    x.observe(outputEl, {childList: true});\n",
              "}}\n",
              "\n",
              "                        })                };                            </script>        </div>\n",
              "</body>\n",
              "</html>"
            ]
          },
          "metadata": {}
        }
      ]
    },
    {
      "cell_type": "markdown",
      "source": [
        "This pattern can also be seen when introduced the `gender_str` variable. Although some particularities appear when analysed visually: \n",
        "*   For women with a bachelor or PhD, the wages posibilities are less disperse than their male counterparts\n",
        "*   In the case of master's, the reverse holds true: women have a more variable  wage distribution than men. \n",
        "*   For people with a master level, males will likely have a higher wage than a women."
      ],
      "metadata": {
        "id": "pr_JHy9QcpEr"
      }
    },
    {
      "cell_type": "markdown",
      "source": [
        "In "
      ],
      "metadata": {
        "id": "xJNcFWNxWRk_"
      }
    }
  ],
  "metadata": {
    "colab": {
      "provenance": [],
      "collapsed_sections": [
        "YUFqaQkp3Tc5",
        "D9NFgUhsNldu"
      ]
    },
    "kernelspec": {
      "display_name": "Python 3",
      "name": "python3"
    },
    "language_info": {
      "name": "python"
    }
  },
  "nbformat": 4,
  "nbformat_minor": 0
}